{
  "nbformat": 4,
  "nbformat_minor": 0,
  "metadata": {
    "colab": {
      "name": "Algorithms_JScheurwater_2021.ipynb",
      "provenance": [],
      "collapsed_sections": [],
      "toc_visible": true,
      "include_colab_link": true
    },
    "kernelspec": {
      "display_name": "Python 3",
      "name": "python3"
    }
  },
  "cells": [
    {
      "cell_type": "markdown",
      "metadata": {
        "id": "view-in-github",
        "colab_type": "text"
      },
      "source": [
        "<a href=\"https://colab.research.google.com/github/Bovi-analytics/scheurwater-et-al-2021/blob/main/Peak_detection_algorithm.ipynb\" target=\"_parent\"><img src=\"https://colab.research.google.com/assets/colab-badge.svg\" alt=\"Open In Colab\"/></a>"
      ]
    },
    {
      "cell_type": "markdown",
      "metadata": {
        "id": "MROm8RgH0pb9"
      },
      "source": [
        "# Notebook for the algorithm\n",
        "\n",
        "This is a Google Colab Notebook. It has a google machine in the back which will activate the moment you click the play button from the first cell. You can run cells seperately, or all after eachother, it allows you to prototype much easier then using the PyCharm.\n",
        "\n",
        "The notebook can be shared and editted by multiple people. If you want to work in your own version, you can make a copy of the notebook first."
      ]
    },
    {
      "cell_type": "markdown",
      "metadata": {
        "id": "WQHVFkd_ZcBs"
      },
      "source": [
        "#GDrive\n",
        "You need to make a link with the data. This is all stored in your google drive , or in the case of this notebook a bovi-analytics folder.\n",
        "\n",
        "First run the cell underneath, then open the link in the output and copy the code underneath. That way, the Google Drive is connected."
      ]
    },
    {
      "cell_type": "code",
      "metadata": {
        "colab": {
          "base_uri": "https://localhost:8080/"
        },
        "id": "SiNP_qsYZbLs",
        "outputId": "328afae6-9ee5-4b83-e136-832c4a9e6e0d"
      },
      "source": [
        "from google.colab import drive \n",
        "drive.mount('/content/gdrive') "
      ],
      "execution_count": null,
      "outputs": [
        {
          "output_type": "stream",
          "text": [
            "Mounted at /content/gdrive\n"
          ],
          "name": "stdout"
        }
      ]
    },
    {
      "cell_type": "markdown",
      "metadata": {
        "id": "Dm_jCmj7At96"
      },
      "source": [
        "# Import libraries"
      ]
    },
    {
      "cell_type": "code",
      "metadata": {
        "id": "6RPBeG88Xcz1"
      },
      "source": [
        "#import general libraries\n",
        "import os\n",
        "import glob\n",
        "import pandas as pd\n",
        "import numpy as np\n",
        "import matplotlib.pyplot as plt\n",
        "import seaborn as sns\n",
        "from datetime import datetime\n",
        "from scipy.stats import iqr\n",
        "from scipy.stats import mode\n",
        "from scipy.signal import welch\n",
        "from scipy.fftpack import fft\n",
        "from scipy import signal"
      ],
      "execution_count": null,
      "outputs": []
    },
    {
      "cell_type": "code",
      "metadata": {
        "id": "oeImDZLP78jH",
        "colab": {
          "base_uri": "https://localhost:8080/"
        },
        "outputId": "18ae22a2-f93b-4a7c-eb93-2e859554c232"
      },
      "source": [
        "from sklearn import metrics \n",
        "from sklearn.metrics import *\n",
        "from sklearn.metrics import confusion_matrix\n",
        "from sklearn.metrics import accuracy_score \n",
        "from sklearn.metrics import classification_report \n",
        "from sklearn.model_selection import train_test_split\n",
        "from sklearn.model_selection import StratifiedKFold\n",
        "from sklearn.preprocessing import StandardScaler\n",
        "from sklearn.ensemble import RandomForestClassifier\n",
        "from sklearn.externals import joblib\n",
        "from sklearn.utils import resample\n",
        "\n"
      ],
      "execution_count": null,
      "outputs": [
        {
          "output_type": "stream",
          "text": [
            "/usr/local/lib/python3.6/dist-packages/sklearn/externals/joblib/__init__.py:15: FutureWarning: sklearn.externals.joblib is deprecated in 0.21 and will be removed in 0.23. Please import this functionality directly from joblib, which can be installed with: pip install joblib. If this warning is raised when loading pickled models, you may need to re-serialize those models with scikit-learn 0.21+.\n",
            "  warnings.warn(msg, category=FutureWarning)\n"
          ],
          "name": "stderr"
        }
      ]
    },
    {
      "cell_type": "markdown",
      "metadata": {
        "id": "1u1Xv3LxeLBQ"
      },
      "source": [
        "# Set directories"
      ]
    },
    {
      "cell_type": "code",
      "metadata": {
        "id": "4XEH4X1rYgly"
      },
      "source": [
        "#define directories\n",
        "base_dir = '/content/gdrive/Shared drives/Bovi-Analytics/Projects/JosjeScheurwater/ProjectPicoLog'\n",
        "output_dir = '/data/out/'\n",
        "input_dir = '/data/in/traintest/picologs/'\n",
        "video_dir= '/data/in/traintest/videos/'\n",
        "output_path = base_dir + output_dir\n",
        "input_path = base_dir + input_dir\n",
        "video_path = base_dir + video_dir\n"
      ],
      "execution_count": null,
      "outputs": []
    },
    {
      "cell_type": "code",
      "metadata": {
        "id": "aAxIKxdeYnQ2"
      },
      "source": [
        "#create output directory\n",
        "if os.path.isdir ( output_path ):\n",
        "    pass\n",
        "else:\n",
        "    os.mkdir (output_path )"
      ],
      "execution_count": null,
      "outputs": []
    },
    {
      "cell_type": "code",
      "metadata": {
        "colab": {
          "base_uri": "https://localhost:8080/"
        },
        "id": "uBDpWvipbHfB",
        "outputId": "b7e1fe13-7912-4968-9bf7-7afa59d443cb"
      },
      "source": [
        "#remove old output file\n",
        "for f in os.listdir(output_path):\n",
        "    print('Existing file : ' + f)\n",
        "    oldfile = output_path + f\n",
        "    if os.path.isfile(oldfile):\n",
        "        os.remove(oldfile)\n",
        "        print('Removed : ' + oldfile)\n",
        "    else:\n",
        "        pass\n",
        "        print('Did not remove : ' + oldfile)"
      ],
      "execution_count": null,
      "outputs": [
        {
          "output_type": "stream",
          "text": [
            "Existing file : ylva\n",
            "Did not remove : /content/gdrive/Shared drives/Bovi-Analytics/Projects/JosjeScheurwater/ProjectPicoLog/data/out/ylva\n",
            "Existing file : processed_raw_data_pico_20190412_2_0708.csv\n",
            "Removed : /content/gdrive/Shared drives/Bovi-Analytics/Projects/JosjeScheurwater/ProjectPicoLog/data/out/processed_raw_data_pico_20190412_2_0708.csv\n",
            "Existing file : processed_raw_data_pico_20190415_0708.csv\n",
            "Removed : /content/gdrive/Shared drives/Bovi-Analytics/Projects/JosjeScheurwater/ProjectPicoLog/data/out/processed_raw_data_pico_20190415_0708.csv\n",
            "Existing file : processed_raw_data_pico_20190412_1_0708.csv\n",
            "Removed : /content/gdrive/Shared drives/Bovi-Analytics/Projects/JosjeScheurwater/ProjectPicoLog/data/out/processed_raw_data_pico_20190412_1_0708.csv\n",
            "Existing file : processed_raw_data_pico_20190411_1_0708.csv\n",
            "Removed : /content/gdrive/Shared drives/Bovi-Analytics/Projects/JosjeScheurwater/ProjectPicoLog/data/out/processed_raw_data_pico_20190411_1_0708.csv\n",
            "Existing file : processed_raw_data_pico_20190411_2_0708.csv\n",
            "Removed : /content/gdrive/Shared drives/Bovi-Analytics/Projects/JosjeScheurwater/ProjectPicoLog/data/out/processed_raw_data_pico_20190411_2_0708.csv\n",
            "Existing file : processed_raw_data_pico_20190405_2_0708.csv\n",
            "Removed : /content/gdrive/Shared drives/Bovi-Analytics/Projects/JosjeScheurwater/ProjectPicoLog/data/out/processed_raw_data_pico_20190405_2_0708.csv\n",
            "Existing file : processed_raw_data_pico_20190405_1_0708.csv\n",
            "Removed : /content/gdrive/Shared drives/Bovi-Analytics/Projects/JosjeScheurwater/ProjectPicoLog/data/out/processed_raw_data_pico_20190405_1_0708.csv\n",
            "Existing file : processed_raw_data_pico_20190403_2_0708.csv\n",
            "Removed : /content/gdrive/Shared drives/Bovi-Analytics/Projects/JosjeScheurwater/ProjectPicoLog/data/out/processed_raw_data_pico_20190403_2_0708.csv\n",
            "Existing file : processed_raw_data_pico_20190304_0708.csv\n",
            "Removed : /content/gdrive/Shared drives/Bovi-Analytics/Projects/JosjeScheurwater/ProjectPicoLog/data/out/processed_raw_data_pico_20190304_0708.csv\n",
            "Existing file : processed_raw_data_pico_20190403_1_0708.csv\n",
            "Removed : /content/gdrive/Shared drives/Bovi-Analytics/Projects/JosjeScheurwater/ProjectPicoLog/data/out/processed_raw_data_pico_20190403_1_0708.csv\n",
            "Existing file : processed_raw_data_pico_20190301_0708.csv\n",
            "Removed : /content/gdrive/Shared drives/Bovi-Analytics/Projects/JosjeScheurwater/ProjectPicoLog/data/out/processed_raw_data_pico_20190301_0708.csv\n",
            "Existing file : processed_raw_data_pico_20190305_0708.csv\n",
            "Removed : /content/gdrive/Shared drives/Bovi-Analytics/Projects/JosjeScheurwater/ProjectPicoLog/data/out/processed_raw_data_pico_20190305_0708.csv\n",
            "Existing file : processed_raw_data_pico_20190227_0708.csv\n",
            "Removed : /content/gdrive/Shared drives/Bovi-Analytics/Projects/JosjeScheurwater/ProjectPicoLog/data/out/processed_raw_data_pico_20190227_0708.csv\n",
            "Existing file : processed_raw_data_pico_20190226_0708.csv\n",
            "Removed : /content/gdrive/Shared drives/Bovi-Analytics/Projects/JosjeScheurwater/ProjectPicoLog/data/out/processed_raw_data_pico_20190226_0708.csv\n",
            "Existing file : processed_raw_data_pico_20190218_3_0708.csv\n",
            "Removed : /content/gdrive/Shared drives/Bovi-Analytics/Projects/JosjeScheurwater/ProjectPicoLog/data/out/processed_raw_data_pico_20190218_3_0708.csv\n",
            "Existing file : processed_raw_data_pico_20190218_1_0708.csv\n",
            "Removed : /content/gdrive/Shared drives/Bovi-Analytics/Projects/JosjeScheurwater/ProjectPicoLog/data/out/processed_raw_data_pico_20190218_1_0708.csv\n",
            "Existing file : processed_raw_data_pico_20190205_0708.csv\n",
            "Removed : /content/gdrive/Shared drives/Bovi-Analytics/Projects/JosjeScheurwater/ProjectPicoLog/data/out/processed_raw_data_pico_20190205_0708.csv\n",
            "Existing file : processed_raw_data_pico_20190225_0708.csv\n",
            "Removed : /content/gdrive/Shared drives/Bovi-Analytics/Projects/JosjeScheurwater/ProjectPicoLog/data/out/processed_raw_data_pico_20190225_0708.csv\n"
          ],
          "name": "stdout"
        }
      ]
    },
    {
      "cell_type": "markdown",
      "metadata": {
        "id": "Ol9ZN3e9KMKz"
      },
      "source": [
        "# Peak_detection_algorithm"
      ]
    },
    {
      "cell_type": "markdown",
      "metadata": {
        "id": "leKIwy_23HoI"
      },
      "source": [
        "## Algorithm function"
      ]
    },
    {
      "cell_type": "code",
      "metadata": {
        "id": "XhjspdZtAPcr"
      },
      "source": [
        "def picoalgorithm_gain(data, gain_peakdetection = 9,col=0):\n",
        "    #data window paramters, 0,5s per sample\n",
        "    start = 1\n",
        "    Data = 0\n",
        "    Rumination = 0\n",
        "    PeakValue = 0\n",
        "    PressureDetected = 0\n",
        "    LowTimeCounterHold = 0\n",
        "\n",
        "    #peak detection parameters\n",
        "    Slope_Rise = 2 * gain_peakdetection;\n",
        "    Slope_Fall = gain_peakdetection;\n",
        "    Actual_Rise = float(0)\n",
        "    Actual_Fall = float(0)\n",
        "\n",
        "    #rumination detection parameters\n",
        "    State = 1\n",
        "    Timer_D = 0\n",
        "    Timer_E = 0\n",
        "    Timer_F = 0\n",
        "    Pulse_High_flank = 0\n",
        "    Rumination_Time = 10  # 0,5s samplerate -> 5s\n",
        "    D = 10  # 0,5s samplerate -> 5s\n",
        "    E = 30  # 0,5s samplerate -> 15s\n",
        "    F = 10  # 0,5s samplerate -> 5s\n",
        "    Pulse_detected = 0\n",
        "    Pulse_detected_old = 0\n",
        "\n",
        "    #low time parameters\n",
        "    Lowtime_counter = 0\n",
        "\n",
        "    #moving average filter\n",
        "    MA_Filter = 0\n",
        "    Baseline = 0\n",
        "    Windowsize = 150\n",
        "    Highest_peak = 0\n",
        "\n",
        "    #high pressure detection parameters\n",
        "    High_Pressure_level = 3500\n",
        "\n",
        "    #loop for pulse detection\n",
        "    for i in range(1,np.size(data[:, col])):\n",
        "        Actual_Rise = data[i - 8, col] - data[i - 5, col]\n",
        "        Actual_Fall = data[i - 8, col] - data[i - 10, col]\n",
        "\n",
        "        #measure highest peak\n",
        "        if ((data[i, col] - Baseline) > Highest_peak and i > (Windowsize + 10)):\n",
        "            Highest_peak = (data[i, col] - Baseline)\n",
        "\n",
        "        #calculating moving average filter\n",
        "        MA_Filter = 0\n",
        "        if i > Windowsize:\n",
        "            for j in range(1, Windowsize):\n",
        "                MA_Filter = MA_Filter + data[i - j, col]\n",
        "            Baseline = int(MA_Filter / Windowsize)\n",
        "            data[i, 5] = Baseline\n",
        "\n",
        "        #high pressure level detection\n",
        "        if ((data[i, col] - Baseline) > High_Pressure_level):\n",
        "            data[i, 8] = 1000\n",
        "\n",
        "        Pulse_detected = 0\n",
        "        if Actual_Rise >= Slope_Rise and Actual_Fall >= Slope_Fall:\n",
        "            Pulse_detected = 1\n",
        "\n",
        "        #flank detection\n",
        "        if Pulse_detected_old == 0 and Pulse_detected == 1:\n",
        "            Pulse_High_flank = 1\n",
        "        Pulse_detected_old = Pulse_detected\n",
        "        Pulse_detected = 0\n",
        "        data[i, 1] = Pulse_High_flank\n",
        "        data[i, 2] = State\n",
        "        data[i, 4] = LowTimeCounterHold\n",
        "\n",
        "        if State == 1:  #wait for minimal low time\n",
        "            if Timer_D >= D:\n",
        "                State = 2\n",
        "                Lowtime_counter = 0\n",
        "                Highest_peak = 0\n",
        "\n",
        "            if Pulse_High_flank == 1:\n",
        "                State = 1\n",
        "                Timer_D = 0\n",
        "                Pulse_High_flank = 0\n",
        "\n",
        "        elif State == 2:  #wait for first pulse\n",
        "            if Pulse_High_flank == 1:\n",
        "                State = 3\n",
        "                Timer_E = 0;\n",
        "                PulsLowTime = 0\n",
        "                Pulse_High_flank = 0\n",
        "\n",
        "        elif State == 3:  #wait for second pulse\n",
        "            if Timer_E == E:\n",
        "                State = 1\n",
        "                Timer_D = 0\n",
        "            if Pulse_High_flank == 1:\n",
        "                Timer_F = 0;\n",
        "                Pulse_High_flank = 0\n",
        "                if Timer_E >= Rumination_Time:\n",
        "                    State = 5\n",
        "                    Timer_F = 0;\n",
        "                else:\n",
        "                    State = 4\n",
        "                    Timer_F = 0;\n",
        "\n",
        "        elif State == 4:  #wait for third pulse or minimal low time\n",
        "            if Timer_F == F:\n",
        "                State = 1\n",
        "                Timer_D = 0\n",
        "                #normal wave detected\n",
        "                LowTimeCounterHold = Lowtime_counter/2\n",
        "                data[i, 3] = 1\n",
        "                data[i, 6] = Highest_peak\n",
        "                Rumination = 0\n",
        "                PeakValue = Highest_peak\n",
        "            if Pulse_High_flank == 1:\n",
        "                State = 5\n",
        "                Pulse_High_flank = 0\n",
        "\n",
        "        elif State == 5:  #wait for third pulse or minimal low time\n",
        "            if Timer_F == F:\n",
        "                State = 1\n",
        "                Timer_D = 0\n",
        "                #rumination wave detected\n",
        "                LowTimeCounterHold = Lowtime_counter/2\n",
        "                data[i, 3] = 2\n",
        "                data[i, 6] = Highest_peak\n",
        "                Rumination = 1\n",
        "                PeakValue = Highest_peak\n",
        "            if Pulse_High_flank == 1:\n",
        "                if Timer_E <= E:  # pulse detected within window E\n",
        "                    State == 5\n",
        "                    Pulse_High_flank = 0\n",
        "                else:\n",
        "                    State = 1\n",
        "                    Timer_D = 0\n",
        "                    Pulse_High_flank = 0\n",
        "                    # Error, no wave detected\n",
        "\n",
        "        #loop timers 0,5s per loop\n",
        "        Timer_D += 1\n",
        "        Timer_F += 1\n",
        "        Timer_E += 1\n",
        "        Lowtime_counter += 1\n",
        "\n",
        "        #database output\n",
        "        data[i, 9] = Rumination\n",
        "        data[i, 7] = PeakValue\n",
        "    return data\n"
      ],
      "execution_count": null,
      "outputs": []
    },
    {
      "cell_type": "markdown",
      "metadata": {
        "id": "h2sz6E1x3SsJ"
      },
      "source": [
        "## File processing function"
      ]
    },
    {
      "cell_type": "markdown",
      "metadata": {
        "id": "oyZGBgUAhSHR"
      },
      "source": [
        "The next algorythm allows\n",
        "\n",
        "*   Fixed gain of 9\n",
        "*   Allow flexible seperator\n",
        "*   Allow display/store\n",
        "\n"
      ]
    },
    {
      "cell_type": "code",
      "metadata": {
        "id": "wX6Y6flW9T04"
      },
      "source": [
        "def process_file(file, base_directory, input_directory, output_directory, sep = \",\", store = True, disp = False, gain = 9, col=0):\n",
        "  infile = base_directory + input_directory + file\n",
        "  outfile = base_directory + output_directory + 'processed_' + file\n",
        "  \n",
        "  #read the file and make sure to change NaN with 0.0\n",
        "  raw_df = pd.read_csv (infile, sep, decimal=\".\", dtype={'datetime':str})\n",
        "  raw_df['datetime'] = raw_df['datetime'].str.replace('T', ' ', case = False)\n",
        "  raw_df['datetime'] = raw_df['datetime'].str.replace('\\+02:00', '', case = False)\n",
        "  raw_df['datetime'] = raw_df['datetime'].str.replace('\\+01:00', '', case = False) \n",
        "  raw_df['datetime']=pd.to_datetime(raw_df['datetime'],format=\"%Y-%m-%d %H:%M:%S\")\n",
        " \n",
        "  raw_col = raw_df[['pressure']].fillna(0)\n",
        "  raw_index = raw_df[['datetime']]\n",
        "  raw_pressure = raw_df[['pressure']]\n",
        " \n",
        "  #explicitely change format to int\n",
        "  raw_col.pressure = raw_col.pressure.astype(float)\n",
        "  \n",
        "  #add extra columns with all 0.0 values\n",
        "  extra_col_df = raw_col.assign(\n",
        "    pulse_flank = 0.0, \n",
        "    state = 0.0, \n",
        "    wave_type = 0.0, \n",
        "    low_time= 0.0,\n",
        "    baseline= 0.0,\n",
        "    highest_peak= 0.0,\n",
        "    moo= 0.0, \n",
        "    high_pressure= 0.0,\n",
        "    time_start= 0.0,\n",
        "    time_stop= 0.0,\n",
        "    rumination= 0.0,\n",
        "    peakvalue= 0.0)\n",
        "\n",
        "  #create numpy array from pandas\n",
        "  input_array = extra_col_df.to_numpy()\n",
        "  index_array = raw_index.to_numpy()\n",
        "  raw_pressure_array = raw_pressure.to_numpy()\n",
        "\n",
        "  #run picoalgorithm and display result\n",
        "  result = picoalgorithm_gain(input_array, gain, col)\n",
        "\n",
        "  #create dataframe from result array\n",
        "  dataset = pd.DataFrame({\n",
        "    'datetime': index_array[:,0],\n",
        "    'raw_pressure': result[:, 0],\n",
        "    'ret_pressure': result[:, 0],\n",
        "    'pulse_flank': result[:, 1], \n",
        "    'state': result[:, 2],\n",
        "    'wave_type': result[:, 3],\n",
        "    'low_time': result[:, 4],\n",
        "    'baseline': result[:, 5],\n",
        "    'highest_peak': result[:, 6],\n",
        "    'peakvalue': result[:, 7],\n",
        "    'high_pressure': result[:, 8],\n",
        "    'rumination': result[:, 9]})\n",
        "  \n",
        "  #store to csv\n",
        "  if store == True:\n",
        "    dataset.to_csv(outfile)\n",
        "  if disp == True:\n",
        "    #display(dataset.head(1000))\n",
        "    dataset.describe()"
      ],
      "execution_count": null,
      "outputs": []
    },
    {
      "cell_type": "markdown",
      "metadata": {
        "id": "eeSB_xc5eQSJ"
      },
      "source": [
        "## Read input files and creat algorithm output file"
      ]
    },
    {
      "cell_type": "code",
      "metadata": {
        "colab": {
          "base_uri": "https://localhost:8080/"
        },
        "id": "_0qMiSkfXTgL",
        "outputId": "e85f243a-e3a9-4032-9029-c70286bd96cd"
      },
      "source": [
        "#load all files in directory with *.csv\n",
        "pd.set_option('display.max_rows', None)\n",
        "\n",
        "for f in os.listdir (input_path):\n",
        "    if f.endswith ('.csv'):\n",
        "        print(\"Started processing: \" + f)\n",
        "        process_file(f, base_dir, input_dir, output_dir, sep=\",\", store=True, disp=True, gain= 9, col=0)\n",
        "        print(\"Done processing: \" + f)"
      ],
      "execution_count": null,
      "outputs": [
        {
          "output_type": "stream",
          "text": [
            "Started processing: raw_data_pico_20190415_0708.csv\n",
            "Done processing: raw_data_pico_20190415_0708.csv\n",
            "Started processing: raw_data_pico_20190412_2_0708.csv\n",
            "Done processing: raw_data_pico_20190412_2_0708.csv\n",
            "Started processing: raw_data_pico_20190412_1_0708.csv\n",
            "Done processing: raw_data_pico_20190412_1_0708.csv\n",
            "Started processing: raw_data_pico_20190411_1_0708.csv\n",
            "Done processing: raw_data_pico_20190411_1_0708.csv\n",
            "Started processing: raw_data_pico_20190411_2_0708.csv\n",
            "Done processing: raw_data_pico_20190411_2_0708.csv\n",
            "Started processing: raw_data_pico_20190405_2_0708.csv\n",
            "Done processing: raw_data_pico_20190405_2_0708.csv\n",
            "Started processing: raw_data_pico_20190405_1_0708.csv\n",
            "Done processing: raw_data_pico_20190405_1_0708.csv\n",
            "Started processing: raw_data_pico_20190403_2_0708.csv\n",
            "Done processing: raw_data_pico_20190403_2_0708.csv\n",
            "Started processing: raw_data_pico_20190403_1_0708.csv\n",
            "Done processing: raw_data_pico_20190403_1_0708.csv\n",
            "Started processing: raw_data_pico_20190305_0708.csv\n",
            "Done processing: raw_data_pico_20190305_0708.csv\n",
            "Started processing: raw_data_pico_20190304_0708.csv\n",
            "Done processing: raw_data_pico_20190304_0708.csv\n",
            "Started processing: raw_data_pico_20190301_0708.csv\n",
            "Done processing: raw_data_pico_20190301_0708.csv\n",
            "Started processing: raw_data_pico_20190227_0708.csv\n",
            "Done processing: raw_data_pico_20190227_0708.csv\n",
            "Started processing: raw_data_pico_20190226_0708.csv\n",
            "Done processing: raw_data_pico_20190226_0708.csv\n",
            "Started processing: raw_data_pico_20190218_3_0708.csv\n",
            "Done processing: raw_data_pico_20190218_3_0708.csv\n",
            "Started processing: raw_data_pico_20190218_1_0708.csv\n",
            "Done processing: raw_data_pico_20190218_1_0708.csv\n",
            "Started processing: raw_data_pico_20190205_0708.csv\n",
            "Done processing: raw_data_pico_20190205_0708.csv\n",
            "Started processing: raw_data_pico_20190225_0708.csv\n",
            "Done processing: raw_data_pico_20190225_0708.csv\n"
          ],
          "name": "stdout"
        }
      ]
    },
    {
      "cell_type": "code",
      "metadata": {
        "colab": {
          "base_uri": "https://localhost:8080/"
        },
        "id": "paJjRP5m5dn3",
        "outputId": "c931f913-dbcd-4ed7-d43b-a8013d14ab4a"
      },
      "source": [
        "#create list of processed files\n",
        "processed_dir = output_path\n",
        "all_files = glob.glob(processed_dir + \"*.csv\")\n",
        "\n",
        "li = []\n",
        "\n",
        "for filename in all_files:\n",
        "    print(filename)\n",
        "    df = pd.read_csv(filename, index_col=0, header=0, sep = \",\", decimal=\".\", dtype={'datetime':str}, parse_dates=['datetime']\n",
        "    )\n",
        "    df['datetime']=pd.to_datetime(df['datetime'], format=\"%Y-%m-%d %H:%M:%S\")\n",
        "    print(type(df['datetime']))\n",
        "    df['file'] = filename\n",
        "    li.append(df)\n",
        "\n",
        "df_concat_processed = pd.concat(li, axis=0, ignore_index=True)\n",
        "\n",
        "#create column \"rumination_alg\"\n",
        "df_concat_processed['rumination_alg'] = df_concat_processed['rumination'].apply(lambda x: 1 if x == 1.0 else 0)"
      ],
      "execution_count": null,
      "outputs": [
        {
          "output_type": "stream",
          "text": [
            "/content/gdrive/Shared drives/Bovi-Analytics/Projects/JosjeScheurwater/ProjectPicoLog/data/out/processed_raw_data_pico_20190412_2_0708.csv\n",
            "<class 'pandas.core.series.Series'>\n",
            "/content/gdrive/Shared drives/Bovi-Analytics/Projects/JosjeScheurwater/ProjectPicoLog/data/out/processed_raw_data_pico_20190415_0708.csv\n",
            "<class 'pandas.core.series.Series'>\n",
            "/content/gdrive/Shared drives/Bovi-Analytics/Projects/JosjeScheurwater/ProjectPicoLog/data/out/processed_raw_data_pico_20190412_1_0708.csv\n",
            "<class 'pandas.core.series.Series'>\n",
            "/content/gdrive/Shared drives/Bovi-Analytics/Projects/JosjeScheurwater/ProjectPicoLog/data/out/processed_raw_data_pico_20190411_1_0708.csv\n",
            "<class 'pandas.core.series.Series'>\n",
            "/content/gdrive/Shared drives/Bovi-Analytics/Projects/JosjeScheurwater/ProjectPicoLog/data/out/processed_raw_data_pico_20190411_2_0708.csv\n",
            "<class 'pandas.core.series.Series'>\n",
            "/content/gdrive/Shared drives/Bovi-Analytics/Projects/JosjeScheurwater/ProjectPicoLog/data/out/processed_raw_data_pico_20190405_2_0708.csv\n",
            "<class 'pandas.core.series.Series'>\n",
            "/content/gdrive/Shared drives/Bovi-Analytics/Projects/JosjeScheurwater/ProjectPicoLog/data/out/processed_raw_data_pico_20190405_1_0708.csv\n",
            "<class 'pandas.core.series.Series'>\n",
            "/content/gdrive/Shared drives/Bovi-Analytics/Projects/JosjeScheurwater/ProjectPicoLog/data/out/processed_raw_data_pico_20190403_2_0708.csv\n",
            "<class 'pandas.core.series.Series'>\n",
            "/content/gdrive/Shared drives/Bovi-Analytics/Projects/JosjeScheurwater/ProjectPicoLog/data/out/processed_raw_data_pico_20190403_1_0708.csv\n",
            "<class 'pandas.core.series.Series'>\n",
            "/content/gdrive/Shared drives/Bovi-Analytics/Projects/JosjeScheurwater/ProjectPicoLog/data/out/processed_raw_data_pico_20190305_0708.csv\n",
            "<class 'pandas.core.series.Series'>\n",
            "/content/gdrive/Shared drives/Bovi-Analytics/Projects/JosjeScheurwater/ProjectPicoLog/data/out/processed_raw_data_pico_20190304_0708.csv\n",
            "<class 'pandas.core.series.Series'>\n",
            "/content/gdrive/Shared drives/Bovi-Analytics/Projects/JosjeScheurwater/ProjectPicoLog/data/out/processed_raw_data_pico_20190301_0708.csv\n",
            "<class 'pandas.core.series.Series'>\n",
            "/content/gdrive/Shared drives/Bovi-Analytics/Projects/JosjeScheurwater/ProjectPicoLog/data/out/processed_raw_data_pico_20190227_0708.csv\n",
            "<class 'pandas.core.series.Series'>\n",
            "/content/gdrive/Shared drives/Bovi-Analytics/Projects/JosjeScheurwater/ProjectPicoLog/data/out/processed_raw_data_pico_20190226_0708.csv\n",
            "<class 'pandas.core.series.Series'>\n",
            "/content/gdrive/Shared drives/Bovi-Analytics/Projects/JosjeScheurwater/ProjectPicoLog/data/out/processed_raw_data_pico_20190218_3_0708.csv\n",
            "<class 'pandas.core.series.Series'>\n",
            "/content/gdrive/Shared drives/Bovi-Analytics/Projects/JosjeScheurwater/ProjectPicoLog/data/out/processed_raw_data_pico_20190218_1_0708.csv\n",
            "<class 'pandas.core.series.Series'>\n",
            "/content/gdrive/Shared drives/Bovi-Analytics/Projects/JosjeScheurwater/ProjectPicoLog/data/out/processed_raw_data_pico_20190205_0708.csv\n",
            "<class 'pandas.core.series.Series'>\n",
            "/content/gdrive/Shared drives/Bovi-Analytics/Projects/JosjeScheurwater/ProjectPicoLog/data/out/processed_raw_data_pico_20190225_0708.csv\n",
            "<class 'pandas.core.series.Series'>\n"
          ],
          "name": "stdout"
        }
      ]
    },
    {
      "cell_type": "markdown",
      "metadata": {
        "id": "ckWnV4EcOlgf"
      },
      "source": [
        "## Read input files and creat video output file"
      ]
    },
    {
      "cell_type": "code",
      "metadata": {
        "colab": {
          "base_uri": "https://localhost:8080/"
        },
        "id": "pPQj0pfg6JQm",
        "outputId": "221adbeb-ec82-4e60-ef45-6fc686c0dfa6"
      },
      "source": [
        "path_video = video_path\n",
        "all_files = glob.glob(path_video + \"*.csv\")\n",
        "li = []\n",
        "for filename in all_files:\n",
        "    print(\"Started processing: \" + filename)\n",
        "    df = pd.read_csv(filename, \n",
        "                    header=0, \n",
        "                    sep = \";\", \n",
        "                    decimal=\".\", \n",
        "                    nrows = 25000, \n",
        "                    skipinitialspace=True, \n",
        "                    dtype={'datetime':str, 'code_1_5':float,'code_6_or_12':float,'code_15':float,'other_1':float, 'other_2': float}, parse_dates=['datetime']\n",
        "                    )[['cow_number', 'datetime', 'code_1_5', 'code_6_or_12', 'code_15', 'other_1','other_2']].dropna()\n",
        "    df['datetime']=pd.to_datetime(df['datetime'], format=\"%Y-%m-%d %H:%M:%S\")\n",
        "    df.dtypes\n",
        "    #create a seperate column for each behaviour\n",
        "    df['rumination_video'] = df['code_1_5'].apply(lambda x: 1 if x == 1.0 else 0)\n",
        "    df['other_video'] = df['code_1_5'].apply(lambda x: 5 if x == 2.0 else 0)\n",
        "    df['drinking_video'] = df['code_1_5'].apply(lambda x: 3 if x ==5.0 else 0)\n",
        "    df['sleeping_video']=df['code_1_5'].apply(lambda x: 4 if x == 3.0 else 0)\n",
        "    df['eating_video']=df['code_1_5'].apply(lambda x: 2 if x == 4.0 else 0)\n",
        "    df['behaviour']=df['rumination_video']+df['eating_video']+df['drinking_video']+df['sleeping_video']+df['other_video']\n",
        "    li.append(df)\n",
        "    print(\"Done processing: \" + filename)\n",
        "#create a panda dataframe of processed video files\n",
        "df_concat_video = pd.concat(li, axis=0, ignore_index=True)"
      ],
      "execution_count": null,
      "outputs": [
        {
          "output_type": "stream",
          "text": [
            "Started processing: /content/gdrive/Shared drives/Bovi-Analytics/Projects/JosjeScheurwater/ProjectPicoLog/data/in/traintest/videos/raw_data_video_k13_20190412_1108.csv\n",
            "Done processing: /content/gdrive/Shared drives/Bovi-Analytics/Projects/JosjeScheurwater/ProjectPicoLog/data/in/traintest/videos/raw_data_video_k13_20190412_1108.csv\n",
            "Started processing: /content/gdrive/Shared drives/Bovi-Analytics/Projects/JosjeScheurwater/ProjectPicoLog/data/in/traintest/videos/raw_data_video_k21_20190218_1108.csv\n",
            "Done processing: /content/gdrive/Shared drives/Bovi-Analytics/Projects/JosjeScheurwater/ProjectPicoLog/data/in/traintest/videos/raw_data_video_k21_20190218_1108.csv\n",
            "Started processing: /content/gdrive/Shared drives/Bovi-Analytics/Projects/JosjeScheurwater/ProjectPicoLog/data/in/traintest/videos/raw_data_video_k21_20190205_1108.csv\n",
            "Done processing: /content/gdrive/Shared drives/Bovi-Analytics/Projects/JosjeScheurwater/ProjectPicoLog/data/in/traintest/videos/raw_data_video_k21_20190205_1108.csv\n",
            "Started processing: /content/gdrive/Shared drives/Bovi-Analytics/Projects/JosjeScheurwater/ProjectPicoLog/data/in/traintest/videos/raw_data_video_k2_20190403_1108.csv\n",
            "Done processing: /content/gdrive/Shared drives/Bovi-Analytics/Projects/JosjeScheurwater/ProjectPicoLog/data/in/traintest/videos/raw_data_video_k2_20190403_1108.csv\n",
            "Started processing: /content/gdrive/Shared drives/Bovi-Analytics/Projects/JosjeScheurwater/ProjectPicoLog/data/in/traintest/videos/raw_data_video_k2_20190301_1108.csv\n",
            "Done processing: /content/gdrive/Shared drives/Bovi-Analytics/Projects/JosjeScheurwater/ProjectPicoLog/data/in/traintest/videos/raw_data_video_k2_20190301_1108.csv\n",
            "Started processing: /content/gdrive/Shared drives/Bovi-Analytics/Projects/JosjeScheurwater/ProjectPicoLog/data/in/traintest/videos/raw_data_video_k13_20190227_1108.csv\n",
            "Done processing: /content/gdrive/Shared drives/Bovi-Analytics/Projects/JosjeScheurwater/ProjectPicoLog/data/in/traintest/videos/raw_data_video_k13_20190227_1108.csv\n",
            "Started processing: /content/gdrive/Shared drives/Bovi-Analytics/Projects/JosjeScheurwater/ProjectPicoLog/data/in/traintest/videos/ruwe_data_video_k84_20190226v2_1108.csv\n",
            "Done processing: /content/gdrive/Shared drives/Bovi-Analytics/Projects/JosjeScheurwater/ProjectPicoLog/data/in/traintest/videos/ruwe_data_video_k84_20190226v2_1108.csv\n",
            "Started processing: /content/gdrive/Shared drives/Bovi-Analytics/Projects/JosjeScheurwater/ProjectPicoLog/data/in/traintest/videos/ruwe_data_video_k84_20190305_1108.csv\n",
            "Done processing: /content/gdrive/Shared drives/Bovi-Analytics/Projects/JosjeScheurwater/ProjectPicoLog/data/in/traintest/videos/ruwe_data_video_k84_20190305_1108.csv\n",
            "Started processing: /content/gdrive/Shared drives/Bovi-Analytics/Projects/JosjeScheurwater/ProjectPicoLog/data/in/traintest/videos/ruwe_data_video_k84_20190415_1108.csv\n",
            "Done processing: /content/gdrive/Shared drives/Bovi-Analytics/Projects/JosjeScheurwater/ProjectPicoLog/data/in/traintest/videos/ruwe_data_video_k84_20190415_1108.csv\n",
            "Started processing: /content/gdrive/Shared drives/Bovi-Analytics/Projects/JosjeScheurwater/ProjectPicoLog/data/in/traintest/videos/raw_data_video_k26_20190410_1108.csv\n",
            "Done processing: /content/gdrive/Shared drives/Bovi-Analytics/Projects/JosjeScheurwater/ProjectPicoLog/data/in/traintest/videos/raw_data_video_k26_20190410_1108.csv\n",
            "Started processing: /content/gdrive/Shared drives/Bovi-Analytics/Projects/JosjeScheurwater/ProjectPicoLog/data/in/traintest/videos/raw_data_video_k2_20190416_1108.csv\n",
            "Done processing: /content/gdrive/Shared drives/Bovi-Analytics/Projects/JosjeScheurwater/ProjectPicoLog/data/in/traintest/videos/raw_data_video_k2_20190416_1108.csv\n",
            "Started processing: /content/gdrive/Shared drives/Bovi-Analytics/Projects/JosjeScheurwater/ProjectPicoLog/data/in/traintest/videos/raw_data_video_k21_20190225v2_1108.csv\n",
            "Done processing: /content/gdrive/Shared drives/Bovi-Analytics/Projects/JosjeScheurwater/ProjectPicoLog/data/in/traintest/videos/raw_data_video_k21_20190225v2_1108.csv\n",
            "Started processing: /content/gdrive/Shared drives/Bovi-Analytics/Projects/JosjeScheurwater/ProjectPicoLog/data/in/traintest/videos/raw_data_video_k2_20190411_1108.csv\n",
            "Done processing: /content/gdrive/Shared drives/Bovi-Analytics/Projects/JosjeScheurwater/ProjectPicoLog/data/in/traintest/videos/raw_data_video_k2_20190411_1108.csv\n",
            "Started processing: /content/gdrive/Shared drives/Bovi-Analytics/Projects/JosjeScheurwater/ProjectPicoLog/data/in/traintest/videos/raw_data_video_k26_20190404_1108.csv\n",
            "Done processing: /content/gdrive/Shared drives/Bovi-Analytics/Projects/JosjeScheurwater/ProjectPicoLog/data/in/traintest/videos/raw_data_video_k26_20190404_1108.csv\n",
            "Started processing: /content/gdrive/Shared drives/Bovi-Analytics/Projects/JosjeScheurwater/ProjectPicoLog/data/in/traintest/videos/raw_data_video_k26_20190325_1108.csv\n",
            "Done processing: /content/gdrive/Shared drives/Bovi-Analytics/Projects/JosjeScheurwater/ProjectPicoLog/data/in/traintest/videos/raw_data_video_k26_20190325_1108.csv\n",
            "Started processing: /content/gdrive/Shared drives/Bovi-Analytics/Projects/JosjeScheurwater/ProjectPicoLog/data/in/traintest/videos/raw_data_video_k84_20190405__corr37sec_1108.csv\n",
            "Done processing: /content/gdrive/Shared drives/Bovi-Analytics/Projects/JosjeScheurwater/ProjectPicoLog/data/in/traintest/videos/raw_data_video_k84_20190405__corr37sec_1108.csv\n",
            "Started processing: /content/gdrive/Shared drives/Bovi-Analytics/Projects/JosjeScheurwater/ProjectPicoLog/data/in/traintest/videos/raw_data_video_k21_20190304_1012.csv\n",
            "Done processing: /content/gdrive/Shared drives/Bovi-Analytics/Projects/JosjeScheurwater/ProjectPicoLog/data/in/traintest/videos/raw_data_video_k21_20190304_1012.csv\n"
          ],
          "name": "stdout"
        }
      ]
    },
    {
      "cell_type": "markdown",
      "metadata": {
        "id": "jnxtE4qLO2e_"
      },
      "source": [
        "## Merge processsed files and video files"
      ]
    },
    {
      "cell_type": "code",
      "metadata": {
        "id": "WlxHuW7xJGHk"
      },
      "source": [
        "df_inner_merged = pd.merge(df_concat_processed, df_concat_video, on='datetime', how='inner')"
      ],
      "execution_count": null,
      "outputs": []
    },
    {
      "cell_type": "code",
      "metadata": {
        "id": "iCx9UP140ecx"
      },
      "source": [
        "final_data_peak_detection=df_inner_merged"
      ],
      "execution_count": null,
      "outputs": []
    },
    {
      "cell_type": "code",
      "metadata": {
        "id": "RX3GGdD42FUS"
      },
      "source": [
        "#remove data with pressure signal error, labeled \"code_15\"\r\n",
        "final_data_peak_detection_corrected = final_data_peak_detection[final_data_peak_detection.code_15 != 15]"
      ],
      "execution_count": null,
      "outputs": []
    },
    {
      "cell_type": "markdown",
      "metadata": {
        "id": "98giER1N353M"
      },
      "source": [
        "## Confusion matrix and classification report"
      ]
    },
    {
      "cell_type": "code",
      "metadata": {
        "id": "qldChbMnoGl9",
        "colab": {
          "base_uri": "https://localhost:8080/"
        },
        "outputId": "5bc32e61-4864-4f5d-932a-9a8fa52ef2bf"
      },
      "source": [
        "results = confusion_matrix(final_data_peak_detection_corrected['rumination_video'], final_data_peak_detection_corrected['rumination_alg'])\n",
        "\n",
        "print('Confusion matrix peak_detection_algorithm for rumination:')\n",
        "print(results) \n",
        "print('Accuracy Score : ', accuracy_score(final_data_peak_detection_corrected['rumination_video'], final_data_peak_detection_corrected['rumination_alg']))\n",
        "print('Report : ')\n",
        "print(classification_report(final_data_peak_detection_corrected['rumination_video'], final_data_peak_detection_corrected['rumination_alg']))"
      ],
      "execution_count": null,
      "outputs": [
        {
          "output_type": "stream",
          "text": [
            "Confusion matrix peak_detection_algorithm for rumination:\n",
            "[[243710  27374]\n",
            " [  3799 127643]]\n",
            "Accuracy Score :  0.9225565553529461\n",
            "Report : \n",
            "              precision    recall  f1-score   support\n",
            "\n",
            "           0       0.98      0.90      0.94    271084\n",
            "           1       0.82      0.97      0.89    131442\n",
            "\n",
            "    accuracy                           0.92    402526\n",
            "   macro avg       0.90      0.94      0.92    402526\n",
            "weighted avg       0.93      0.92      0.92    402526\n",
            "\n"
          ],
          "name": "stdout"
        }
      ]
    },
    {
      "cell_type": "markdown",
      "metadata": {
        "id": "y67CSm0le5xk"
      },
      "source": [
        "# Random_forest_algorithm"
      ]
    },
    {
      "cell_type": "markdown",
      "metadata": {
        "id": "jvus0EKfzBnU"
      },
      "source": [
        "## Features"
      ]
    },
    {
      "cell_type": "code",
      "metadata": {
        "id": "slII8zfOzPU4"
      },
      "source": [
        "def preprocess_feature_file(file, sep = \",\"):\n",
        "  #read the file and make sure to change NaN with 0.0\n",
        "  pressure_df = pd.read_csv(file, sep, decimal=\".\").dropna()\n",
        "  # normalisation\n",
        "  pressure_df[\"pressure\"] /= np.max(np.abs(pressure_df[\"pressure\"].values),axis=0)\n",
        "  # define columns\n",
        "  pressure_df[\"datetime\"] = pressure_df[\"datetime\"].astype(str).str[:-6].str.replace('T', ' ', regex=False).astype(str)\n",
        "  pressure_df[\"file_index\"] = pressure_df.index\n",
        "  pressure_df[\"feature_filename\"] = file\n",
        "  return pressure_df"
      ],
      "execution_count": null,
      "outputs": []
    },
    {
      "cell_type": "code",
      "metadata": {
        "colab": {
          "base_uri": "https://localhost:8080/"
        },
        "id": "-8hzA73pyKku",
        "outputId": "c08279c8-e27e-440d-b367-fa1d6104c01a"
      },
      "source": [
        "all_feature_files = glob.glob(input_path + \"*.csv\")\n",
        "list_feature_df = []\n",
        "for filename in all_feature_files:\n",
        "    print(\"Started processing: \" + filename)\n",
        "    df = preprocess_feature_file(filename, sep=\",\")\n",
        "    list_feature_df.append(df)\n",
        "    print(\"Done processing\")"
      ],
      "execution_count": null,
      "outputs": [
        {
          "output_type": "stream",
          "text": [
            "Started processing: /content/gdrive/Shared drives/Bovi-Analytics/Projects/JosjeScheurwater/ProjectPicoLog/data/in/traintest/picologs/raw_data_pico_20190415_0708.csv\n",
            "Done processing\n",
            "Started processing: /content/gdrive/Shared drives/Bovi-Analytics/Projects/JosjeScheurwater/ProjectPicoLog/data/in/traintest/picologs/raw_data_pico_20190412_2_0708.csv\n",
            "Done processing\n",
            "Started processing: /content/gdrive/Shared drives/Bovi-Analytics/Projects/JosjeScheurwater/ProjectPicoLog/data/in/traintest/picologs/raw_data_pico_20190412_1_0708.csv\n",
            "Done processing\n",
            "Started processing: /content/gdrive/Shared drives/Bovi-Analytics/Projects/JosjeScheurwater/ProjectPicoLog/data/in/traintest/picologs/raw_data_pico_20190411_1_0708.csv\n",
            "Done processing\n",
            "Started processing: /content/gdrive/Shared drives/Bovi-Analytics/Projects/JosjeScheurwater/ProjectPicoLog/data/in/traintest/picologs/raw_data_pico_20190411_2_0708.csv\n",
            "Done processing\n",
            "Started processing: /content/gdrive/Shared drives/Bovi-Analytics/Projects/JosjeScheurwater/ProjectPicoLog/data/in/traintest/picologs/raw_data_pico_20190405_2_0708.csv\n",
            "Done processing\n",
            "Started processing: /content/gdrive/Shared drives/Bovi-Analytics/Projects/JosjeScheurwater/ProjectPicoLog/data/in/traintest/picologs/raw_data_pico_20190405_1_0708.csv\n",
            "Done processing\n",
            "Started processing: /content/gdrive/Shared drives/Bovi-Analytics/Projects/JosjeScheurwater/ProjectPicoLog/data/in/traintest/picologs/raw_data_pico_20190403_2_0708.csv\n",
            "Done processing\n",
            "Started processing: /content/gdrive/Shared drives/Bovi-Analytics/Projects/JosjeScheurwater/ProjectPicoLog/data/in/traintest/picologs/raw_data_pico_20190403_1_0708.csv\n",
            "Done processing\n",
            "Started processing: /content/gdrive/Shared drives/Bovi-Analytics/Projects/JosjeScheurwater/ProjectPicoLog/data/in/traintest/picologs/raw_data_pico_20190305_0708.csv\n",
            "Done processing\n",
            "Started processing: /content/gdrive/Shared drives/Bovi-Analytics/Projects/JosjeScheurwater/ProjectPicoLog/data/in/traintest/picologs/raw_data_pico_20190304_0708.csv\n",
            "Done processing\n",
            "Started processing: /content/gdrive/Shared drives/Bovi-Analytics/Projects/JosjeScheurwater/ProjectPicoLog/data/in/traintest/picologs/raw_data_pico_20190301_0708.csv\n",
            "Done processing\n",
            "Started processing: /content/gdrive/Shared drives/Bovi-Analytics/Projects/JosjeScheurwater/ProjectPicoLog/data/in/traintest/picologs/raw_data_pico_20190227_0708.csv\n",
            "Done processing\n",
            "Started processing: /content/gdrive/Shared drives/Bovi-Analytics/Projects/JosjeScheurwater/ProjectPicoLog/data/in/traintest/picologs/raw_data_pico_20190226_0708.csv\n",
            "Done processing\n",
            "Started processing: /content/gdrive/Shared drives/Bovi-Analytics/Projects/JosjeScheurwater/ProjectPicoLog/data/in/traintest/picologs/raw_data_pico_20190218_3_0708.csv\n",
            "Done processing\n",
            "Started processing: /content/gdrive/Shared drives/Bovi-Analytics/Projects/JosjeScheurwater/ProjectPicoLog/data/in/traintest/picologs/raw_data_pico_20190218_1_0708.csv\n",
            "Done processing\n",
            "Started processing: /content/gdrive/Shared drives/Bovi-Analytics/Projects/JosjeScheurwater/ProjectPicoLog/data/in/traintest/picologs/raw_data_pico_20190205_0708.csv\n",
            "Done processing\n",
            "Started processing: /content/gdrive/Shared drives/Bovi-Analytics/Projects/JosjeScheurwater/ProjectPicoLog/data/in/traintest/picologs/raw_data_pico_20190225_0708.csv\n",
            "Done processing\n"
          ],
          "name": "stdout"
        }
      ]
    },
    {
      "cell_type": "code",
      "metadata": {
        "id": "U2OA7lisyx06"
      },
      "source": [
        "df_concat_features = pd.concat(list_feature_df, axis=0, ignore_index=True)"
      ],
      "execution_count": null,
      "outputs": []
    },
    {
      "cell_type": "markdown",
      "metadata": {
        "id": "fZbtZrhhzHA9"
      },
      "source": [
        "## Labels"
      ]
    },
    {
      "cell_type": "code",
      "metadata": {
        "id": "Vu4FHa6I_I2a"
      },
      "source": [
        "WIN_SIZE = 240\n",
        "WIN_OVERLAP = 1\n",
        "BEHAVIOUR_1= 'rumination_video'\n",
        "BEHAVIOUR_2= 'eating_video'\n",
        "BEHAVIOUR_3= 'drinking_video'\n",
        "BEHAVIOUR_4= 'sleeping_video'"
      ],
      "execution_count": null,
      "outputs": []
    },
    {
      "cell_type": "code",
      "metadata": {
        "id": "8LxhFX5Vzd74"
      },
      "source": [
        "def preprocess_label_file(file, window_size):\n",
        "    # read the file\n",
        "    df_raw = pd.read_csv(file, header=0, sep = \";\", decimal=\".\", nrows = 25000)[['cow_number', 'datetime','code_1_5', 'code_6_or_12', 'code_15', 'other_1','other_2']].dropna()\n",
        "    # make a copy without ' ' in specific code\n",
        "    df=df_raw\n",
        "    # make extra columns\n",
        "    df['rumination_video'] = df['code_1_5'].apply(lambda x: 1 if x == 1.0 else 0)\n",
        "    df['eating_video'] = df['code_1_5'].apply(lambda x: 1 if x == 4.0 else 0)\n",
        "    df['resting_video'] = df['code_1_5'].apply(lambda x: 1 if x == 2.0 else 0)\n",
        "    df['sleeping_video'] = df['code_1_5'].apply(lambda x: 1 if x == 3.0 else 0)\n",
        "    df['drinking_video'] = df['code_1_5'].apply(lambda x: 1 if x == 5.0 else 0)\n",
        "    #create one colum for behaviour\n",
        "    df_beh= df\n",
        "    df_beh[\"eating_video\"].replace({1:2}, inplace= True)\n",
        "    df_beh[\"drinking_video\"].replace({1:3}, inplace= True)\n",
        "    df_beh[\"sleeping_video\"].replace({1:4}, inplace= True)\n",
        "    df_beh[\"resting_video\"].replace({1:5}, inplace= True)\n",
        "    df['behaviour']=df_beh['rumination_video']+df_beh['eating_video']+df_beh['resting_video']+df_beh['drinking_video']+df_beh['sleeping_video']\n",
        "    # most frequent behaviour in time frame\n",
        "    df['label_filename'] = file\n",
        "    df['code_1_5'] = df['code_1_5'].astype(str)\n",
        "    df['rolling_behaviour_backward'] = df.code_1_5.rolling(window = window_size, min_periods=0).apply(lambda x: mode(x)[0])\n",
        "    df['rolling_rumination_backward'] = df['rolling_behaviour_backward'].apply(lambda x: 1 if x == 1.0 else 0)\n",
        "    df['rolling_eating_backward'] = df['rolling_behaviour_backward'].apply(lambda x: 1 if x == 4.0 else 0)\n",
        "    df['rolling_resting_backward'] = df['rolling_behaviour_backward'].apply(lambda x: 1 if x == 2.0 else 0)\n",
        "    df['rolling_sleeping_backward'] = df['rolling_behaviour_backward'].apply(lambda x: 1 if x == 3.0 else 0)\n",
        "    df['rolling_drinking_backward'] = df['rolling_behaviour_backward'].apply(lambda x: 1 if x == 5.0 else 0)\n",
        "    # behaviour existing in time frame\n",
        "    df['was_ruminating_backward'] = df.code_1_5.rolling(window = window_size, min_periods=0).apply(lambda x:1 if 1.0 in x else 0)\n",
        "    df['was_eating_backward'] = df.code_1_5.rolling(window = window_size, min_periods=0).apply(lambda x:1 if 4.0 in x else 0)\n",
        "    df['was_resting_backward'] = df.code_1_5.rolling(window = window_size, min_periods=0).apply(lambda x:1 if 2.0 in x else 0)\n",
        "    df['was_sleeping_backward'] = df.code_1_5.rolling(window = window_size, min_periods=0).apply(lambda x:1 if 3.0 in x else 0) \n",
        "    df['was_drinking_backward'] = df.code_1_5.rolling(window = window_size, min_periods=0).apply(lambda x:1 if 5.0 in x else 0)\n",
        "    return df"
      ],
      "execution_count": null,
      "outputs": []
    },
    {
      "cell_type": "code",
      "metadata": {
        "colab": {
          "base_uri": "https://localhost:8080/"
        },
        "id": "WRsaBVE8IXny",
        "outputId": "b3f91efc-6fa6-487b-ba7c-8849a16210e9"
      },
      "source": [
        "all_label_files = glob.glob(video_path + \"*.csv\")\n",
        "list_label_df = []\n",
        "for filename in all_label_files:\n",
        "  print(\"Started processing: \" + filename)\n",
        "  df = preprocess_label_file(filename, WIN_SIZE)\n",
        "  list_label_df.append(df)\n",
        "  print(\"Done processing: \" + filename)"
      ],
      "execution_count": null,
      "outputs": [
        {
          "output_type": "stream",
          "text": [
            "Started processing: /content/gdrive/Shared drives/Bovi-Analytics/Projects/JosjeScheurwater/ProjectPicoLog/data/in/traintest/videos/raw_data_video_k13_20190412_1108.csv\n",
            "Done processing: /content/gdrive/Shared drives/Bovi-Analytics/Projects/JosjeScheurwater/ProjectPicoLog/data/in/traintest/videos/raw_data_video_k13_20190412_1108.csv\n",
            "Started processing: /content/gdrive/Shared drives/Bovi-Analytics/Projects/JosjeScheurwater/ProjectPicoLog/data/in/traintest/videos/raw_data_video_k21_20190218_1108.csv\n",
            "Done processing: /content/gdrive/Shared drives/Bovi-Analytics/Projects/JosjeScheurwater/ProjectPicoLog/data/in/traintest/videos/raw_data_video_k21_20190218_1108.csv\n",
            "Started processing: /content/gdrive/Shared drives/Bovi-Analytics/Projects/JosjeScheurwater/ProjectPicoLog/data/in/traintest/videos/raw_data_video_k21_20190205_1108.csv\n",
            "Done processing: /content/gdrive/Shared drives/Bovi-Analytics/Projects/JosjeScheurwater/ProjectPicoLog/data/in/traintest/videos/raw_data_video_k21_20190205_1108.csv\n",
            "Started processing: /content/gdrive/Shared drives/Bovi-Analytics/Projects/JosjeScheurwater/ProjectPicoLog/data/in/traintest/videos/raw_data_video_k2_20190403_1108.csv\n",
            "Done processing: /content/gdrive/Shared drives/Bovi-Analytics/Projects/JosjeScheurwater/ProjectPicoLog/data/in/traintest/videos/raw_data_video_k2_20190403_1108.csv\n",
            "Started processing: /content/gdrive/Shared drives/Bovi-Analytics/Projects/JosjeScheurwater/ProjectPicoLog/data/in/traintest/videos/raw_data_video_k2_20190301_1108.csv\n",
            "Done processing: /content/gdrive/Shared drives/Bovi-Analytics/Projects/JosjeScheurwater/ProjectPicoLog/data/in/traintest/videos/raw_data_video_k2_20190301_1108.csv\n",
            "Started processing: /content/gdrive/Shared drives/Bovi-Analytics/Projects/JosjeScheurwater/ProjectPicoLog/data/in/traintest/videos/raw_data_video_k13_20190227_1108.csv\n",
            "Done processing: /content/gdrive/Shared drives/Bovi-Analytics/Projects/JosjeScheurwater/ProjectPicoLog/data/in/traintest/videos/raw_data_video_k13_20190227_1108.csv\n",
            "Started processing: /content/gdrive/Shared drives/Bovi-Analytics/Projects/JosjeScheurwater/ProjectPicoLog/data/in/traintest/videos/ruwe_data_video_k84_20190226v2_1108.csv\n",
            "Done processing: /content/gdrive/Shared drives/Bovi-Analytics/Projects/JosjeScheurwater/ProjectPicoLog/data/in/traintest/videos/ruwe_data_video_k84_20190226v2_1108.csv\n",
            "Started processing: /content/gdrive/Shared drives/Bovi-Analytics/Projects/JosjeScheurwater/ProjectPicoLog/data/in/traintest/videos/ruwe_data_video_k84_20190305_1108.csv\n",
            "Done processing: /content/gdrive/Shared drives/Bovi-Analytics/Projects/JosjeScheurwater/ProjectPicoLog/data/in/traintest/videos/ruwe_data_video_k84_20190305_1108.csv\n",
            "Started processing: /content/gdrive/Shared drives/Bovi-Analytics/Projects/JosjeScheurwater/ProjectPicoLog/data/in/traintest/videos/ruwe_data_video_k84_20190415_1108.csv\n",
            "Done processing: /content/gdrive/Shared drives/Bovi-Analytics/Projects/JosjeScheurwater/ProjectPicoLog/data/in/traintest/videos/ruwe_data_video_k84_20190415_1108.csv\n",
            "Started processing: /content/gdrive/Shared drives/Bovi-Analytics/Projects/JosjeScheurwater/ProjectPicoLog/data/in/traintest/videos/raw_data_video_k26_20190410_1108.csv\n",
            "Done processing: /content/gdrive/Shared drives/Bovi-Analytics/Projects/JosjeScheurwater/ProjectPicoLog/data/in/traintest/videos/raw_data_video_k26_20190410_1108.csv\n",
            "Started processing: /content/gdrive/Shared drives/Bovi-Analytics/Projects/JosjeScheurwater/ProjectPicoLog/data/in/traintest/videos/raw_data_video_k2_20190416_1108.csv\n",
            "Done processing: /content/gdrive/Shared drives/Bovi-Analytics/Projects/JosjeScheurwater/ProjectPicoLog/data/in/traintest/videos/raw_data_video_k2_20190416_1108.csv\n",
            "Started processing: /content/gdrive/Shared drives/Bovi-Analytics/Projects/JosjeScheurwater/ProjectPicoLog/data/in/traintest/videos/raw_data_video_k21_20190225v2_1108.csv\n",
            "Done processing: /content/gdrive/Shared drives/Bovi-Analytics/Projects/JosjeScheurwater/ProjectPicoLog/data/in/traintest/videos/raw_data_video_k21_20190225v2_1108.csv\n",
            "Started processing: /content/gdrive/Shared drives/Bovi-Analytics/Projects/JosjeScheurwater/ProjectPicoLog/data/in/traintest/videos/raw_data_video_k2_20190411_1108.csv\n",
            "Done processing: /content/gdrive/Shared drives/Bovi-Analytics/Projects/JosjeScheurwater/ProjectPicoLog/data/in/traintest/videos/raw_data_video_k2_20190411_1108.csv\n",
            "Started processing: /content/gdrive/Shared drives/Bovi-Analytics/Projects/JosjeScheurwater/ProjectPicoLog/data/in/traintest/videos/raw_data_video_k26_20190404_1108.csv\n",
            "Done processing: /content/gdrive/Shared drives/Bovi-Analytics/Projects/JosjeScheurwater/ProjectPicoLog/data/in/traintest/videos/raw_data_video_k26_20190404_1108.csv\n",
            "Started processing: /content/gdrive/Shared drives/Bovi-Analytics/Projects/JosjeScheurwater/ProjectPicoLog/data/in/traintest/videos/raw_data_video_k26_20190325_1108.csv\n",
            "Done processing: /content/gdrive/Shared drives/Bovi-Analytics/Projects/JosjeScheurwater/ProjectPicoLog/data/in/traintest/videos/raw_data_video_k26_20190325_1108.csv\n",
            "Started processing: /content/gdrive/Shared drives/Bovi-Analytics/Projects/JosjeScheurwater/ProjectPicoLog/data/in/traintest/videos/raw_data_video_k84_20190405__corr37sec_1108.csv\n",
            "Done processing: /content/gdrive/Shared drives/Bovi-Analytics/Projects/JosjeScheurwater/ProjectPicoLog/data/in/traintest/videos/raw_data_video_k84_20190405__corr37sec_1108.csv\n",
            "Started processing: /content/gdrive/Shared drives/Bovi-Analytics/Projects/JosjeScheurwater/ProjectPicoLog/data/in/traintest/videos/raw_data_video_k21_20190304_1012.csv\n",
            "Done processing: /content/gdrive/Shared drives/Bovi-Analytics/Projects/JosjeScheurwater/ProjectPicoLog/data/in/traintest/videos/raw_data_video_k21_20190304_1012.csv\n"
          ],
          "name": "stdout"
        }
      ]
    },
    {
      "cell_type": "code",
      "metadata": {
        "id": "eDYYWCkyg6xS"
      },
      "source": [
        "df_concat_labels = pd.concat(list_label_df, axis=0, ignore_index=True)"
      ],
      "execution_count": null,
      "outputs": []
    },
    {
      "cell_type": "markdown",
      "metadata": {
        "id": "ab3Rf9kXTPJu"
      },
      "source": [
        "## Merge"
      ]
    },
    {
      "cell_type": "code",
      "metadata": {
        "id": "q8d9jc58AjAk"
      },
      "source": [
        "df_merged = pd.merge(df_concat_features, df_concat_labels, on='datetime', how='inner')"
      ],
      "execution_count": null,
      "outputs": []
    },
    {
      "cell_type": "code",
      "metadata": {
        "id": "PGR5sR0R-4zy"
      },
      "source": [
        "final_data_rf=df_merged"
      ],
      "execution_count": null,
      "outputs": []
    },
    {
      "cell_type": "markdown",
      "metadata": {
        "id": "Q_vujj-ACV9Y"
      },
      "source": [
        "Adopted from https://towardsdatascience.com/multiple-time-series-classification-by-using-continuous-wavelet-transformation-d29df97c0442"
      ]
    },
    {
      "cell_type": "markdown",
      "metadata": {
        "id": "QuvEv0Ntxog9"
      },
      "source": [
        "## Sliding windows"
      ]
    },
    {
      "cell_type": "code",
      "metadata": {
        "id": "E7mzzmfggehe"
      },
      "source": [
        "def np_ffill(arr, axis):\n",
        "    idx_shape = tuple([slice(None)] + [np.newaxis] * (len(arr.shape) - axis - 1))\n",
        "    idx = np.where(~np.isnan(arr), np.arange(arr.shape[axis])[idx_shape], 0)\n",
        "    np.maximum.accumulate(idx, axis=axis, out=idx)\n",
        "    slc = [np.arange(k)[tuple([slice(None) if dim==i else np.newaxis\n",
        "        for dim in range(len(arr.shape))])]\n",
        "        for i, k in enumerate(arr.shape)]\n",
        "    slc[axis] = idx\n",
        "    return arr[tuple(slc)]"
      ],
      "execution_count": null,
      "outputs": []
    },
    {
      "cell_type": "code",
      "metadata": {
        "id": "mCYd4fmFTQAB"
      },
      "source": [
        "def extract_sliding_windows(df, label_col_1, label_col_2, label_col_3, label_col_4, pressure_col,  id_col, sub_window_size, chopped):\n",
        "    series = []\n",
        "    max_time = len(df)\n",
        "    pressure_index = df.columns.get_loc(pressure_col)\n",
        "    for i in range(max_time-sub_window_size+1):\n",
        "      if df[\"file_index\"][i] % chopped == 0.0:\n",
        "        serie = df[pressure_col][i:sub_window_size+i-1].values\n",
        "        forward_serie = np_ffill(serie, 0)\n",
        "        backfill_serie = np_ffill(forward_serie[::-1], 0)[::-1]\n",
        "        id_arr = df[id_col][i:sub_window_size+i-1].values\n",
        "        id =  id_arr[::-1][0]\n",
        "        label_arr_1 = df[label_col_1][i:sub_window_size+i-1].values        \n",
        "        label_1 = label_arr_1[::-1][0]        \n",
        "        label_arr_2 = df[label_col_2][i:sub_window_size+i-1].values        \n",
        "        label_2 = label_arr_2[::-1][0]\n",
        "        label_arr_3 = df[label_col_3][i:sub_window_size+i-1].values        \n",
        "        label_3 = label_arr_3[::-1][0]\n",
        "        label_arr_4 = df[label_col_4][i:sub_window_size+i-1].values        \n",
        "        label_4 = label_arr_4[::-1][0]\n",
        "        series.append((id, label_1, label_2, label_3, label_4, backfill_serie))\n",
        "    return np.vstack(series)"
      ],
      "execution_count": null,
      "outputs": []
    },
    {
      "cell_type": "code",
      "metadata": {
        "id": "nPd5OWZGdXFY",
        "colab": {
          "base_uri": "https://localhost:8080/"
        },
        "outputId": "c7f0253c-ac6e-479d-de27-23aef630e0dd"
      },
      "source": [
        "result_np = extract_sliding_windows(df_merged, BEHAVIOUR_1, BEHAVIOUR_2, BEHAVIOUR_3, BEHAVIOUR_4, \"pressure\", \"cow_number\",WIN_SIZE, WIN_OVERLAP)"
      ],
      "execution_count": null,
      "outputs": [
        {
          "output_type": "stream",
          "text": [
            "/usr/local/lib/python3.6/dist-packages/numpy/core/_asarray.py:136: VisibleDeprecationWarning: Creating an ndarray from ragged nested sequences (which is a list-or-tuple of lists-or-tuples-or ndarrays with different lengths or shapes) is deprecated. If you meant to do this, you must specify 'dtype=object' when creating the ndarray\n",
            "  return array(a, dtype, copy=False, order=order, subok=True)\n"
          ],
          "name": "stderr"
        }
      ]
    },
    {
      "cell_type": "markdown",
      "metadata": {
        "id": "Y4ipE_kPw4FX"
      },
      "source": [
        "## Signal processing"
      ]
    },
    {
      "cell_type": "markdown",
      "metadata": {
        "id": "XxoUSDntMJ6Q"
      },
      "source": [
        "Adopted from http://nbviewer.ipython.org/github/demotu/BMC/blob/master/notebooks/DetectPeaks.ipynb\r\n",
        "\r\n",
        "Thank you Marcos Duarte"
      ]
    },
    {
      "cell_type": "code",
      "metadata": {
        "id": "WOyUZBM5cOf7"
      },
      "source": [
        "def detect_peaks(x, mph=None, mpd=1, threshold=0, edge='rising',\n",
        "                 kpsh=False, valley=False, show=False, ax=None):\n",
        "\n",
        "    \"\"\"Detect peaks in data based on their amplitude and other features.\n",
        "\n",
        "    Parameters\n",
        "    ----------\n",
        "    x : 1D array_like\n",
        "        data.\n",
        "    mph : {None, number}, optional (default = None)\n",
        "        detect peaks that are greater than minimum peak height.\n",
        "    mpd : positive integer, optional (default = 1)\n",
        "        detect peaks that are at least separated by minimum peak distance (in\n",
        "        number of data).\n",
        "    threshold : positive number, optional (default = 0)\n",
        "        detect peaks (valleys) that are greater (smaller) than `threshold`\n",
        "        in relation to their immediate neighbors.\n",
        "    edge : {None, 'rising', 'falling', 'both'}, optional (default = 'rising')\n",
        "        for a flat peak, keep only the rising edge ('rising'), only the\n",
        "        falling edge ('falling'), both edges ('both'), or don't detect a\n",
        "        flat peak (None).\n",
        "    kpsh : bool, optional (default = False)\n",
        "        keep peaks with same height even if they are closer than `mpd`.\n",
        "    valley : bool, optional (default = False)\n",
        "        if True (1), detect valleys (local minima) instead of peaks.\n",
        "    show : bool, optional (default = False)\n",
        "        if True (1), plot data in matplotlib figure.\n",
        "    ax : a matplotlib.axes.Axes instance, optional (default = None).\n",
        "\n",
        "    Returns\n",
        "    -------\n",
        "    ind : 1D array_like\n",
        "        indeces of the peaks in `x`.\n",
        "\n",
        "    Notes\n",
        "    -----\n",
        "    The detection of valleys instead of peaks is performed internally by simply\n",
        "    negating the data: `ind_valleys = detect_peaks(-x)`\n",
        "    \n",
        "    The function can handle NaN's \n",
        "\n",
        "    See this IPython Notebook [1]_.\n",
        "\n",
        "    References\n",
        "    ----------\n",
        "    .. [1] http://nbviewer.ipython.org/github/demotu/BMC/blob/master/notebooks/DetectPeaks.ipynb\n",
        "\n",
        "    Examples\n",
        "    --------\n",
        "    >>> from detect_peaks import detect_peaks\n",
        "    >>> x = np.random.randn(100)\n",
        "    >>> x[60:81] = np.nan\n",
        "    >>> # detect all peaks and plot data\n",
        "    >>> ind = detect_peaks(x, show=True)\n",
        "    >>> print(ind)\n",
        "\n",
        "    >>> x = np.sin(2*np.pi*5*np.linspace(0, 1, 200)) + np.random.randn(200)/5\n",
        "    >>> # set minimum peak height = 0 and minimum peak distance = 20\n",
        "    >>> detect_peaks(x, mph=0, mpd=20, show=True)\n",
        "\n",
        "    >>> x = [0, 1, 0, 2, 0, 3, 0, 2, 0, 1, 0]\n",
        "    >>> # set minimum peak distance = 2\n",
        "    >>> detect_peaks(x, mpd=2, show=True)\n",
        "\n",
        "    >>> x = np.sin(2*np.pi*5*np.linspace(0, 1, 200)) + np.random.randn(200)/5\n",
        "    >>> # detection of valleys instead of peaks\n",
        "    >>> detect_peaks(x, mph=0, mpd=20, valley=True, show=True)\n",
        "\n",
        "    >>> x = [0, 1, 1, 0, 1, 1, 0]\n",
        "    >>> # detect both edges\n",
        "    >>> detect_peaks(x, edge='both', show=True)\n",
        "\n",
        "    >>> x = [-2, 1, -2, 2, 1, 1, 3, 0]\n",
        "    >>> # set threshold = 2\n",
        "    >>> detect_peaks(x, threshold = 2, show=True)\n",
        "    \"\"\"\n",
        "\n",
        "    x = np.atleast_1d(x).astype('float64')\n",
        "    if x.size < 3:\n",
        "        return np.array([], dtype=int)\n",
        "    if valley:\n",
        "        x = -x\n",
        "    # find indices of all peaks\n",
        "    dx = x[1:] - x[:-1]\n",
        "    # handle NaN's\n",
        "    indnan = np.where(np.isnan(x))[0]\n",
        "    if indnan.size:\n",
        "        x[indnan] = np.inf\n",
        "        dx[np.where(np.isnan(dx))[0]] = np.inf\n",
        "    ine, ire, ife = np.array([[], [], []], dtype=int)\n",
        "    if not edge:\n",
        "        ine = np.where((np.hstack((dx, 0)) < 0) & (np.hstack((0, dx)) > 0))[0]\n",
        "    else:\n",
        "        if edge.lower() in ['rising', 'both']:\n",
        "            ire = np.where((np.hstack((dx, 0)) <= 0) & (np.hstack((0, dx)) > 0))[0]\n",
        "        if edge.lower() in ['falling', 'both']:\n",
        "            ife = np.where((np.hstack((dx, 0)) < 0) & (np.hstack((0, dx)) >= 0))[0]\n",
        "    ind = np.unique(np.hstack((ine, ire, ife)))\n",
        "    # handle NaN's\n",
        "    if ind.size and indnan.size:\n",
        "        # NaN's and values close to NaN's cannot be peaks\n",
        "        ind = ind[np.in1d(ind, np.unique(np.hstack((indnan, indnan-1, indnan+1))), invert=True)]\n",
        "    # first and last values of x cannot be peaks\n",
        "    if ind.size and ind[0] == 0:\n",
        "        ind = ind[1:]\n",
        "    if ind.size and ind[-1] == x.size-1:\n",
        "        ind = ind[:-1]\n",
        "    # remove peaks < minimum peak height\n",
        "    if ind.size and mph is not None:\n",
        "        ind = ind[x[ind] >= mph]\n",
        "    # remove peaks - neighbors < threshold\n",
        "    if ind.size and threshold > 0:\n",
        "        dx = np.min(np.vstack([x[ind]-x[ind-1], x[ind]-x[ind+1]]), axis=0)\n",
        "        ind = np.delete(ind, np.where(dx < threshold)[0])\n",
        "    # detect small peaks closer than minimum peak distance\n",
        "    if ind.size and mpd > 1:\n",
        "        ind = ind[np.argsort(x[ind])][::-1]  # sort ind by peak height\n",
        "        idel = np.zeros(ind.size, dtype=bool)\n",
        "        for i in range(ind.size):\n",
        "            if not idel[i]:\n",
        "                # keep peaks with the same height if kpsh is True\n",
        "                idel = idel | (ind >= ind[i] - mpd) & (ind <= ind[i] + mpd) \\\n",
        "                    & (x[ind[i]] > x[ind] if kpsh else True)\n",
        "                idel[i] = 0  # Keep current peak\n",
        "        # remove the small peaks and sort back the indices by their occurrence\n",
        "        ind = np.sort(ind[~idel])\n",
        "\n",
        "    if show:\n",
        "        if indnan.size:\n",
        "            x[indnan] = np.nan\n",
        "        if valley:\n",
        "            x = -x\n",
        "        _plot(x, mph, mpd, threshold, edge, valley, ax, ind)\n",
        "\n",
        "    return ind"
      ],
      "execution_count": null,
      "outputs": []
    },
    {
      "cell_type": "code",
      "metadata": {
        "id": "gu1Oav0mWT3x"
      },
      "source": [
        "def get_values(y_values, T, N, f_s):\n",
        "    y_values = y_values\n",
        "    x_values = [(1/f_s) * kk for kk in range(0,len(y_values))]\n",
        "    return x_values, y_values\n",
        "\n",
        "def get_fft_values(y_values, T, N, f_s):\n",
        "    f_values = np.linspace(0.0, 1.0/(2.0*T), N//2)\n",
        "    fft_values_ = fft(y_values)\n",
        "    fft_values = 2.0/N * np.abs(fft_values_[0:N//2])\n",
        "    return f_values, fft_values\n",
        "\n",
        "def get_psd_values(y_values, T, N, f_s):\n",
        "    f_values, psd_values = welch(y_values, fs=f_s)\n",
        "    return f_values, psd_values\n",
        "\n",
        "def autocorr(x):\n",
        "    result = np.correlate(x, x, mode='full')\n",
        "    return result[len(result)//2:]\n",
        " \n",
        "def get_autocorr_values(y_values, T, N, f_s):\n",
        "    autocorr_values = autocorr(y_values)\n",
        "    x_values = np.array([T * jj for jj in range(0, N)])\n",
        "    return x_values, autocorr_values\n",
        "    \n",
        "def get_first_n_peaks(x,y,no_peaks=5):\n",
        "    x_, y_ = list(x), list(y)\n",
        "    if len(x_) >= no_peaks:\n",
        "        return x_[:no_peaks], y_[:no_peaks]\n",
        "    else:\n",
        "        missing_no_peaks = no_peaks-len(x_)\n",
        "        return x_ + [0]*missing_no_peaks, y_ + [0]*missing_no_peaks\n",
        "    \n",
        "def get_features(x_values, y_values, mph):\n",
        "    indices_peaks = detect_peaks(y_values, mph=mph)\n",
        "    peaks_x, peaks_y = get_first_n_peaks(x_values[indices_peaks], y_values[indices_peaks])\n",
        "    return peaks_x + peaks_y\n"
      ],
      "execution_count": null,
      "outputs": []
    },
    {
      "cell_type": "code",
      "metadata": {
        "id": "4tUOn5cTs_xi"
      },
      "source": [
        "def extract_features(dataset, T, N, f_s, denominator):\n",
        "    percentile = 5\n",
        "    list_of_features = []\n",
        "    for signal_no in range(0, len(dataset)):\n",
        "      if signal_no % 10000 == 0.0:\n",
        "        print(signal_no)\n",
        "      features = []\n",
        "      id = dataset[signal_no, 0]      \n",
        "      label_1 = dataset[signal_no,1]\n",
        "      label_2 = dataset[signal_no,2]\n",
        "      label_3 = dataset[signal_no,3]\n",
        "      label_4 = dataset[signal_no,4]\n",
        "      signal = dataset[signal_no,5]\n",
        "      signal_min = np.nanpercentile(signal, percentile)\n",
        "      signal_max = np.nanpercentile(signal, 100-percentile)\n",
        "      mph = (signal_min + (signal_max - signal_min))/denominator     \n",
        "      #create features\n",
        "      features += get_features(*get_psd_values(signal, T, N, f_s), mph)\n",
        "      features += get_features(*get_fft_values(signal, T, N, f_s), mph)\n",
        "      features += get_features(*get_autocorr_values(signal, T, N, f_s), mph)\n",
        "      list_of_features.append((label_1, label_2, label_3, label_4, id, features))\n",
        "    return np.vstack(list_of_features)"
      ],
      "execution_count": null,
      "outputs": []
    },
    {
      "cell_type": "code",
      "metadata": {
        "id": "bnJcN5lxhtRL"
      },
      "source": [
        "  N = WIN_SIZE #samples\n",
        "  f_s = 2 #frequency\n",
        "  t_n = 0.5*N\n",
        "  T = t_n / N\n",
        "  sample_rate = 1 / f_s\n",
        "  denominator = 1000"
      ],
      "execution_count": null,
      "outputs": []
    },
    {
      "cell_type": "code",
      "metadata": {
        "colab": {
          "base_uri": "https://localhost:8080/"
        },
        "id": "OIpOCsl1h7GO",
        "outputId": "4c1ec132-1a07-4bc8-c540-5bd0fedb1097"
      },
      "source": [
        "signal_features = extract_features(result_np, T, N, f_s, denominator)"
      ],
      "execution_count": null,
      "outputs": [
        {
          "output_type": "stream",
          "text": [
            "0\n"
          ],
          "name": "stdout"
        },
        {
          "output_type": "stream",
          "text": [
            "/usr/local/lib/python3.6/dist-packages/scipy/signal/spectral.py:1966: UserWarning: nperseg = 256 is greater than input length  = 239, using nperseg = 239\n",
            "  .format(nperseg, input_length))\n"
          ],
          "name": "stderr"
        },
        {
          "output_type": "stream",
          "text": [
            "10000\n",
            "20000\n",
            "30000\n",
            "40000\n",
            "50000\n",
            "60000\n",
            "70000\n",
            "80000\n",
            "90000\n",
            "100000\n",
            "110000\n",
            "120000\n",
            "130000\n",
            "140000\n",
            "150000\n",
            "160000\n",
            "170000\n",
            "180000\n",
            "190000\n",
            "200000\n",
            "210000\n",
            "220000\n",
            "230000\n",
            "240000\n",
            "250000\n",
            "260000\n",
            "270000\n",
            "280000\n",
            "290000\n",
            "300000\n",
            "310000\n",
            "320000\n",
            "330000\n",
            "340000\n",
            "350000\n",
            "360000\n",
            "370000\n",
            "380000\n",
            "390000\n",
            "400000\n",
            "410000\n"
          ],
          "name": "stdout"
        },
        {
          "output_type": "stream",
          "text": [
            "/usr/local/lib/python3.6/dist-packages/numpy/core/_asarray.py:136: VisibleDeprecationWarning: Creating an ndarray from ragged nested sequences (which is a list-or-tuple of lists-or-tuples-or ndarrays with different lengths or shapes) is deprecated. If you meant to do this, you must specify 'dtype=object' when creating the ndarray\n",
            "  return array(a, dtype, copy=False, order=order, subok=True)\n"
          ],
          "name": "stderr"
        }
      ]
    },
    {
      "cell_type": "code",
      "metadata": {
        "id": "0g4URgoYTtT6"
      },
      "source": [
        "X_final = np.stack(signal_features[:,5], axis =0)"
      ],
      "execution_count": null,
      "outputs": []
    },
    {
      "cell_type": "markdown",
      "metadata": {
        "id": "xdYju3T0U3zs"
      },
      "source": [
        "# Random_forest_algorithm rumination"
      ]
    },
    {
      "cell_type": "code",
      "metadata": {
        "id": "GKVyOQwnw_0I"
      },
      "source": [
        "BEHAVIOUR= 'rumination'"
      ],
      "execution_count": null,
      "outputs": []
    },
    {
      "cell_type": "code",
      "metadata": {
        "id": "m-WUxDbIt15t"
      },
      "source": [
        "y_final = np.stack(signal_features[:,0], axis =0) # BEHAVIOUR_1= 'rumination_video'"
      ],
      "execution_count": null,
      "outputs": []
    },
    {
      "cell_type": "code",
      "metadata": {
        "id": "lCalRNXaFTEc"
      },
      "source": [
        "# Split dataset into trainingsset (70%) and testset (30%)\n",
        "X_train, X_test, y_train, y_test = train_test_split(X_final, y_final, test_size=0.3, random_state=1)"
      ],
      "execution_count": null,
      "outputs": []
    },
    {
      "cell_type": "markdown",
      "metadata": {
        "id": "AJxQpu8vWp8X"
      },
      "source": [
        "## Test settings random_forest_algorithm"
      ]
    },
    {
      "cell_type": "markdown",
      "metadata": {
        "id": "uyYDnrCqBXwe"
      },
      "source": [
        "\r\n",
        "### Test number of trees\r\n",
        "Adopted from https://medium.com/all-things-ai/in-depth-parameter-tuning-for-random-forest-d67bb7e920d"
      ]
    },
    {
      "cell_type": "code",
      "metadata": {
        "colab": {
          "base_uri": "https://localhost:8080/"
        },
        "id": "8cnMf9BfBage",
        "outputId": "43a12266-97e1-4a08-92c0-ef12351d7b89"
      },
      "source": [
        "n_estimators = [1, 2, 4, 8, 16, 32, 64, 100, 200]\r\n",
        "train_results = []\r\n",
        "test_results = []\r\n",
        "for estimator in n_estimators:\r\n",
        "   print(estimator)\r\n",
        "   rf = RandomForestClassifier(n_estimators=estimator, max_features=\"sqrt\")\r\n",
        "   rf.fit(X_train, y_train)\r\n",
        "   train_pred = rf.predict(X_train)\r\n",
        "   false_positive_rate, true_positive_rate, thresholds = roc_curve(y_train, train_pred)\r\n",
        "   roc_auc = auc(false_positive_rate, true_positive_rate)\r\n",
        "   train_results.append(roc_auc)\r\n",
        "   y_pred = rf.predict(X_test)\r\n",
        "   false_positive_rate, true_positive_rate, thresholds = roc_curve(y_test, y_pred)\r\n",
        "   roc_auc = auc(false_positive_rate, true_positive_rate)\r\n",
        "   test_results.append(roc_auc)"
      ],
      "execution_count": null,
      "outputs": [
        {
          "output_type": "stream",
          "text": [
            "1\n",
            "2\n",
            "4\n",
            "8\n",
            "16\n",
            "32\n",
            "64\n",
            "100\n",
            "200\n"
          ],
          "name": "stdout"
        }
      ]
    },
    {
      "cell_type": "code",
      "metadata": {
        "colab": {
          "base_uri": "https://localhost:8080/",
          "height": 280
        },
        "id": "6DNcUg4SBqku",
        "outputId": "e7705e1b-181a-4f3d-fd2e-3e1a2fd1e751"
      },
      "source": [
        "from matplotlib.legend_handler import HandlerLine2D\r\n",
        "line1, = plt.plot(n_estimators, train_results, \"b\", label=\"Train AUC\")\r\n",
        "line2, = plt.plot(n_estimators, test_results, \"r\", label=\"Test AUC\")\r\n",
        "plt.legend(handler_map={line1: HandlerLine2D(numpoints=2)})\r\n",
        "plt.ylabel(\"AUC score\")\r\n",
        "plt.xlabel(\"n_estimators\")\r\n",
        "plt.show()"
      ],
      "execution_count": null,
      "outputs": [
        {
          "output_type": "display_data",
          "data": {
            "image/png": "[encoded data removed]",
            "text/plain": [
              "<Figure size 432x288 with 1 Axes>"
            ]
          },
          "metadata": {
            "tags": [],
            "needs_background": "light"
          }
        }
      ]
    },
    {
      "cell_type": "markdown",
      "metadata": {
        "id": "wY-eagU2DICj"
      },
      "source": [
        "### Test max depth"
      ]
    },
    {
      "cell_type": "code",
      "metadata": {
        "colab": {
          "base_uri": "https://localhost:8080/"
        },
        "id": "etmoBtlTDJqq",
        "outputId": "3ebbad45-5dbd-45a1-d71d-e0bff5c0f81f"
      },
      "source": [
        "max_depths = np.linspace(1, 32, 32, endpoint=True)\r\n",
        "train_results = []\r\n",
        "test_results = []\r\n",
        "for max_depth in max_depths:\r\n",
        "   print(max_depth)\r\n",
        "   rf = RandomForestClassifier(max_depth=max_depth, max_features=\"sqrt\", n_estimators = 50)\r\n",
        "   rf.fit(X_train, y_train)\r\n",
        "   train_pred = rf.predict(X_train)\r\n",
        "   false_positive_rate, true_positive_rate, thresholds = roc_curve(y_train, train_pred)\r\n",
        "   roc_auc = auc(false_positive_rate, true_positive_rate)\r\n",
        "   train_results.append(roc_auc)\r\n",
        "   y_pred = rf.predict(X_test)\r\n",
        "   false_positive_rate, true_positive_rate, thresholds = roc_curve(y_test, y_pred)\r\n",
        "   roc_auc = auc(false_positive_rate, true_positive_rate)\r\n",
        "   test_results.append(roc_auc)"
      ],
      "execution_count": null,
      "outputs": [
        {
          "output_type": "stream",
          "text": [
            "1.0\n",
            "2.0\n",
            "3.0\n",
            "4.0\n",
            "5.0\n",
            "6.0\n",
            "7.0\n",
            "8.0\n",
            "9.0\n",
            "10.0\n",
            "11.0\n",
            "12.0\n",
            "13.0\n",
            "14.0\n",
            "15.0\n",
            "16.0\n",
            "17.0\n",
            "18.0\n",
            "19.0\n",
            "20.0\n",
            "21.0\n",
            "22.0\n",
            "23.0\n",
            "24.0\n",
            "25.0\n",
            "26.0\n",
            "27.0\n",
            "28.0\n",
            "29.0\n",
            "30.0\n",
            "31.0\n",
            "32.0\n"
          ],
          "name": "stdout"
        }
      ]
    },
    {
      "cell_type": "code",
      "metadata": {
        "colab": {
          "base_uri": "https://localhost:8080/",
          "height": 279
        },
        "id": "VJbzCX1jDy6r",
        "outputId": "18400147-fedb-412f-8011-07f91e4f8978"
      },
      "source": [
        "from matplotlib.legend_handler import HandlerLine2D\r\n",
        "line1, = plt.plot(max_depths, train_results, \"b\", label=\"Train AUC\")\r\n",
        "line2, = plt.plot(max_depths, test_results, \"r\", label=\"Test AUC\")\r\n",
        "plt.legend(handler_map={line1: HandlerLine2D(numpoints=2)})\r\n",
        "plt.ylabel(\"AUC score\")\r\n",
        "plt.xlabel(\"Tree depth\")\r\n",
        "plt.show()"
      ],
      "execution_count": null,
      "outputs": [
        {
          "output_type": "display_data",
          "data": {
            "image/png": "[encoded data removed]",
            "text/plain": [
              "<Figure size 432x288 with 1 Axes>"
            ]
          },
          "metadata": {
            "tags": [],
            "needs_background": "light"
          }
        }
      ]
    },
    {
      "cell_type": "markdown",
      "metadata": {
        "id": "5Fuu1C-sH3ox"
      },
      "source": [
        "## Selected RF\r\n",
        "From the previous we select settings for our selected RF"
      ]
    },
    {
      "cell_type": "code",
      "metadata": {
        "id": "SsOXxGkMIHDK"
      },
      "source": [
        "# Random Forest\n",
        "rf = RandomForestClassifier(n_estimators=25, max_depth=14, max_features=\"sqrt\")\n",
        "# Train Decision Tree Classifer\n",
        "rf.fit(X_train,y_train)\n",
        "\n",
        "#Predict the response for test dataset\n",
        "y_pred = rf.predict(X_test)"
      ],
      "execution_count": null,
      "outputs": []
    },
    {
      "cell_type": "markdown",
      "metadata": {
        "id": "fbJp0T8quEle"
      },
      "source": [
        "## Confusion matrix and classification report"
      ]
    },
    {
      "cell_type": "code",
      "metadata": {
        "colab": {
          "base_uri": "https://localhost:8080/"
        },
        "id": "16l3aAy7IHDQ",
        "outputId": "f5ac576c-8b07-40ba-a2fe-3fe2c9953002"
      },
      "source": [
        "### Evaluation\n",
        "print(\"Behaviour: \"+ str(BEHAVIOUR))\n",
        "print (\"Windows_size: \" + str(WIN_SIZE/2) +\" sec \" \"(with overlap: \"+ str(WIN_OVERLAP/2)+ \" sec)\")\n",
        "\n",
        "results = confusion_matrix(y_test,y_pred)\n",
        "\n",
        "print('Confusion Matrix Validation:')\n",
        "print(results) \n",
        "print('Accuracy Score : ', accuracy_score(y_test, y_pred))\n",
        "print('Report : ')\n",
        "print(classification_report(y_test, y_pred))"
      ],
      "execution_count": null,
      "outputs": [
        {
          "output_type": "stream",
          "text": [
            "Behaviour: rumination\n",
            "Windows_size: 120.0 sec (with overlap: 0.5 sec)\n",
            "Confusion Matrix Validation:\n",
            "[[83940   570]\n",
            " [ 2196 37410]]\n",
            "Accuracy Score :  0.9777143962099971\n",
            "Report : \n",
            "              precision    recall  f1-score   support\n",
            "\n",
            "           0       0.97      0.99      0.98     84510\n",
            "           1       0.98      0.94      0.96     39606\n",
            "\n",
            "    accuracy                           0.98    124116\n",
            "   macro avg       0.98      0.97      0.97    124116\n",
            "weighted avg       0.98      0.98      0.98    124116\n",
            "\n"
          ],
          "name": "stdout"
        }
      ]
    },
    {
      "cell_type": "markdown",
      "metadata": {
        "id": "rgyuCsX-5K6r"
      },
      "source": [
        "##Feature Importances"
      ]
    },
    {
      "cell_type": "code",
      "metadata": {
        "colab": {
          "base_uri": "https://localhost:8080/"
        },
        "id": "o75UISZPJfOu",
        "outputId": "e8354437-c07b-4ebe-ac00-a99d56300b56"
      },
      "source": [
        "# feature importance\n",
        "model = rf\n",
        "importance = model.feature_importances_\n",
        "# summarize feature importance\n",
        "for i,v in enumerate(importance):\n",
        "\tprint('Feature: %0d, Score: %.5f' % (i,v))"
      ],
      "execution_count": null,
      "outputs": [
        {
          "output_type": "stream",
          "text": [
            "Feature: 0, Score: 0.01561\n",
            "Feature: 1, Score: 0.04103\n",
            "Feature: 2, Score: 0.09440\n",
            "Feature: 3, Score: 0.07477\n",
            "Feature: 4, Score: 0.06322\n",
            "Feature: 5, Score: 0.03990\n",
            "Feature: 6, Score: 0.05570\n",
            "Feature: 7, Score: 0.06235\n",
            "Feature: 8, Score: 0.03674\n",
            "Feature: 9, Score: 0.04336\n",
            "Feature: 10, Score: 0.05380\n",
            "Feature: 11, Score: 0.04411\n",
            "Feature: 12, Score: 0.01845\n",
            "Feature: 13, Score: 0.01445\n",
            "Feature: 14, Score: 0.01611\n",
            "Feature: 15, Score: 0.03248\n",
            "Feature: 16, Score: 0.05839\n",
            "Feature: 17, Score: 0.11515\n",
            "Feature: 18, Score: 0.02881\n",
            "Feature: 19, Score: 0.08771\n",
            "Feature: 20, Score: 0.00111\n",
            "Feature: 21, Score: 0.00027\n",
            "Feature: 22, Score: 0.00013\n",
            "Feature: 23, Score: 0.00008\n",
            "Feature: 24, Score: 0.00003\n",
            "Feature: 25, Score: 0.00127\n",
            "Feature: 26, Score: 0.00042\n",
            "Feature: 27, Score: 0.00007\n",
            "Feature: 28, Score: 0.00004\n",
            "Feature: 29, Score: 0.00002\n"
          ],
          "name": "stdout"
        }
      ]
    },
    {
      "cell_type": "markdown",
      "metadata": {
        "id": "u98YWPj95v3o"
      },
      "source": [
        "# Stratified cross validation rumination"
      ]
    },
    {
      "cell_type": "code",
      "metadata": {
        "colab": {
          "base_uri": "https://localhost:8080/"
        },
        "id": "T8ilE754VkTq",
        "outputId": "1dc08100-49e6-4170-fb14-2ea5b1c87757"
      },
      "source": [
        "from sklearn.model_selection import StratifiedKFold\n",
        "rf = RandomForestClassifier(n_estimators=25, max_depth=14, max_features=\"sqrt\")\n",
        "skf = StratifiedKFold(n_splits=5, random_state=None, shuffle=True)\n",
        "i=1\n",
        "\n",
        "for train_index, test_index in skf.split(X_final, y_final):\n",
        "  X_train, X_test = X_final[train_index], X_final[test_index]\n",
        "  y_train, y_test = y_final[train_index], y_final[test_index]\n",
        "  rf.fit(X_train,y_train)\n",
        "# cross_validate also allows to specify metrics which you want to see\n",
        "  print (\"Windows size is \"+ str(WIN_SIZE/2)+\" seconds with overlap \"+ str(WIN_OVERLAP/2)+ \" seconds\")\n",
        "  print(confusion_matrix(y_test,rf.predict(X_test)))\n",
        "  print(f\"Accuracy for the fold no. {i} on the test set: {accuracy_score(y_test, rf.predict(X_test))}\")\n",
        "  print('Report : ')\n",
        "  print(classification_report(y_test, rf.predict(X_test)))\n",
        "  i += 1"
      ],
      "execution_count": null,
      "outputs": [
        {
          "output_type": "stream",
          "text": [
            "Windows size is 120.0 seconds with overlap 0.5 seconds\n",
            "[[55921   379]\n",
            " [ 1407 25037]]\n",
            "Accuracy for the fold no. 1 on the test set: 0.978415353379097\n",
            "Report : \n",
            "              precision    recall  f1-score   support\n",
            "\n",
            "           0       0.98      0.99      0.98     56300\n",
            "           1       0.99      0.95      0.97     26444\n",
            "\n",
            "    accuracy                           0.98     82744\n",
            "   macro avg       0.98      0.97      0.97     82744\n",
            "weighted avg       0.98      0.98      0.98     82744\n",
            "\n",
            "Windows size is 120.0 seconds with overlap 0.5 seconds\n",
            "[[55946   355]\n",
            " [ 1256 25187]]\n",
            "Accuracy for the fold no. 2 on the test set: 0.9805303103548294\n",
            "Report : \n",
            "              precision    recall  f1-score   support\n",
            "\n",
            "           0       0.98      0.99      0.99     56301\n",
            "           1       0.99      0.95      0.97     26443\n",
            "\n",
            "    accuracy                           0.98     82744\n",
            "   macro avg       0.98      0.97      0.98     82744\n",
            "weighted avg       0.98      0.98      0.98     82744\n",
            "\n",
            "Windows size is 120.0 seconds with overlap 0.5 seconds\n",
            "[[55949   352]\n",
            " [ 1344 25099]]\n",
            "Accuracy for the fold no. 3 on the test set: 0.979503045538045\n",
            "Report : \n",
            "              precision    recall  f1-score   support\n",
            "\n",
            "           0       0.98      0.99      0.99     56301\n",
            "           1       0.99      0.95      0.97     26443\n",
            "\n",
            "    accuracy                           0.98     82744\n",
            "   macro avg       0.98      0.97      0.98     82744\n",
            "weighted avg       0.98      0.98      0.98     82744\n",
            "\n",
            "Windows size is 120.0 seconds with overlap 0.5 seconds\n",
            "[[55901   399]\n",
            " [ 1392 25051]]\n",
            "Accuracy for the fold no. 4 on the test set: 0.9783546644429136\n",
            "Report : \n",
            "              precision    recall  f1-score   support\n",
            "\n",
            "           0       0.98      0.99      0.98     56300\n",
            "           1       0.98      0.95      0.97     26443\n",
            "\n",
            "    accuracy                           0.98     82743\n",
            "   macro avg       0.98      0.97      0.97     82743\n",
            "weighted avg       0.98      0.98      0.98     82743\n",
            "\n",
            "Windows size is 120.0 seconds with overlap 0.5 seconds\n",
            "[[55930   370]\n",
            " [ 1467 24976]]\n",
            "Accuracy for the fold no. 5 on the test set: 0.9777987261762324\n",
            "Report : \n",
            "              precision    recall  f1-score   support\n",
            "\n",
            "           0       0.97      0.99      0.98     56300\n",
            "           1       0.99      0.94      0.96     26443\n",
            "\n",
            "    accuracy                           0.98     82743\n",
            "   macro avg       0.98      0.97      0.97     82743\n",
            "weighted avg       0.98      0.98      0.98     82743\n",
            "\n"
          ],
          "name": "stdout"
        }
      ]
    },
    {
      "cell_type": "markdown",
      "metadata": {
        "id": "nNJvh0c25_1p"
      },
      "source": [
        "# Leave-out-one-animal rumination"
      ]
    },
    {
      "cell_type": "code",
      "metadata": {
        "id": "8TrSfLzaWRI2"
      },
      "source": [
        "# Choose cow to leave out 2.0; 13.0; 21.0; 84.0\n",
        "COW_NUMBER= 84.0"
      ],
      "execution_count": null,
      "outputs": []
    },
    {
      "cell_type": "code",
      "metadata": {
        "id": "tHYXhRqQMC6n"
      },
      "source": [
        "def choose_cow_to_leave_out(COW_NUMBER):\n",
        "    result_train = np.stack(signal_features[signal_features[:,4] != COW_NUMBER], axis =0)\n",
        "    result_test = np.stack(signal_features[signal_features[:,4] == COW_NUMBER], axis =0)\n",
        "    return result_test, result_train"
      ],
      "execution_count": null,
      "outputs": []
    },
    {
      "cell_type": "code",
      "metadata": {
        "id": "5qsidGLzPXRA"
      },
      "source": [
        "result_test, result_train = choose_cow_to_leave_out(COW_NUMBER)"
      ],
      "execution_count": null,
      "outputs": []
    },
    {
      "cell_type": "code",
      "metadata": {
        "id": "d_DKAeBgIomV"
      },
      "source": [
        "#leave one cow out\n",
        "y_train = np.stack(result_train[:,0], axis =0)\n",
        "y_test = np.stack(result_test[:,0], axis =0)\n",
        "X_train = np.stack(result_train[:,5], axis =0)\n",
        "X_test = np.stack(result_test[:,5], axis =0)"
      ],
      "execution_count": null,
      "outputs": []
    },
    {
      "cell_type": "markdown",
      "metadata": {
        "id": "dV5cO0Pj7wnd"
      },
      "source": [
        "##Selected RF"
      ]
    },
    {
      "cell_type": "code",
      "metadata": {
        "id": "SxTSkv7ldN0G"
      },
      "source": [
        "rf = RandomForestClassifier(n_estimators=25, max_depth=14, max_features=\"sqrt\")\n",
        "rf.fit(X_train,y_train)\n",
        "\n",
        "#Predict the response for test dataset\n",
        "y_pred = rf.predict(X_test)"
      ],
      "execution_count": null,
      "outputs": []
    },
    {
      "cell_type": "markdown",
      "metadata": {
        "id": "5oeCXkcK7dc1"
      },
      "source": [
        "##Confusion matrix and classification report"
      ]
    },
    {
      "cell_type": "code",
      "metadata": {
        "colab": {
          "base_uri": "https://localhost:8080/"
        },
        "id": "q_R19kwDdiqf",
        "outputId": "988cf82c-5c87-48cc-b01a-e53236f1dd2e"
      },
      "source": [
        "# Evaluation\n",
        "print (\"Evaluation RF validation with leave out cow_number \"+ str(COW_NUMBER))\n",
        "print(\"\")\n",
        "print(\"Behaviour: \"+ str(BEHAVIOUR))\n",
        "print (\"Windows_size: \" + str(WIN_SIZE/2) +\" sec \" \"(with overlap: \"+ str(WIN_OVERLAP/2)+ \" sec)\")\n",
        "\n",
        "results = confusion_matrix(y_test,y_pred)\n",
        "\n",
        "print('Confusion Matrix Validation:')\n",
        "print(results) \n",
        "print('Accuracy Score : ', accuracy_score(y_test, y_pred))\n",
        "print('Report : ')\n",
        "print(classification_report(y_test, y_pred))"
      ],
      "execution_count": null,
      "outputs": [
        {
          "output_type": "stream",
          "text": [
            "Evaluation RF validation with leave out cow_number 84.0\n",
            "\n",
            "Behaviour: rumination\n",
            "Windows_size: 120.0 sec (with overlap: 0.5 sec)\n",
            "Confusion Matrix Validation:\n",
            "[[92392  3717]\n",
            " [ 7190 31758]]\n",
            "Accuracy Score :  0.9192415054384445\n",
            "Report : \n",
            "              precision    recall  f1-score   support\n",
            "\n",
            "           0       0.93      0.96      0.94     96109\n",
            "           1       0.90      0.82      0.85     38948\n",
            "\n",
            "    accuracy                           0.92    135057\n",
            "   macro avg       0.91      0.89      0.90    135057\n",
            "weighted avg       0.92      0.92      0.92    135057\n",
            "\n"
          ],
          "name": "stdout"
        }
      ]
    },
    {
      "cell_type": "markdown",
      "metadata": {
        "id": "FNy2Wygkvbyl"
      },
      "source": [
        "# Random_forest_algorithm eating"
      ]
    },
    {
      "cell_type": "code",
      "metadata": {
        "id": "tKdiPiZSw2pY"
      },
      "source": [
        "BEHAVIOUR='eating'"
      ],
      "execution_count": null,
      "outputs": []
    },
    {
      "cell_type": "code",
      "metadata": {
        "id": "VZTrdHP5vbyv"
      },
      "source": [
        "y_final = np.stack(signal_features[:,0], axis =0) # BEHAVIOUR_1= 'rumination_video'"
      ],
      "execution_count": null,
      "outputs": []
    },
    {
      "cell_type": "code",
      "metadata": {
        "id": "aXSfq-llvbyw"
      },
      "source": [
        "# Split dataset into trainingsset (70%) and testset (30%)\n",
        "X_train, X_test, y_train, y_test = train_test_split(X_final, y_final, test_size=0.3, random_state=1)"
      ],
      "execution_count": null,
      "outputs": []
    },
    {
      "cell_type": "markdown",
      "metadata": {
        "id": "k3jKi-NVvbyx"
      },
      "source": [
        "## Test settings random_forest_algorithm"
      ]
    },
    {
      "cell_type": "code",
      "metadata": {
        "colab": {
          "base_uri": "https://localhost:8080/"
        },
        "id": "MNeMy-6uvbyy",
        "outputId": "5e2a06ed-a225-466e-a132-8802f1a0e7dd"
      },
      "source": [
        "n_estimators = [1, 2, 4, 8, 16, 32, 64, 100, 200]\r\n",
        "train_results = []\r\n",
        "test_results = []\r\n",
        "for estimator in n_estimators:\r\n",
        "   print(estimator)\r\n",
        "   rf = RandomForestClassifier(n_estimators=estimator, max_features=\"sqrt\")\r\n",
        "   rf.fit(X_train, y_train)\r\n",
        "   train_pred = rf.predict(X_train)\r\n",
        "   false_positive_rate, true_positive_rate, thresholds = roc_curve(y_train, train_pred)\r\n",
        "   roc_auc = auc(false_positive_rate, true_positive_rate)\r\n",
        "   train_results.append(roc_auc)\r\n",
        "   y_pred = rf.predict(X_test)\r\n",
        "   false_positive_rate, true_positive_rate, thresholds = roc_curve(y_test, y_pred)\r\n",
        "   roc_auc = auc(false_positive_rate, true_positive_rate)\r\n",
        "   test_results.append(roc_auc)"
      ],
      "execution_count": null,
      "outputs": [
        {
          "output_type": "stream",
          "text": [
            "1\n",
            "2\n",
            "4\n",
            "8\n",
            "16\n",
            "32\n",
            "64\n",
            "100\n",
            "200\n"
          ],
          "name": "stdout"
        }
      ]
    },
    {
      "cell_type": "code",
      "metadata": {
        "colab": {
          "base_uri": "https://localhost:8080/",
          "height": 280
        },
        "id": "_VpPWzWIvby0",
        "outputId": "f9955840-47ff-48ca-953b-26e7f649ef32"
      },
      "source": [
        "from matplotlib.legend_handler import HandlerLine2D\r\n",
        "line1, = plt.plot(n_estimators, train_results, \"b\", label=\"Train AUC\")\r\n",
        "line2, = plt.plot(n_estimators, test_results, \"r\", label=\"Test AUC\")\r\n",
        "plt.legend(handler_map={line1: HandlerLine2D(numpoints=2)})\r\n",
        "plt.ylabel(\"AUC score\")\r\n",
        "plt.xlabel(\"n_estimators\")\r\n",
        "plt.show()"
      ],
      "execution_count": null,
      "outputs": [
        {
          "output_type": "display_data",
          "data": {
            "image/png": "[encoded data removed]",
            "text/plain": [
              "<Figure size 432x288 with 1 Axes>"
            ]
          },
          "metadata": {
            "tags": [],
            "needs_background": "light"
          }
        }
      ]
    },
    {
      "cell_type": "markdown",
      "metadata": {
        "id": "g3I6meg_vby1"
      },
      "source": [
        "### Test max depth"
      ]
    },
    {
      "cell_type": "code",
      "metadata": {
        "colab": {
          "base_uri": "https://localhost:8080/"
        },
        "id": "zVLnZTC-vby2",
        "outputId": "0c2404d3-9cc5-43e8-949e-75ceec30988d"
      },
      "source": [
        "max_depths = np.linspace(1, 32, 32, endpoint=True)\r\n",
        "train_results = []\r\n",
        "test_results = []\r\n",
        "for max_depth in max_depths:\r\n",
        "   print(max_depth)\r\n",
        "   rf = RandomForestClassifier(max_depth=max_depth, max_features=\"sqrt\", n_estimators = 50)\r\n",
        "   rf.fit(X_train, y_train)\r\n",
        "   train_pred = rf.predict(X_train)\r\n",
        "   false_positive_rate, true_positive_rate, thresholds = roc_curve(y_train, train_pred)\r\n",
        "   roc_auc = auc(false_positive_rate, true_positive_rate)\r\n",
        "   train_results.append(roc_auc)\r\n",
        "   y_pred = rf.predict(X_test)\r\n",
        "   false_positive_rate, true_positive_rate, thresholds = roc_curve(y_test, y_pred)\r\n",
        "   roc_auc = auc(false_positive_rate, true_positive_rate)\r\n",
        "   test_results.append(roc_auc)"
      ],
      "execution_count": null,
      "outputs": [
        {
          "output_type": "stream",
          "text": [
            "1.0\n",
            "2.0\n",
            "3.0\n",
            "4.0\n",
            "5.0\n",
            "6.0\n",
            "7.0\n",
            "8.0\n",
            "9.0\n",
            "10.0\n",
            "11.0\n",
            "12.0\n",
            "13.0\n",
            "14.0\n",
            "15.0\n",
            "16.0\n",
            "17.0\n",
            "18.0\n",
            "19.0\n",
            "20.0\n",
            "21.0\n",
            "22.0\n",
            "23.0\n",
            "24.0\n",
            "25.0\n",
            "26.0\n",
            "27.0\n",
            "28.0\n",
            "29.0\n",
            "30.0\n",
            "31.0\n",
            "32.0\n"
          ],
          "name": "stdout"
        }
      ]
    },
    {
      "cell_type": "code",
      "metadata": {
        "colab": {
          "base_uri": "https://localhost:8080/",
          "height": 54
        },
        "id": "sN-ePEulvby2",
        "outputId": "797467d7-18ac-40af-9efe-971839ff8faf"
      },
      "source": [
        "from matplotlib.legend_handler import HandlerLine2D\r\n",
        "line1, = plt.plot(max_depths, train_results, \"b\", label=\"Train AUC\")\r\n",
        "line2, = plt.plot(max_depths, test_results, \"r\", label=\"Test AUC\")\r\n",
        "plt.legend(handler_map={line1: HandlerLine2D(numpoints=2)})\r\n",
        "plt.ylabel(\"AUC score\")\r\n",
        "plt.xlabel(\"Tree depth\")\r\n",
        "plt.show()"
      ],
      "execution_count": null,
      "outputs": [
        {
          "output_type": "display_data",
          "data": {
            "image/png": "[encoded data removed]",
            "text/plain": [
              "<Figure size 432x288 with 1 Axes>"
            ]
          },
          "metadata": {
            "tags": [],
            "needs_background": "light"
          }
        }
      ]
    },
    {
      "cell_type": "markdown",
      "metadata": {
        "id": "1M4I9DMPvby3"
      },
      "source": [
        "## Selected RF\r\n",
        "From the previous we select settings for our selected RF"
      ]
    },
    {
      "cell_type": "code",
      "metadata": {
        "id": "ZoqVh_F_vby3"
      },
      "source": [
        "# Random Forest\n",
        "rf = RandomForestClassifier(n_estimators=25, max_depth=14, max_features=\"sqrt\")\n",
        "# Train Decision Tree Classifer\n",
        "rf.fit(X_train,y_train)\n",
        "\n",
        "#Predict the response for test dataset\n",
        "y_pred = rf.predict(X_test)"
      ],
      "execution_count": null,
      "outputs": []
    },
    {
      "cell_type": "markdown",
      "metadata": {
        "id": "-KCF7N0Ivby4"
      },
      "source": [
        "## Confusion matrix and classification report"
      ]
    },
    {
      "cell_type": "code",
      "metadata": {
        "colab": {
          "base_uri": "https://localhost:8080/"
        },
        "id": "VwXVge1nvby4",
        "outputId": "4d579a5b-c3f3-4613-9090-f123cacb7103"
      },
      "source": [
        "### Evaluation\n",
        "print(\"Behaviour: \"+ str(BEHAVIOUR))\n",
        "print (\"Windows_size: \" + str(WIN_SIZE/2) +\" sec \" \"(with overlap: \"+ str(WIN_OVERLAP/2)+ \" sec)\")\n",
        "\n",
        "results = confusion_matrix(y_test,y_pred)\n",
        "\n",
        "print('Confusion Matrix Validation:')\n",
        "print(results) \n",
        "print('Accuracy Score : ', accuracy_score(y_test, y_pred))\n",
        "print('Report : ')\n",
        "print(classification_report(y_test, y_pred))"
      ],
      "execution_count": null,
      "outputs": [
        {
          "output_type": "stream",
          "text": [
            "Behaviour: eating\n",
            "Windows_size: 120.0 sec (with overlap: 0.5 sec)\n",
            "Confusion Matrix Validation:\n",
            "[[83899   611]\n",
            " [ 2148 37458]]\n",
            "Accuracy Score :  0.9777707950626833\n",
            "Report : \n",
            "              precision    recall  f1-score   support\n",
            "\n",
            "           0       0.98      0.99      0.98     84510\n",
            "           1       0.98      0.95      0.96     39606\n",
            "\n",
            "    accuracy                           0.98    124116\n",
            "   macro avg       0.98      0.97      0.97    124116\n",
            "weighted avg       0.98      0.98      0.98    124116\n",
            "\n"
          ],
          "name": "stdout"
        }
      ]
    },
    {
      "cell_type": "markdown",
      "metadata": {
        "id": "nzu-L5Ta5YNy"
      },
      "source": [
        "##Feature importances"
      ]
    },
    {
      "cell_type": "code",
      "metadata": {
        "colab": {
          "base_uri": "https://localhost:8080/"
        },
        "id": "QP2iuIoJvby5",
        "outputId": "d3d50376-c8a5-4e3e-c4db-46e4f7a7211c"
      },
      "source": [
        "# feature importance\n",
        "model = rf\n",
        "importance = model.feature_importances_\n",
        "# summarize feature importance\n",
        "for i,v in enumerate(importance):\n",
        "\tprint('Feature: %0d, Score: %.5f' % (i,v))"
      ],
      "execution_count": null,
      "outputs": [
        {
          "output_type": "stream",
          "text": [
            "Feature: 0, Score: 0.01938\n",
            "Feature: 1, Score: 0.04544\n",
            "Feature: 2, Score: 0.07538\n",
            "Feature: 3, Score: 0.07371\n",
            "Feature: 4, Score: 0.06897\n",
            "Feature: 5, Score: 0.03847\n",
            "Feature: 6, Score: 0.06623\n",
            "Feature: 7, Score: 0.05410\n",
            "Feature: 8, Score: 0.03072\n",
            "Feature: 9, Score: 0.04076\n",
            "Feature: 10, Score: 0.05816\n",
            "Feature: 11, Score: 0.04309\n",
            "Feature: 12, Score: 0.01625\n",
            "Feature: 13, Score: 0.01648\n",
            "Feature: 14, Score: 0.01741\n",
            "Feature: 15, Score: 0.03345\n",
            "Feature: 16, Score: 0.06452\n",
            "Feature: 17, Score: 0.10759\n",
            "Feature: 18, Score: 0.02992\n",
            "Feature: 19, Score: 0.09631\n",
            "Feature: 20, Score: 0.00111\n",
            "Feature: 21, Score: 0.00040\n",
            "Feature: 22, Score: 0.00009\n",
            "Feature: 23, Score: 0.00004\n",
            "Feature: 24, Score: 0.00004\n",
            "Feature: 25, Score: 0.00151\n",
            "Feature: 26, Score: 0.00028\n",
            "Feature: 27, Score: 0.00012\n",
            "Feature: 28, Score: 0.00007\n",
            "Feature: 29, Score: 0.00002\n"
          ],
          "name": "stdout"
        }
      ]
    },
    {
      "cell_type": "markdown",
      "metadata": {
        "id": "UKfQ0sQNuyCu"
      },
      "source": [
        "# Random_forest_algorithm drinking"
      ]
    },
    {
      "cell_type": "code",
      "metadata": {
        "colab": {
          "base_uri": "https://localhost:8080/",
          "height": 132
        },
        "id": "I5ReXUBFwc_s",
        "outputId": "b75c638e-8faf-42e8-fda8-249884cdc928"
      },
      "source": [
        "['BEHAVIOUR']=drinking"
      ],
      "execution_count": null,
      "outputs": [
        {
          "output_type": "error",
          "ename": "SyntaxError",
          "evalue": "ignored",
          "traceback": [
            "\u001b[0;36m  File \u001b[0;32m\"<ipython-input-62-ff64ba4dbb5c>\"\u001b[0;36m, line \u001b[0;32m1\u001b[0m\n\u001b[0;31m    ['BEHAVIOUR']=drinking\u001b[0m\n\u001b[0m                          ^\u001b[0m\n\u001b[0;31mSyntaxError\u001b[0m\u001b[0;31m:\u001b[0m can't assign to literal\n"
          ]
        }
      ]
    },
    {
      "cell_type": "code",
      "metadata": {
        "id": "Xd3VcSpRu54R"
      },
      "source": [
        "y_final = np.stack(signal_features[:,2], axis =0) # BEHAVIOUR_3= 'drinking_video'"
      ],
      "execution_count": null,
      "outputs": []
    },
    {
      "cell_type": "code",
      "metadata": {
        "id": "thktIDcIv_KQ"
      },
      "source": [
        "#Step needed otherwise we have 0,2 instead of 0,1 values\r\n",
        "y_final = (y_final_int == 3).astype(int)"
      ],
      "execution_count": null,
      "outputs": []
    },
    {
      "cell_type": "code",
      "metadata": {
        "id": "zHa5cLkWtNlT"
      },
      "source": [
        "bool_minority_labels  = y_final != 0"
      ],
      "execution_count": null,
      "outputs": []
    },
    {
      "cell_type": "code",
      "metadata": {
        "id": "6y1WDHvdgJ_m"
      },
      "source": [
        "min_features = X_final[bool_minority_labels]\n",
        "maj_features = X_final[~bool_minority_labels]\n",
        "\n",
        "min_labels = y_final[bool_minority_labels]\n",
        "maj_labels = y_final[~bool_minority_labels]"
      ],
      "execution_count": null,
      "outputs": []
    },
    {
      "cell_type": "markdown",
      "metadata": {
        "id": "werDvCiBqkUe"
      },
      "source": [
        "Split the minority class in 70 30 to have more in train set"
      ]
    },
    {
      "cell_type": "code",
      "metadata": {
        "id": "q_BAylPThKC4"
      },
      "source": [
        "# Split minority dataset into training set and test set\n",
        "X_min_train, X_min_test, y_min_train, y_min_test = train_test_split(min_features, min_labels, test_size=0.3, random_state=1) # 70% training and 30% test"
      ],
      "execution_count": null,
      "outputs": []
    },
    {
      "cell_type": "markdown",
      "metadata": {
        "id": "ivrXT7qZqeDf"
      },
      "source": [
        "Split the majority class in 50 50 so we can sample from independant sets"
      ]
    },
    {
      "cell_type": "code",
      "metadata": {
        "id": "zKSNgT5dlbIj"
      },
      "source": [
        "# Split minority dataset into training set and test set\n",
        "X_maj_train, X_maj_test, y_maj_train, y_maj_test = train_test_split(maj_features, maj_labels, test_size=0.5, random_state=1) # 50% training and 50% test"
      ],
      "execution_count": null,
      "outputs": []
    },
    {
      "cell_type": "markdown",
      "metadata": {
        "id": "mE0TKvl9pOp1"
      },
      "source": [
        "## Create train set"
      ]
    },
    {
      "cell_type": "markdown",
      "metadata": {
        "id": "37WUaiaQqrCY"
      },
      "source": [
        "Upsample the amount of minority features and labels 3 times (why 3, no idea, feels that this will create enough labels)"
      ]
    },
    {
      "cell_type": "code",
      "metadata": {
        "id": "wTj2Qm65hdjf"
      },
      "source": [
        "upsampled_X_min_train = np.concatenate([X_min_train, X_min_train, X_min_train], axis=0)\n",
        "upsampled_y_min_train = np.concatenate([y_min_train, y_min_train, y_min_train], axis=0)"
      ],
      "execution_count": null,
      "outputs": []
    },
    {
      "cell_type": "markdown",
      "metadata": {
        "id": "tM6-s1RKq4ud"
      },
      "source": [
        "Downsample from 50% of the majority class to have same amount of samples "
      ]
    },
    {
      "cell_type": "code",
      "metadata": {
        "id": "jGJqS34NVyHu"
      },
      "source": [
        "ids = np.arange(len(X_maj_train))\n",
        "choices = np.random.choice(ids, len(upsampled_X_min_train))\n",
        "\n",
        "res_maj_train_features = X_maj_train[choices]\n",
        "res_maj_train_labels = y_maj_train[choices]\n",
        "\n",
        "res_maj_train_features.shape"
      ],
      "execution_count": null,
      "outputs": []
    },
    {
      "cell_type": "markdown",
      "metadata": {
        "id": "iuBy9-Phq-zG"
      },
      "source": [
        "Concat together"
      ]
    },
    {
      "cell_type": "code",
      "metadata": {
        "id": "GcCAIqLyjawS"
      },
      "source": [
        "resampled_train_features = np.concatenate([upsampled_X_min_train, res_maj_train_features], axis=0)\n",
        "resampled_train_labels = np.concatenate([upsampled_y_min_train, res_maj_train_labels], axis=0)"
      ],
      "execution_count": null,
      "outputs": []
    },
    {
      "cell_type": "markdown",
      "metadata": {
        "id": "CmjdRO7drARg"
      },
      "source": [
        "Shuffle"
      ]
    },
    {
      "cell_type": "code",
      "metadata": {
        "id": "QxcQJzutpCVw"
      },
      "source": [
        "order = np.arange(len(resampled_train_labels))\n",
        "np.random.shuffle(order)\n",
        "resampled_train_features = resampled_train_features[order]\n",
        "resampled_train_labels = resampled_train_labels[order]"
      ],
      "execution_count": null,
      "outputs": []
    },
    {
      "cell_type": "markdown",
      "metadata": {
        "id": "sClNWtnVpReY"
      },
      "source": [
        "## Create test set"
      ]
    },
    {
      "cell_type": "markdown",
      "metadata": {
        "id": "5MNzyY8SrCSd"
      },
      "source": [
        "We start from the X_min_test"
      ]
    },
    {
      "cell_type": "markdown",
      "metadata": {
        "id": "vqxhKTzgrGZG"
      },
      "source": [
        "And downsample the remaining part of the majority class which we didn't use so far"
      ]
    },
    {
      "cell_type": "code",
      "metadata": {
        "id": "vhBQR5fEpUB3"
      },
      "source": [
        "ids = np.arange(len(X_maj_test))\n",
        "choices = np.random.choice(ids, len(X_min_test))\n",
        "\n",
        "res_maj_test_features = X_maj_test[choices]\n",
        "res_maj_test_labels = y_maj_test[choices]\n"
      ],
      "execution_count": null,
      "outputs": []
    },
    {
      "cell_type": "markdown",
      "metadata": {
        "id": "pNfZ_OiyrMrA"
      },
      "source": [
        "Concat"
      ]
    },
    {
      "cell_type": "code",
      "metadata": {
        "id": "vHLqu9Ysp-Hw"
      },
      "source": [
        "resampled_test_features = np.concatenate([X_min_test, res_maj_test_features], axis=0)\n",
        "resampled_test_labels = np.concatenate([y_min_test, res_maj_test_labels], axis=0)"
      ],
      "execution_count": null,
      "outputs": []
    },
    {
      "cell_type": "markdown",
      "metadata": {
        "id": "gi7AxlElrNfX"
      },
      "source": [
        "Shuffle"
      ]
    },
    {
      "cell_type": "code",
      "metadata": {
        "id": "BYtInbNmp_U3"
      },
      "source": [
        "order = np.arange(len(resampled_test_labels))\n",
        "np.random.shuffle(order)\n",
        "resampled_test_features = resampled_test_features[order]\n",
        "resampled_test_labels = resampled_test_labels[order]"
      ],
      "execution_count": null,
      "outputs": []
    },
    {
      "cell_type": "code",
      "metadata": {
        "id": "-ZHJ_d8-01wM"
      },
      "source": [
        "X_train= resampled_train_features\r\n",
        "y_train= resampled_train_labels\r\n",
        "X_test=  resampled_test_features\r\n",
        "y_test=  resampled_test_labels "
      ],
      "execution_count": null,
      "outputs": []
    },
    {
      "cell_type": "markdown",
      "metadata": {
        "id": "9_yfIsBRu54S"
      },
      "source": [
        "## Test settings random_forest_algorithm"
      ]
    },
    {
      "cell_type": "code",
      "metadata": {
        "id": "BgiPMipCu54T"
      },
      "source": [
        "n_estimators = [1, 2, 4, 8, 16, 32, 64, 100, 200]\r\n",
        "train_results = []\r\n",
        "test_results = []\r\n",
        "for estimator in n_estimators:\r\n",
        "   print(estimator)\r\n",
        "   rf = RandomForestClassifier(n_estimators=estimator, max_features=\"sqrt\")\r\n",
        "   rf.fit(X_train, y_train)\r\n",
        "   train_pred = rf.predict(X_train)\r\n",
        "   false_positive_rate, true_positive_rate, thresholds = roc_curve(y_train, train_pred)\r\n",
        "   roc_auc = auc(false_positive_rate, true_positive_rate)\r\n",
        "   train_results.append(roc_auc)\r\n",
        "   y_pred = rf.predict(X_test)\r\n",
        "   false_positive_rate, true_positive_rate, thresholds = roc_curve(y_test, y_pred)\r\n",
        "   roc_auc = auc(false_positive_rate, true_positive_rate)\r\n",
        "   test_results.append(roc_auc)"
      ],
      "execution_count": null,
      "outputs": []
    },
    {
      "cell_type": "code",
      "metadata": {
        "id": "A1ZAev21u54U"
      },
      "source": [
        "from matplotlib.legend_handler import HandlerLine2D\r\n",
        "line1, = plt.plot(n_estimators, train_results, \"b\", label=\"Train AUC\")\r\n",
        "line2, = plt.plot(n_estimators, test_results, \"r\", label=\"Test AUC\")\r\n",
        "plt.legend(handler_map={line1: HandlerLine2D(numpoints=2)})\r\n",
        "plt.ylabel(\"AUC score\")\r\n",
        "plt.xlabel(\"n_estimators\")\r\n",
        "plt.show()"
      ],
      "execution_count": null,
      "outputs": []
    },
    {
      "cell_type": "markdown",
      "metadata": {
        "id": "rmBGF-zRu54U"
      },
      "source": [
        "### Test max depth"
      ]
    },
    {
      "cell_type": "code",
      "metadata": {
        "id": "jSC3S0t3u54V"
      },
      "source": [
        "max_depths = np.linspace(1, 32, 32, endpoint=True)\r\n",
        "train_results = []\r\n",
        "test_results = []\r\n",
        "for max_depth in max_depths:\r\n",
        "   print(max_depth)\r\n",
        "   rf = RandomForestClassifier(max_depth=max_depth, max_features=\"sqrt\", n_estimators = 50)\r\n",
        "   rf.fit(X_train, y_train)\r\n",
        "   train_pred = rf.predict(X_train)\r\n",
        "   false_positive_rate, true_positive_rate, thresholds = roc_curve(y_train, train_pred)\r\n",
        "   roc_auc = auc(false_positive_rate, true_positive_rate)\r\n",
        "   train_results.append(roc_auc)\r\n",
        "   y_pred = rf.predict(X_test)\r\n",
        "   false_positive_rate, true_positive_rate, thresholds = roc_curve(y_test, y_pred)\r\n",
        "   roc_auc = auc(false_positive_rate, true_positive_rate)\r\n",
        "   test_results.append(roc_auc)"
      ],
      "execution_count": null,
      "outputs": []
    },
    {
      "cell_type": "code",
      "metadata": {
        "id": "4ie_VEPKu54V"
      },
      "source": [
        "from matplotlib.legend_handler import HandlerLine2D\r\n",
        "line1, = plt.plot(max_depths, train_results, \"b\", label=\"Train AUC\")\r\n",
        "line2, = plt.plot(max_depths, test_results, \"r\", label=\"Test AUC\")\r\n",
        "plt.legend(handler_map={line1: HandlerLine2D(numpoints=2)})\r\n",
        "plt.ylabel(\"AUC score\")\r\n",
        "plt.xlabel(\"Tree depth\")\r\n",
        "plt.show()"
      ],
      "execution_count": null,
      "outputs": []
    },
    {
      "cell_type": "markdown",
      "metadata": {
        "id": "8kouoCd3u54V"
      },
      "source": [
        "## Selected RF\r\n",
        "From the previous we select settings for our selected RF"
      ]
    },
    {
      "cell_type": "code",
      "metadata": {
        "id": "pEI4JKIBu54V"
      },
      "source": [
        "# Random Forest\n",
        "rf = RandomForestClassifier(n_estimators=25, max_depth=12, max_features=\"sqrt\")\n",
        "# Train Decision Tree Classifer\n",
        "rf.fit(X_train,y_train)\n",
        "\n",
        "#Predict the response for test dataset\n",
        "y_pred = rf.predict(X_test)"
      ],
      "execution_count": null,
      "outputs": []
    },
    {
      "cell_type": "markdown",
      "metadata": {
        "id": "4yXXuuZUu54V"
      },
      "source": [
        "## Confusion matrix and classification report"
      ]
    },
    {
      "cell_type": "code",
      "metadata": {
        "id": "yIS1sqfJu54W"
      },
      "source": [
        "### Evaluation\n",
        "print(\"Behaviour: \"+ str(BEHAVIOUR))\n",
        "print (\"Windows_size: \" + str(WIN_SIZE/2) +\" sec \" \"(with overlap: \"+ str(WIN_OVERLAP/2)+ \" sec)\")\n",
        "\n",
        "results = confusion_matrix(y_test,y_pred)\n",
        "\n",
        "print('Confusion Matrix Validation:')\n",
        "print(results) \n",
        "print('Accuracy Score : ', accuracy_score(y_test, y_pred))\n",
        "print('Report : ')\n",
        "print(classification_report(y_test, y_pred))"
      ],
      "execution_count": null,
      "outputs": []
    },
    {
      "cell_type": "code",
      "metadata": {
        "id": "Z5IVVh1pu54W"
      },
      "source": [
        "# feature importance\n",
        "model = rf\n",
        "importance = model.feature_importances_\n",
        "# summarize feature importance\n",
        "for i,v in enumerate(importance):\n",
        "\tprint('Feature: %0d, Score: %.5f' % (i,v))"
      ],
      "execution_count": null,
      "outputs": []
    },
    {
      "cell_type": "markdown",
      "metadata": {
        "id": "ceO4oz_N2EIH"
      },
      "source": [
        "# Random_forest_algorithm sleeping"
      ]
    },
    {
      "cell_type": "code",
      "metadata": {
        "id": "EFdJJ2AE3ow9"
      },
      "source": [
        "BEHAVIOUR='sleeping'"
      ],
      "execution_count": null,
      "outputs": []
    },
    {
      "cell_type": "code",
      "metadata": {
        "id": "NMKl_4ugW8xS"
      },
      "source": [
        "y_final_int = np.stack(signal_features[:,3], axis =0) # BEHAVIOUR_4= 'sleeping_video'"
      ],
      "execution_count": null,
      "outputs": []
    },
    {
      "cell_type": "code",
      "metadata": {
        "id": "NLZ0xlHuW8xT"
      },
      "source": [
        "#Step needed otherwise we have 0,2 instead of 0,1 values\r\n",
        "y_final = (y_final_int == 4).astype(int)"
      ],
      "execution_count": null,
      "outputs": []
    },
    {
      "cell_type": "code",
      "metadata": {
        "id": "JFPog_apW8xU"
      },
      "source": [
        "bool_minority_labels  = y_final != 0"
      ],
      "execution_count": null,
      "outputs": []
    },
    {
      "cell_type": "code",
      "metadata": {
        "id": "Sft5FCH7W8xV"
      },
      "source": [
        "min_features = X_final[bool_minority_labels]\n",
        "maj_features = X_final[~bool_minority_labels]\n",
        "\n",
        "min_labels = y_final[bool_minority_labels]\n",
        "maj_labels = y_final[~bool_minority_labels]"
      ],
      "execution_count": null,
      "outputs": []
    },
    {
      "cell_type": "markdown",
      "metadata": {
        "id": "pXE4EHxgW8xV"
      },
      "source": [
        "Split the minority class in 70 30 to have more in train set"
      ]
    },
    {
      "cell_type": "code",
      "metadata": {
        "id": "8djBJ3ZqW8xW"
      },
      "source": [
        "# Split minority dataset into training set and test set\n",
        "X_min_train, X_min_test, y_min_train, y_min_test = train_test_split(min_features, min_labels, test_size=0.3, random_state=1) # 70% training and 30% test"
      ],
      "execution_count": null,
      "outputs": []
    },
    {
      "cell_type": "markdown",
      "metadata": {
        "id": "EgK-t12YW8xW"
      },
      "source": [
        "Split the majority class in 50 50 so we can sample from independant sets"
      ]
    },
    {
      "cell_type": "code",
      "metadata": {
        "id": "YX5kOOVjW8xX"
      },
      "source": [
        "# Split minority dataset into training set and test set\n",
        "X_maj_train, X_maj_test, y_maj_train, y_maj_test = train_test_split(maj_features, maj_labels, test_size=0.5, random_state=1) # 50% training and 50% test"
      ],
      "execution_count": null,
      "outputs": []
    },
    {
      "cell_type": "markdown",
      "metadata": {
        "id": "l99O7fFgW8xX"
      },
      "source": [
        "## Create train set"
      ]
    },
    {
      "cell_type": "markdown",
      "metadata": {
        "id": "kyKyFzO-W8xX"
      },
      "source": [
        "Upsample the amount of minority features and labels 3 times (why 3, no idea, feels that this will create enough labels)"
      ]
    },
    {
      "cell_type": "code",
      "metadata": {
        "id": "928uozzPW8xY"
      },
      "source": [
        "upsampled_X_min_train = np.concatenate([X_min_train, X_min_train, X_min_train], axis=0)\n",
        "upsampled_y_min_train = np.concatenate([y_min_train, y_min_train, y_min_train], axis=0)"
      ],
      "execution_count": null,
      "outputs": []
    },
    {
      "cell_type": "markdown",
      "metadata": {
        "id": "bq-bhUCXW8xY"
      },
      "source": [
        "Downsample from 50% of the majority class to have same amount of samples "
      ]
    },
    {
      "cell_type": "code",
      "metadata": {
        "id": "YjQDg_oBW8xY"
      },
      "source": [
        "ids = np.arange(len(X_maj_train))\n",
        "choices = np.random.choice(ids, len(upsampled_X_min_train))\n",
        "\n",
        "res_maj_train_features = X_maj_train[choices]\n",
        "res_maj_train_labels = y_maj_train[choices]\n",
        "\n",
        "res_maj_train_features.shape"
      ],
      "execution_count": null,
      "outputs": []
    },
    {
      "cell_type": "markdown",
      "metadata": {
        "id": "a-RTCshuW8xZ"
      },
      "source": [
        "Concat together"
      ]
    },
    {
      "cell_type": "code",
      "metadata": {
        "id": "-uc5ChNmW8xZ"
      },
      "source": [
        "resampled_train_features = np.concatenate([upsampled_X_min_train, res_maj_train_features], axis=0)\n",
        "resampled_train_labels = np.concatenate([upsampled_y_min_train, res_maj_train_labels], axis=0)"
      ],
      "execution_count": null,
      "outputs": []
    },
    {
      "cell_type": "markdown",
      "metadata": {
        "id": "Jm7KhAXZW8xZ"
      },
      "source": [
        "Shuffle"
      ]
    },
    {
      "cell_type": "code",
      "metadata": {
        "id": "-En__WW1W8xa"
      },
      "source": [
        "order = np.arange(len(resampled_train_labels))\n",
        "np.random.shuffle(order)\n",
        "resampled_train_features = resampled_train_features[order]\n",
        "resampled_train_labels = resampled_train_labels[order]"
      ],
      "execution_count": null,
      "outputs": []
    },
    {
      "cell_type": "markdown",
      "metadata": {
        "id": "uYITkgBWW8xa"
      },
      "source": [
        "## Create test set"
      ]
    },
    {
      "cell_type": "markdown",
      "metadata": {
        "id": "ZII6sFmwW8xa"
      },
      "source": [
        "We start from the X_min_test"
      ]
    },
    {
      "cell_type": "markdown",
      "metadata": {
        "id": "rTDCOw1iW8xd"
      },
      "source": [
        "And downsample the remaining part of the majority class which we didn't use so far"
      ]
    },
    {
      "cell_type": "code",
      "metadata": {
        "id": "dDG2LmCNW8xd"
      },
      "source": [
        "ids = np.arange(len(X_maj_test))\n",
        "choices = np.random.choice(ids, len(X_min_test))\n",
        "\n",
        "res_maj_test_features = X_maj_test[choices]\n",
        "res_maj_test_labels = y_maj_test[choices]\n"
      ],
      "execution_count": null,
      "outputs": []
    },
    {
      "cell_type": "markdown",
      "metadata": {
        "id": "t5-g60SfW8xd"
      },
      "source": [
        "Concat"
      ]
    },
    {
      "cell_type": "code",
      "metadata": {
        "id": "8wGaAUfCW8xe"
      },
      "source": [
        "resampled_test_features = np.concatenate([X_min_test, res_maj_test_features], axis=0)\n",
        "resampled_test_labels = np.concatenate([y_min_test, res_maj_test_labels], axis=0)"
      ],
      "execution_count": null,
      "outputs": []
    },
    {
      "cell_type": "markdown",
      "metadata": {
        "id": "WHaU-zIEW8xe"
      },
      "source": [
        "Shuffle"
      ]
    },
    {
      "cell_type": "code",
      "metadata": {
        "id": "FeyyVd2yW8xe"
      },
      "source": [
        "order = np.arange(len(resampled_test_labels))\n",
        "np.random.shuffle(order)\n",
        "resampled_test_features = resampled_test_features[order]\n",
        "resampled_test_labels = resampled_test_labels[order]"
      ],
      "execution_count": null,
      "outputs": []
    },
    {
      "cell_type": "code",
      "metadata": {
        "id": "igVyNhVYW8xf"
      },
      "source": [
        "X_train= resampled_train_features\r\n",
        "y_train= resampled_train_labels\r\n",
        "X_test=  resampled_test_features\r\n",
        "y_test=  resampled_test_labels "
      ],
      "execution_count": null,
      "outputs": []
    },
    {
      "cell_type": "markdown",
      "metadata": {
        "id": "6v2JxzoB2uuR"
      },
      "source": [
        "## Test settings random_forest_algorithm"
      ]
    },
    {
      "cell_type": "code",
      "metadata": {
        "id": "ZlpjXjWGW8xf"
      },
      "source": [
        "n_estimators = [1, 2, 4, 8, 16, 32, 64, 100, 200]\r\n",
        "train_results = []\r\n",
        "test_results = []\r\n",
        "for estimator in n_estimators:\r\n",
        "   print(estimator)\r\n",
        "   rf = RandomForestClassifier(n_estimators=estimator, max_features=\"sqrt\")\r\n",
        "   rf.fit(X_train, y_train)\r\n",
        "   train_pred = rf.predict(X_train)\r\n",
        "   false_positive_rate, true_positive_rate, thresholds = roc_curve(y_train, train_pred)\r\n",
        "   roc_auc = auc(false_positive_rate, true_positive_rate)\r\n",
        "   train_results.append(roc_auc)\r\n",
        "   y_pred = rf.predict(X_test)\r\n",
        "   false_positive_rate, true_positive_rate, thresholds = roc_curve(y_test, y_pred)\r\n",
        "   roc_auc = auc(false_positive_rate, true_positive_rate)\r\n",
        "   test_results.append(roc_auc)"
      ],
      "execution_count": null,
      "outputs": []
    },
    {
      "cell_type": "code",
      "metadata": {
        "id": "s0PMpDDKW8xg"
      },
      "source": [
        "from matplotlib.legend_handler import HandlerLine2D\r\n",
        "line1, = plt.plot(n_estimators, train_results, \"b\", label=\"Train AUC\")\r\n",
        "line2, = plt.plot(n_estimators, test_results, \"r\", label=\"Test AUC\")\r\n",
        "plt.legend(handler_map={line1: HandlerLine2D(numpoints=2)})\r\n",
        "plt.ylabel(\"AUC score\")\r\n",
        "plt.xlabel(\"n_estimators\")\r\n",
        "plt.show()"
      ],
      "execution_count": null,
      "outputs": []
    },
    {
      "cell_type": "markdown",
      "metadata": {
        "id": "bdtN9S5iW8xg"
      },
      "source": [
        "### Test max depth"
      ]
    },
    {
      "cell_type": "code",
      "metadata": {
        "id": "qygI14X6W8xh"
      },
      "source": [
        "max_depths = np.linspace(1, 32, 32, endpoint=True)\r\n",
        "train_results = []\r\n",
        "test_results = []\r\n",
        "for max_depth in max_depths:\r\n",
        "   print(max_depth)\r\n",
        "   rf = RandomForestClassifier(max_depth=max_depth, max_features=\"sqrt\", n_estimators = 50)\r\n",
        "   rf.fit(X_train, y_train)\r\n",
        "   train_pred = rf.predict(X_train)\r\n",
        "   false_positive_rate, true_positive_rate, thresholds = roc_curve(y_train, train_pred)\r\n",
        "   roc_auc = auc(false_positive_rate, true_positive_rate)\r\n",
        "   train_results.append(roc_auc)\r\n",
        "   y_pred = rf.predict(X_test)\r\n",
        "   false_positive_rate, true_positive_rate, thresholds = roc_curve(y_test, y_pred)\r\n",
        "   roc_auc = auc(false_positive_rate, true_positive_rate)\r\n",
        "   test_results.append(roc_auc)"
      ],
      "execution_count": null,
      "outputs": []
    },
    {
      "cell_type": "code",
      "metadata": {
        "id": "0HuguOrtW8xh"
      },
      "source": [
        "from matplotlib.legend_handler import HandlerLine2D\r\n",
        "line1, = plt.plot(max_depths, train_results, \"b\", label=\"Train AUC\")\r\n",
        "line2, = plt.plot(max_depths, test_results, \"r\", label=\"Test AUC\")\r\n",
        "plt.legend(handler_map={line1: HandlerLine2D(numpoints=2)})\r\n",
        "plt.ylabel(\"AUC score\")\r\n",
        "plt.xlabel(\"Tree depth\")\r\n",
        "plt.show()"
      ],
      "execution_count": null,
      "outputs": []
    },
    {
      "cell_type": "markdown",
      "metadata": {
        "id": "BKWEavOjW8xi"
      },
      "source": [
        "## Selected RF\r\n",
        "From the previous we select settings for our selected RF"
      ]
    },
    {
      "cell_type": "code",
      "metadata": {
        "id": "ltJLitMFW8xi"
      },
      "source": [
        "# RF\n",
        "rf = RandomForestClassifier(n_estimators = 25, max_depth=15, max_features=\"sqrt\" )\n",
        "\n",
        "# Train Decision Tree Classifer\n",
        "rf.fit(X_train,y_train)\n",
        "\n",
        "#Predict the response for test dataset\n",
        "y_pred = rf.predict(X_test)"
      ],
      "execution_count": null,
      "outputs": []
    },
    {
      "cell_type": "markdown",
      "metadata": {
        "id": "cZCrwt783FUY"
      },
      "source": [
        "## Confusion matrix and classification report"
      ]
    },
    {
      "cell_type": "code",
      "metadata": {
        "id": "b1kIRImdW8xj"
      },
      "source": [
        "### Evaluation\n",
        "print(\"Behaviour: sleeping\")\n",
        "print(\"Resampling: up and downsampling\")\n",
        "print (\"Windows_size: \" + str(WIN_SIZE/2) +\" sec \" \"(with overlap: \"+ str(WIN_OVERLAP/2)+ \" sec)\")\n",
        "\n",
        "results = confusion_matrix(y_test,y_pred)\n",
        "\n",
        "print('Confusion Matrix Validation:')\n",
        "print(results) \n",
        "print('Accuracy Score : ', accuracy_score(y_test, y_pred))\n",
        "print('Report : ')\n",
        "print(classification_report(y_test, y_pred))"
      ],
      "execution_count": null,
      "outputs": []
    },
    {
      "cell_type": "markdown",
      "metadata": {
        "id": "TDTHlLika75i"
      },
      "source": [
        "# Descriptives"
      ]
    },
    {
      "cell_type": "markdown",
      "metadata": {
        "id": "c0bPYEvp2inT"
      },
      "source": [
        "## Counting data peak_detection algorithm"
      ]
    },
    {
      "cell_type": "code",
      "metadata": {
        "id": "OpEh0QcVa1s1"
      },
      "source": [
        "final_data_peak_detection.count()"
      ],
      "execution_count": null,
      "outputs": []
    },
    {
      "cell_type": "markdown",
      "metadata": {
        "id": "i-LVt3vzox2L"
      },
      "source": [
        "##Counting data random_forest algorithm"
      ]
    },
    {
      "cell_type": "code",
      "metadata": {
        "id": "v6pTcov0o82N"
      },
      "source": [
        "final_data_rf.count()"
      ],
      "execution_count": null,
      "outputs": []
    },
    {
      "cell_type": "markdown",
      "metadata": {
        "id": "A66gTdkKdilR"
      },
      "source": [
        "## Number of observations video per behavior"
      ]
    },
    {
      "cell_type": "code",
      "metadata": {
        "id": "yPBhYGSvqCzk"
      },
      "source": [
        "np.unique(final_data_peak_detection['behaviour'], return_counts=True)"
      ],
      "execution_count": null,
      "outputs": []
    },
    {
      "cell_type": "markdown",
      "metadata": {
        "id": "8cX6v6jKeMMN"
      },
      "source": [
        "## Number of observations video per animal"
      ]
    },
    {
      "cell_type": "code",
      "metadata": {
        "id": "nipbuDNyeQyy"
      },
      "source": [
        "np.unique(final_data_peak_detection['cow_number'], return_counts=True)"
      ],
      "execution_count": null,
      "outputs": []
    },
    {
      "cell_type": "markdown",
      "metadata": {
        "id": "5_lyl4Jee5kd"
      },
      "source": [
        "## Time between two contraction cycles"
      ]
    },
    {
      "cell_type": "code",
      "metadata": {
        "id": "V9hyOD4iKyd3"
      },
      "source": [
        "final_data_rum= final_data_peak_detection[final_data_peak_detection.behaviour==1]\r\n",
        "final_data_eat= final_data_peak_detection[final_data_peak_detection.behaviour==2]\r\n",
        "final_data_drink= final_data_peak_detection[final_data_peak_detection.behaviour==3]\r\n",
        "final_data_sleep= final_data_peak_detection[final_data_peak_detection.behaviour==4]\r\n",
        "final_data_other= final_data_peak_detection[final_data_peak_detection.behaviour==5]\r\n",
        "\r\n",
        "print(\"Time between contraction cycles during rumination:\")\r\n",
        "print(\"mean:\"+str(final_data_rum['low_time'].mean()))\r\n",
        "print(\"std:\"+str(final_data_rum['low_time'].std())) \r\n",
        "print(\"median:\"+str(final_data_rum['low_time'].median())) \r\n",
        "print(\"iqr:\"+ str(iqr(final_data_rum['low_time']))+\"\\n\")\r\n",
        "\r\n",
        "print(\"Time between contraction cycles during eating:\")\r\n",
        "print(\"mean:\"+str(final_data_eat['low_time'].mean()))\r\n",
        "print(\"std:\"+str(final_data_eat['low_time'].std())) \r\n",
        "print(\"median:\"+str(final_data_eat['low_time'].median())) \r\n",
        "print(\"iqr:\"+ str(iqr(final_data_eat['low_time']))+\"\\n\")\r\n",
        "\r\n",
        "print(\"Time between contraction cycles during drinking:\")\r\n",
        "print(\"mean:\"+str(final_data_drink['low_time'].mean()))\r\n",
        "print(\"std:\"+str(final_data_drink['low_time'].std())) \r\n",
        "print(\"median:\"+str(final_data_drink['low_time'].median())) \r\n",
        "print(\"iqr:\"+ str(iqr(final_data_drink['low_time']))+\"\\n\")\r\n",
        "\r\n",
        "print(\"Time between contraction cycles during sleeping:\")\r\n",
        "print(\"mean:\"+str(final_data_sleep['low_time'].mean()))\r\n",
        "print(\"std:\"+str(final_data_sleep['low_time'].std())) \r\n",
        "print(\"median:\"+str(final_data_sleep['low_time'].median())) \r\n",
        "print(\"iqr:\"+ str(iqr(final_data_sleep['low_time']))+\"\\n\")\r\n",
        "\r\n",
        "print(\"Time between contraction cycles during other behaviour:\")\r\n",
        "print(\"mean:\"+str(final_data_other['low_time'].mean()))\r\n",
        "print(\"std:\"+str(final_data_other['low_time'].std())) \r\n",
        "print(\"median:\"+str(final_data_other['low_time'].median())) \r\n",
        "print(\"iqr:\"+ str(iqr(final_data_other['low_time']))+\"\\n\")"
      ],
      "execution_count": null,
      "outputs": []
    },
    {
      "cell_type": "markdown",
      "metadata": {
        "id": "rwhIalEF3upw"
      },
      "source": [
        "## Boxplots of time between two contraction cycles"
      ]
    },
    {
      "cell_type": "code",
      "metadata": {
        "id": "DuLtGgqCrH-8"
      },
      "source": [
        "sns.boxplot(x=\"behaviour\", y=\"low_time\",orient='v', data=final_data_peak_detection_corrected, showfliers=False)\n",
        "plt.xlabel('Behaviour')\n",
        "plt.ylabel('Time interval between contractions (s)')\n",
        "plt.show()"
      ],
      "execution_count": null,
      "outputs": []
    },
    {
      "cell_type": "markdown",
      "metadata": {
        "id": "KfUcr61726oD"
      },
      "source": [
        "## GLM model eating and rumination"
      ]
    },
    {
      "cell_type": "code",
      "metadata": {
        "id": "FHg0fxq5lxiI"
      },
      "source": [
        "#create csv for GLM model\r\n",
        "final_data_HK_EAT_REST = final_data_peak_detection_corrected[final_data_peak_detection_corrected.behaviour<3.0]\r\n",
        "final_data_HK_EAT= final_data_HK_EAT_REST[final_data_peak_detection_corrected.behaviour>=1.0]\r\n",
        "result_file='/content/gdrive/Shared drives/Bovi-Analytics/Projects/JosjeScheurwater/ProjectPicoLog/data/out/final_data_HK_EAT.csv'\r\n",
        "final_data_HK_EAT.to_csv(result_file)"
      ],
      "execution_count": null,
      "outputs": []
    },
    {
      "cell_type": "code",
      "metadata": {
        "id": "h5Qs49vTEoHh"
      },
      "source": [
        "%load_ext rpy2.ipython"
      ],
      "execution_count": null,
      "outputs": []
    },
    {
      "cell_type": "code",
      "metadata": {
        "id": "685HmbZfzN7H"
      },
      "source": [
        "%%R\r\n",
        "url = ('/content/gdrive/Shareddrives/Bovi-Analytics/Projects/JosjeScheurwater/ProjectPicoLog/data/out/final_data_HK_EAT.csv')\r\n",
        "dataset = read.csv(url)"
      ],
      "execution_count": null,
      "outputs": []
    },
    {
      "cell_type": "code",
      "metadata": {
        "id": "xlT1I1MCvjNd"
      },
      "source": [
        "%%R\r\n",
        "package_list <- c(\"dplyr\",\r\n",
        "                  \"lme4\"\r\n",
        "                  )\r\n",
        "\r\n",
        "for (pkg in package_list) {\r\n",
        "  if (pkg %in% rownames(installed.packages()) == FALSE)\r\n",
        "  {install.packages(pkg, dependencies = TRUE)}\r\n",
        "  if (pkg %in% rownames(.packages()) == FALSE)\r\n",
        "  {library(pkg, character.only = TRUE)}\r\n",
        "  print(citation(pkg))\r\n",
        "\r\n",
        "}"
      ],
      "execution_count": null,
      "outputs": []
    },
    {
      "cell_type": "code",
      "metadata": {
        "id": "1yRAR2qOvjNk"
      },
      "source": [
        "%%R\r\n",
        "install.packages(\"lmerTest\", dependencies = TRUE)\r\n",
        "library (\"lmerTest\")"
      ],
      "execution_count": null,
      "outputs": []
    },
    {
      "cell_type": "code",
      "metadata": {
        "id": "fNQlFbR9vjNl"
      },
      "source": [
        "%%R\r\n",
        "gl<- glm('low_time ~ factor(behaviour)+factor(cow_number)', data = dataset, family = gaussian)\r\n",
        "summary(gl)"
      ],
      "execution_count": null,
      "outputs": []
    }
  ]
}
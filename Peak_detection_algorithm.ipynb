{
  "nbformat": 4,
  "nbformat_minor": 0,
  "metadata": {
    "colab": {
      "name": "Peak_detection_algorithm.ipynb",
      "provenance": [],
      "include_colab_link": true
    },
    "kernelspec": {
      "display_name": "Python 3",
      "name": "python3"
    }
  },
  "cells": [
    {
      "cell_type": "markdown",
      "metadata": {
        "id": "view-in-github",
        "colab_type": "text"
      },
      "source": [
        "<a href=\"https://colab.research.google.com/github/Bovi-analytics/scheurwater-et-al-2021/blob/main/Peak_detection_algorithm.ipynb\" target=\"_parent\"><img src=\"https://colab.research.google.com/assets/colab-badge.svg\" alt=\"Open In Colab\"/></a>"
      ]
    },
    {
      "cell_type": "markdown",
      "metadata": {
        "id": "MROm8RgH0pb9"
      },
      "source": [
        "# Notebook for the algorithm\n",
        "\n",
        "This is a Google Colab Notebook. It has a google machine in the back which will activate the moment you click the play button from the first cell. You can run cells seperately, or all after eachother, it allows you to prototype much easier then using the PyCharm.\n",
        "\n",
        "The notebook can be shared and editted by multiple people. If you want to work in your own version, you can make a copy of the notebook first."
      ]
    },
    {
      "cell_type": "markdown",
      "metadata": {
        "id": "WQHVFkd_ZcBs"
      },
      "source": [
        "#GDrive\n",
        "You need to make a link with the data. This is all stored in your google drive , or in the case of this notebook a bovi-analytics folder.\n",
        "\n",
        "First run the cell underneath, then open the link in the output and copy the code underneath. That way, the Google Drive is connected."
      ]
    },
    {
      "cell_type": "code",
      "metadata": {
        "colab": {
          "base_uri": "https://localhost:8080/"
        },
        "id": "SiNP_qsYZbLs",
        "outputId": "426e437c-41fc-42a4-90fd-12f89cf935d6"
      },
      "source": [
        "from google.colab import drive \n",
        "drive.mount('/content/gdrive') "
      ],
      "execution_count": null,
      "outputs": [
        {
          "output_type": "stream",
          "text": [
            "Mounted at /content/gdrive\n"
          ],
          "name": "stdout"
        }
      ]
    },
    {
      "cell_type": "markdown",
      "metadata": {
        "id": "Qfdnyarl1f1B"
      },
      "source": [
        "The next cell should show files that are in the folder."
      ]
    },
    {
      "cell_type": "code",
      "metadata": {
        "colab": {
          "base_uri": "https://localhost:8080/"
        },
        "id": "A5IXVz0umA3w",
        "outputId": "c9f2c222-53c9-49f2-9939-63199003e152"
      },
      "source": [
        "!ls /content/gdrive/'Shared drives'/Bovi-Analytics/Projects/JosjeScheurwater/ProjectPicoLog/data/in/traintest/videos"
      ],
      "execution_count": null,
      "outputs": [
        {
          "output_type": "stream",
          "text": [
            "raw_data_video_k13_20190227_1108.csv\n",
            "raw_data_video_k13_20190412_1108.csv\n",
            "raw_data_video_k21_20190205_1108.csv\n",
            "raw_data_video_k21_20190218_1108.csv\n",
            "raw_data_video_k21_20190225v2_1108.csv\n",
            "raw_data_video_k21_20190304_1012.csv\n",
            "raw_data_video_k2_20190301_1108.csv\n",
            "raw_data_video_k2_20190403_1108.csv\n",
            "raw_data_video_k2_20190411_1108.csv\n",
            "raw_data_video_k2_20190416_1108.csv\n",
            "raw_data_video_k26_20190325_1108.csv\n",
            "raw_data_video_k26_20190404_1108.csv\n",
            "raw_data_video_k26_20190410_1108.csv\n",
            "raw_data_video_k84_20190405__corr37sec_1108.csv\n",
            "ruwe_data_video_k84_20190226v2_1108.csv\n",
            "ruwe_data_video_k84_20190305_1108.csv\n",
            "ruwe_data_video_k84_20190415_1108.csv\n"
          ],
          "name": "stdout"
        }
      ]
    },
    {
      "cell_type": "markdown",
      "metadata": {
        "id": "BfIDJG18ZfCb"
      },
      "source": [
        "# Start the PICO algorythm"
      ]
    },
    {
      "cell_type": "code",
      "metadata": {
        "id": "6RPBeG88Xcz1"
      },
      "source": [
        "import os\n",
        "import glob\n",
        "import pandas as pd\n",
        "import numpy as np\n",
        "from datetime import datetime"
      ],
      "execution_count": null,
      "outputs": []
    },
    {
      "cell_type": "markdown",
      "metadata": {
        "id": "1u1Xv3LxeLBQ"
      },
      "source": [
        "## Set directories"
      ]
    },
    {
      "cell_type": "code",
      "metadata": {
        "id": "4XEH4X1rYgly"
      },
      "source": [
        "# directorie#directories waarmee je gaat werken definiëren\n",
        "base_dir = '/content/gdrive/Shared drives/Bovi-Analytics/Projects/JosjeScheurwater/ProjectPicoLog'\n",
        "output_dir = '/data/out/'\n",
        "input_dir = '/data/in/traintest/picologs/'\n",
        "video_dir= '/data/in/traintest/videos/'\n",
        "output_path = base_dir + output_dir\n",
        "input_path = base_dir + input_dir\n",
        "video_path = base_dir + video_dir\n"
      ],
      "execution_count": null,
      "outputs": []
    },
    {
      "cell_type": "code",
      "metadata": {
        "id": "aAxIKxdeYnQ2"
      },
      "source": [
        "#output directory aanmaken:\n",
        "if os.path.isdir ( output_path ):\n",
        "    pass\n",
        "else:\n",
        "    os.mkdir (output_path )"
      ],
      "execution_count": null,
      "outputs": []
    },
    {
      "cell_type": "code",
      "metadata": {
        "colab": {
          "base_uri": "https://localhost:8080/"
        },
        "id": "uBDpWvipbHfB",
        "outputId": "2608f340-b1ad-4e01-8865-c91bdafc43a5"
      },
      "source": [
        "# oud bestand met output eerst weggooien:\n",
        "for f in os.listdir(output_path):\n",
        "    print('Existing file : ' + f)\n",
        "    oldfile = output_path + f\n",
        "    if os.path.isfile(oldfile):\n",
        "        os.remove(oldfile)\n",
        "        print('Removed : ' + oldfile)\n",
        "    else:\n",
        "        pass\n",
        "        print('Did not remove : ' + oldfile)"
      ],
      "execution_count": null,
      "outputs": [
        {
          "output_type": "stream",
          "text": [
            "Existing file : ylva\n",
            "Did not remove : /content/gdrive/Shared drives/Bovi-Analytics/Projects/JosjeScheurwater/ProjectPicoLog/data/out/ylva\n",
            "Existing file : processed_raw_data_pico_20190415_0708.csv\n",
            "Removed : /content/gdrive/Shared drives/Bovi-Analytics/Projects/JosjeScheurwater/ProjectPicoLog/data/out/processed_raw_data_pico_20190415_0708.csv\n",
            "Existing file : processed_raw_data_pico_20190412_1_0708.csv\n",
            "Removed : /content/gdrive/Shared drives/Bovi-Analytics/Projects/JosjeScheurwater/ProjectPicoLog/data/out/processed_raw_data_pico_20190412_1_0708.csv\n",
            "Existing file : processed_raw_data_pico_20190412_2_0708.csv\n",
            "Removed : /content/gdrive/Shared drives/Bovi-Analytics/Projects/JosjeScheurwater/ProjectPicoLog/data/out/processed_raw_data_pico_20190412_2_0708.csv\n",
            "Existing file : processed_raw_data_pico_20190411_1_0708.csv\n",
            "Removed : /content/gdrive/Shared drives/Bovi-Analytics/Projects/JosjeScheurwater/ProjectPicoLog/data/out/processed_raw_data_pico_20190411_1_0708.csv\n",
            "Existing file : processed_raw_data_pico_20190411_2_0708.csv\n",
            "Removed : /content/gdrive/Shared drives/Bovi-Analytics/Projects/JosjeScheurwater/ProjectPicoLog/data/out/processed_raw_data_pico_20190411_2_0708.csv\n",
            "Existing file : processed_raw_data_pico_20190405_2_0708.csv\n",
            "Removed : /content/gdrive/Shared drives/Bovi-Analytics/Projects/JosjeScheurwater/ProjectPicoLog/data/out/processed_raw_data_pico_20190405_2_0708.csv\n",
            "Existing file : processed_raw_data_pico_20190405_1_0708.csv\n",
            "Removed : /content/gdrive/Shared drives/Bovi-Analytics/Projects/JosjeScheurwater/ProjectPicoLog/data/out/processed_raw_data_pico_20190405_1_0708.csv\n",
            "Existing file : processed_raw_data_pico_20190403_2_0708.csv\n",
            "Removed : /content/gdrive/Shared drives/Bovi-Analytics/Projects/JosjeScheurwater/ProjectPicoLog/data/out/processed_raw_data_pico_20190403_2_0708.csv\n",
            "Existing file : processed_raw_data_pico_20190304_0708.csv\n",
            "Removed : /content/gdrive/Shared drives/Bovi-Analytics/Projects/JosjeScheurwater/ProjectPicoLog/data/out/processed_raw_data_pico_20190304_0708.csv\n",
            "Existing file : processed_raw_data_pico_20190403_1_0708.csv\n",
            "Removed : /content/gdrive/Shared drives/Bovi-Analytics/Projects/JosjeScheurwater/ProjectPicoLog/data/out/processed_raw_data_pico_20190403_1_0708.csv\n",
            "Existing file : processed_raw_data_pico_20190301_0708.csv\n",
            "Removed : /content/gdrive/Shared drives/Bovi-Analytics/Projects/JosjeScheurwater/ProjectPicoLog/data/out/processed_raw_data_pico_20190301_0708.csv\n",
            "Existing file : processed_raw_data_pico_20190305_0708.csv\n",
            "Removed : /content/gdrive/Shared drives/Bovi-Analytics/Projects/JosjeScheurwater/ProjectPicoLog/data/out/processed_raw_data_pico_20190305_0708.csv\n",
            "Existing file : processed_raw_data_pico_20190227_0708.csv\n",
            "Removed : /content/gdrive/Shared drives/Bovi-Analytics/Projects/JosjeScheurwater/ProjectPicoLog/data/out/processed_raw_data_pico_20190227_0708.csv\n",
            "Existing file : processed_raw_data_pico_20190226_0708.csv\n",
            "Removed : /content/gdrive/Shared drives/Bovi-Analytics/Projects/JosjeScheurwater/ProjectPicoLog/data/out/processed_raw_data_pico_20190226_0708.csv\n",
            "Existing file : processed_raw_data_pico_20190218_3_0708.csv\n",
            "Removed : /content/gdrive/Shared drives/Bovi-Analytics/Projects/JosjeScheurwater/ProjectPicoLog/data/out/processed_raw_data_pico_20190218_3_0708.csv\n",
            "Existing file : processed_raw_data_pico_20190218_1_0708.csv\n",
            "Removed : /content/gdrive/Shared drives/Bovi-Analytics/Projects/JosjeScheurwater/ProjectPicoLog/data/out/processed_raw_data_pico_20190218_1_0708.csv\n",
            "Existing file : processed_raw_data_pico_20190205_0708.csv\n",
            "Removed : /content/gdrive/Shared drives/Bovi-Analytics/Projects/JosjeScheurwater/ProjectPicoLog/data/out/processed_raw_data_pico_20190205_0708.csv\n",
            "Existing file : processed_raw_data_pico_20190225_0708.csv\n",
            "Removed : /content/gdrive/Shared drives/Bovi-Analytics/Projects/JosjeScheurwater/ProjectPicoLog/data/out/processed_raw_data_pico_20190225_0708.csv\n",
            "Existing file : final_data.csv\n",
            "Removed : /content/gdrive/Shared drives/Bovi-Analytics/Projects/JosjeScheurwater/ProjectPicoLog/data/out/final_data.csv\n",
            "Existing file : final_data_HK_EAT.csv\n",
            "Removed : /content/gdrive/Shared drives/Bovi-Analytics/Projects/JosjeScheurwater/ProjectPicoLog/data/out/final_data_HK_EAT.csv\n"
          ],
          "name": "stdout"
        }
      ]
    },
    {
      "cell_type": "markdown",
      "metadata": {
        "id": "leKIwy_23HoI"
      },
      "source": [
        "## Algorythm function"
      ]
    },
    {
      "cell_type": "code",
      "metadata": {
        "id": "XhjspdZtAPcr"
      },
      "source": [
        "def picoalgoritme_gain(data, gain_peakdetection = 9,col=0):\n",
        "    # Data window paramters, 0,5s per sample\n",
        "    start = 1\n",
        "    Data = 0\n",
        "    Rumination = 0\n",
        "    PeakValue = 0\n",
        "    PressureDetected = 0\n",
        "    LowTimeCounterHold = 0\n",
        "\n",
        "    # Peak detection parameters\n",
        "    Slope_Rise = 2 * gain_peakdetection;\n",
        "    Slope_Fall = gain_peakdetection;\n",
        "    Actual_Rise = float(0)\n",
        "    Actual_Fall = float(0)\n",
        "\n",
        "    # Rumination detection parameters\n",
        "    State = 1\n",
        "    Timer_D = 0\n",
        "    Timer_E = 0\n",
        "    Timer_F = 0\n",
        "    Pulse_High_flank = 0\n",
        "    Rumination_Time = 10  # 0,5s samplerate -> 5s\n",
        "    D = 10  # 0,5s samplerate -> 5s\n",
        "    E = 30  # 0,5s samplerate -> 15s\n",
        "    F = 10  # 0,5s samplerate -> 5s\n",
        "    Pulse_detected = 0\n",
        "    Pulse_detected_old = 0\n",
        "\n",
        "    # Low time parameters\n",
        "    Lowtime_counter = 0\n",
        "\n",
        "    # Moving average filter\n",
        "    MA_Filter = 0\n",
        "    Baseline = 0\n",
        "    Windowsize = 150\n",
        "    Highest_peak = 0\n",
        "\n",
        "    # High pressure detection parameters\n",
        "    High_Pressure_level = 3500\n",
        "\n",
        "    # Loop for pulse detection\n",
        "    for i in range(1,np.size(data[:, col])):\n",
        "        Actual_Rise = data[i - 8, col] - data[i - 5, col]\n",
        "        Actual_Fall = data[i - 8, col] - data[i - 10, col]\n",
        "\n",
        "        # measure highest peak\n",
        "        if ((data[i, col] - Baseline) > Highest_peak and i > (Windowsize + 10)):\n",
        "            Highest_peak = (data[i, col] - Baseline)\n",
        "\n",
        "        # Calculating moving average filter\n",
        "        MA_Filter = 0\n",
        "        if i > Windowsize:\n",
        "            for j in range(1, Windowsize):\n",
        "                MA_Filter = MA_Filter + data[i - j, col]\n",
        "            Baseline = int(MA_Filter / Windowsize)\n",
        "            data[i, 5] = Baseline\n",
        "\n",
        "        # High pressure level detection\n",
        "        if ((data[i, col] - Baseline) > High_Pressure_level):\n",
        "            data[i, 8] = 1000\n",
        "\n",
        "        Pulse_detected = 0\n",
        "        if Actual_Rise >= Slope_Rise and Actual_Fall >= Slope_Fall:\n",
        "            Pulse_detected = 1\n",
        "\n",
        "        # flank detection\n",
        "        if Pulse_detected_old == 0 and Pulse_detected == 1:\n",
        "            Pulse_High_flank = 1\n",
        "        Pulse_detected_old = Pulse_detected\n",
        "        Pulse_detected = 0\n",
        "        data[i, 1] = Pulse_High_flank\n",
        "        data[i, 2] = State\n",
        "        data[i, 4] = LowTimeCounterHold\n",
        "\n",
        "        if State == 1:  # Wait for minimal low time\n",
        "            if Timer_D >= D:\n",
        "                State = 2\n",
        "                Lowtime_counter = 0\n",
        "                Highest_peak = 0\n",
        "\n",
        "            if Pulse_High_flank == 1:\n",
        "                State = 1\n",
        "                Timer_D = 0\n",
        "                Pulse_High_flank = 0\n",
        "\n",
        "        elif State == 2:  # Wait for first pulse\n",
        "            if Pulse_High_flank == 1:\n",
        "                State = 3\n",
        "                Timer_E = 0;\n",
        "                PulsLowTime = 0\n",
        "                Pulse_High_flank = 0\n",
        "\n",
        "        elif State == 3:  # Wait for second pulse\n",
        "            if Timer_E == E:\n",
        "                State = 1\n",
        "                Timer_D = 0\n",
        "            if Pulse_High_flank == 1:\n",
        "                Timer_F = 0;\n",
        "                Pulse_High_flank = 0\n",
        "                if Timer_E >= Rumination_Time:\n",
        "                    State = 5\n",
        "                    Timer_F = 0;\n",
        "                else:\n",
        "                    State = 4\n",
        "                    Timer_F = 0;\n",
        "\n",
        "        elif State == 4:  # Wait for third pulse or minimal low time\n",
        "            if Timer_F == F:\n",
        "                State = 1\n",
        "                Timer_D = 0\n",
        "                # Normal wave detected\n",
        "                LowTimeCounterHold = Lowtime_counter/2\n",
        "                data[i, 3] = 1\n",
        "                data[i, 6] = Highest_peak\n",
        "                Rumination = 0\n",
        "                PeakValue = Highest_peak\n",
        "            if Pulse_High_flank == 1:\n",
        "                State = 5\n",
        "                Pulse_High_flank = 0\n",
        "\n",
        "        elif State == 5:  # Wait for third pulse or minimal low time\n",
        "            if Timer_F == F:\n",
        "                State = 1\n",
        "                Timer_D = 0\n",
        "                # Rumination wave detected\n",
        "                LowTimeCounterHold = Lowtime_counter/2\n",
        "                data[i, 3] = 2\n",
        "                data[i, 6] = Highest_peak\n",
        "                Rumination = 1\n",
        "                PeakValue = Highest_peak\n",
        "            if Pulse_High_flank == 1:\n",
        "                if Timer_E <= E:  # pulse detected within window E\n",
        "                    State == 5\n",
        "                    Pulse_High_flank = 0\n",
        "                else:\n",
        "                    State = 1\n",
        "                    Timer_D = 0\n",
        "                    Pulse_High_flank = 0\n",
        "                    # Error, no wave detected\n",
        "\n",
        "        # Loop timers 0,5s per loop\n",
        "        Timer_D += 1\n",
        "        Timer_F += 1\n",
        "        Timer_E += 1\n",
        "        Lowtime_counter += 1\n",
        "\n",
        "        # Database output\n",
        "        data[i, 9] = Rumination\n",
        "        data[i, 7] = PeakValue\n",
        "    return data\n"
      ],
      "execution_count": null,
      "outputs": []
    },
    {
      "cell_type": "markdown",
      "metadata": {
        "id": "h2sz6E1x3SsJ"
      },
      "source": [
        "## File processing function"
      ]
    },
    {
      "cell_type": "markdown",
      "metadata": {
        "id": "oyZGBgUAhSHR"
      },
      "source": [
        "The next algorythm allows\n",
        "\n",
        "\n",
        "*   Normalizing the pressure -> no gain needed?\n",
        "*   Fixed gain of 9\n",
        "*   Allow flexible seperator\n",
        "*   Allow display/store\n",
        "\n"
      ]
    },
    {
      "cell_type": "code",
      "metadata": {
        "id": "wX6Y6flW9T04"
      },
      "source": [
        "def process_file(file, base_directory, input_directory, output_directory, sep = \",\", store = True, disp = False, gain = 10, col=0):\n",
        "  infile = base_directory + input_directory + file\n",
        "  outfile = base_directory + output_directory + 'processed_' + file\n",
        "  \n",
        "  #read the file and make sure to change NaN with 0.0\n",
        "  raw_df = pd.read_csv (infile, sep, decimal=\".\", dtype={'datetime':str})\n",
        "  raw_df['datetime'] = raw_df['datetime'].str.replace('T', ' ', case = False)\n",
        "  raw_df['datetime'] = raw_df['datetime'].str.replace('\\+02:00', '', case = False)\n",
        "  raw_df['datetime'] = raw_df['datetime'].str.replace('\\+01:00', '', case = False) \n",
        "  raw_df['datetime']=pd.to_datetime(raw_df['datetime'],format=\"%Y-%m-%d %H:%M:%S\")\n",
        " \n",
        "  raw_col = raw_df[['pressure']].fillna(0)\n",
        "  raw_index = raw_df[['datetime']]\n",
        "  raw_pressure = raw_df[['pressure']]\n",
        " \n",
        "  #explicitely change format to int\n",
        "  raw_col.pressure = raw_col.pressure.astype(float)\n",
        "  \n",
        "  #add extra columns with all 0.0 values\n",
        "  extra_col_df = raw_col.assign(\n",
        "    pulse_flank = 0.0, \n",
        "    state = 0.0, \n",
        "    wave_type = 0., \n",
        "    low_time= 0.0,\n",
        "    baseline= 0.0,\n",
        "    highest_peak= 0.0,\n",
        "    moo= 0.0, \n",
        "    high_pressure= 0.0,\n",
        "    time_start= 0.0,\n",
        "    time_stop= 0.0,\n",
        "    rumination= 0.0,\n",
        "    peakvalue= 0.0)\n",
        "\n",
        "  #create numpy array from pandas\n",
        "  input_array = extra_col_df.to_numpy()\n",
        "  index_array = raw_index.to_numpy()\n",
        "  raw_pressure_array = raw_pressure.to_numpy()\n",
        "\n",
        "  #run picoalgorithm and display result\n",
        "  result = picoalgoritme_gain(input_array, gain, col)\n",
        "\n",
        "  #create dataframe from result array\n",
        "  dataset = pd.DataFrame({\n",
        "    'datetime': index_array[:,0],\n",
        "    'raw_pressure': result[:, 0],\n",
        "    'ret_pressure': result[:, 0],\n",
        "    'pulse_flank': result[:, 1], \n",
        "    'state': result[:, 2],\n",
        "    'wave_type': result[:, 3],\n",
        "    'low_time': result[:, 4],\n",
        "    'baseline': result[:, 5],\n",
        "    'highest_peak': result[:, 6],\n",
        "    'peakvalue': result[:, 7],\n",
        "    'high_pressure': result[:, 8],\n",
        "    'rumination': result[:, 9]})\n",
        "  \n",
        "  #store to csv\n",
        "  if store == True:\n",
        "    dataset.to_csv(outfile)\n",
        "  if disp == True:\n",
        "    #display(dataset.head(1000))\n",
        "    dataset.describe()"
      ],
      "execution_count": null,
      "outputs": []
    },
    {
      "cell_type": "markdown",
      "metadata": {
        "id": "eeSB_xc5eQSJ"
      },
      "source": [
        "## Read the input file and creat algorythm output files"
      ]
    },
    {
      "cell_type": "code",
      "metadata": {
        "colab": {
          "base_uri": "https://localhost:8080/"
        },
        "id": "_0qMiSkfXTgL",
        "outputId": "aaac59f3-3d68-47e4-ccc0-198e6c0ca581"
      },
      "source": [
        "# alle bestanden die in een directory op csv eindigen meenemen:\n",
        "pd.set_option('display.max_rows', None)\n",
        "\n",
        "for f in os.listdir (input_path):\n",
        "    if f.endswith ('.csv'):\n",
        "        print(\"Started processing: \" + f)\n",
        "        process_file(f, base_dir, input_dir, output_dir, sep=\",\", store=True, disp=True, gain= 9, col=0)\n",
        "        print(\"Done processing: \" + f)"
      ],
      "execution_count": null,
      "outputs": [
        {
          "output_type": "stream",
          "text": [
            "Started processing: raw_data_pico_20190415_0708.csv\n",
            "Done processing: raw_data_pico_20190415_0708.csv\n",
            "Started processing: raw_data_pico_20190412_2_0708.csv\n",
            "Done processing: raw_data_pico_20190412_2_0708.csv\n",
            "Started processing: raw_data_pico_20190412_1_0708.csv\n",
            "Done processing: raw_data_pico_20190412_1_0708.csv\n",
            "Started processing: raw_data_pico_20190411_1_0708.csv\n",
            "Done processing: raw_data_pico_20190411_1_0708.csv\n",
            "Started processing: raw_data_pico_20190411_2_0708.csv\n",
            "Done processing: raw_data_pico_20190411_2_0708.csv\n",
            "Started processing: raw_data_pico_20190405_2_0708.csv\n",
            "Done processing: raw_data_pico_20190405_2_0708.csv\n",
            "Started processing: raw_data_pico_20190405_1_0708.csv\n",
            "Done processing: raw_data_pico_20190405_1_0708.csv\n",
            "Started processing: raw_data_pico_20190403_2_0708.csv\n",
            "Done processing: raw_data_pico_20190403_2_0708.csv\n",
            "Started processing: raw_data_pico_20190403_1_0708.csv\n",
            "Done processing: raw_data_pico_20190403_1_0708.csv\n",
            "Started processing: raw_data_pico_20190305_0708.csv\n",
            "Done processing: raw_data_pico_20190305_0708.csv\n",
            "Started processing: raw_data_pico_20190304_0708.csv\n",
            "Done processing: raw_data_pico_20190304_0708.csv\n",
            "Started processing: raw_data_pico_20190301_0708.csv\n",
            "Done processing: raw_data_pico_20190301_0708.csv\n",
            "Started processing: raw_data_pico_20190227_0708.csv\n",
            "Done processing: raw_data_pico_20190227_0708.csv\n",
            "Started processing: raw_data_pico_20190226_0708.csv\n",
            "Done processing: raw_data_pico_20190226_0708.csv\n",
            "Started processing: raw_data_pico_20190218_3_0708.csv\n",
            "Done processing: raw_data_pico_20190218_3_0708.csv\n",
            "Started processing: raw_data_pico_20190218_1_0708.csv\n",
            "Done processing: raw_data_pico_20190218_1_0708.csv\n",
            "Started processing: raw_data_pico_20190205_0708.csv\n",
            "Done processing: raw_data_pico_20190205_0708.csv\n",
            "Started processing: raw_data_pico_20190225_0708.csv\n",
            "Done processing: raw_data_pico_20190225_0708.csv\n"
          ],
          "name": "stdout"
        }
      ]
    },
    {
      "cell_type": "markdown",
      "metadata": {
        "id": "4sJRqU3xWVUZ"
      },
      "source": [
        "## Create list of processed files"
      ]
    },
    {
      "cell_type": "code",
      "metadata": {
        "colab": {
          "base_uri": "https://localhost:8080/"
        },
        "id": "paJjRP5m5dn3",
        "outputId": "d647c0d4-20fd-4d5b-ebf5-5f4746872f88"
      },
      "source": [
        "processed_dir = output_path\n",
        "all_files = glob.glob(processed_dir + \"*.csv\")\n",
        "\n",
        "li = []\n",
        "\n",
        "for filename in all_files:\n",
        "    print(filename)\n",
        "    df = pd.read_csv(filename, index_col=0, header=0, sep = \",\", decimal=\".\", dtype={'datetime':str}, parse_dates=['datetime']\n",
        "    )\n",
        "    df['datetime']=pd.to_datetime(df['datetime'], format=\"%Y-%m-%d %H:%M:%S\")\n",
        "    print(type(df['datetime']))\n",
        "    df['file'] = filename\n",
        "    li.append(df)\n",
        "\n",
        "df_concat_processed = pd.concat(li, axis=0, ignore_index=True)"
      ],
      "execution_count": null,
      "outputs": [
        {
          "output_type": "stream",
          "text": [
            "/content/gdrive/Shared drives/Bovi-Analytics/Projects/JosjeScheurwater/ProjectPicoLog/data/out/processed_raw_data_pico_20190415_0708.csv\n",
            "<class 'pandas.core.series.Series'>\n",
            "/content/gdrive/Shared drives/Bovi-Analytics/Projects/JosjeScheurwater/ProjectPicoLog/data/out/processed_raw_data_pico_20190412_1_0708.csv\n",
            "<class 'pandas.core.series.Series'>\n",
            "/content/gdrive/Shared drives/Bovi-Analytics/Projects/JosjeScheurwater/ProjectPicoLog/data/out/processed_raw_data_pico_20190412_2_0708.csv\n",
            "<class 'pandas.core.series.Series'>\n",
            "/content/gdrive/Shared drives/Bovi-Analytics/Projects/JosjeScheurwater/ProjectPicoLog/data/out/processed_raw_data_pico_20190411_1_0708.csv\n",
            "<class 'pandas.core.series.Series'>\n",
            "/content/gdrive/Shared drives/Bovi-Analytics/Projects/JosjeScheurwater/ProjectPicoLog/data/out/processed_raw_data_pico_20190411_2_0708.csv\n",
            "<class 'pandas.core.series.Series'>\n",
            "/content/gdrive/Shared drives/Bovi-Analytics/Projects/JosjeScheurwater/ProjectPicoLog/data/out/processed_raw_data_pico_20190405_2_0708.csv\n",
            "<class 'pandas.core.series.Series'>\n",
            "/content/gdrive/Shared drives/Bovi-Analytics/Projects/JosjeScheurwater/ProjectPicoLog/data/out/processed_raw_data_pico_20190405_1_0708.csv\n",
            "<class 'pandas.core.series.Series'>\n",
            "/content/gdrive/Shared drives/Bovi-Analytics/Projects/JosjeScheurwater/ProjectPicoLog/data/out/processed_raw_data_pico_20190403_2_0708.csv\n",
            "<class 'pandas.core.series.Series'>\n",
            "/content/gdrive/Shared drives/Bovi-Analytics/Projects/JosjeScheurwater/ProjectPicoLog/data/out/processed_raw_data_pico_20190403_1_0708.csv\n",
            "<class 'pandas.core.series.Series'>\n",
            "/content/gdrive/Shared drives/Bovi-Analytics/Projects/JosjeScheurwater/ProjectPicoLog/data/out/processed_raw_data_pico_20190305_0708.csv\n",
            "<class 'pandas.core.series.Series'>\n",
            "/content/gdrive/Shared drives/Bovi-Analytics/Projects/JosjeScheurwater/ProjectPicoLog/data/out/processed_raw_data_pico_20190304_0708.csv\n",
            "<class 'pandas.core.series.Series'>\n",
            "/content/gdrive/Shared drives/Bovi-Analytics/Projects/JosjeScheurwater/ProjectPicoLog/data/out/processed_raw_data_pico_20190301_0708.csv\n",
            "<class 'pandas.core.series.Series'>\n",
            "/content/gdrive/Shared drives/Bovi-Analytics/Projects/JosjeScheurwater/ProjectPicoLog/data/out/processed_raw_data_pico_20190227_0708.csv\n",
            "<class 'pandas.core.series.Series'>\n",
            "/content/gdrive/Shared drives/Bovi-Analytics/Projects/JosjeScheurwater/ProjectPicoLog/data/out/processed_raw_data_pico_20190226_0708.csv\n",
            "<class 'pandas.core.series.Series'>\n",
            "/content/gdrive/Shared drives/Bovi-Analytics/Projects/JosjeScheurwater/ProjectPicoLog/data/out/processed_raw_data_pico_20190218_3_0708.csv\n",
            "<class 'pandas.core.series.Series'>\n",
            "/content/gdrive/Shared drives/Bovi-Analytics/Projects/JosjeScheurwater/ProjectPicoLog/data/out/processed_raw_data_pico_20190218_1_0708.csv\n",
            "<class 'pandas.core.series.Series'>\n",
            "/content/gdrive/Shared drives/Bovi-Analytics/Projects/JosjeScheurwater/ProjectPicoLog/data/out/processed_raw_data_pico_20190205_0708.csv\n",
            "<class 'pandas.core.series.Series'>\n",
            "/content/gdrive/Shared drives/Bovi-Analytics/Projects/JosjeScheurwater/ProjectPicoLog/data/out/processed_raw_data_pico_20190225_0708.csv\n",
            "<class 'pandas.core.series.Series'>\n"
          ],
          "name": "stdout"
        }
      ]
    },
    {
      "cell_type": "code",
      "metadata": {
        "id": "W4K2k4kC6GiU"
      },
      "source": [
        "df_concat_processed['rumination_alg'] = df_concat_processed['rumination'].apply(lambda x: 1 if x == 1.0 else 0)"
      ],
      "execution_count": null,
      "outputs": []
    },
    {
      "cell_type": "markdown",
      "metadata": {
        "id": "ckWnV4EcOlgf"
      },
      "source": [
        "## Video files"
      ]
    },
    {
      "cell_type": "code",
      "metadata": {
        "id": "d4P5v6RkHOit"
      },
      "source": [
        "def count_file (data):\n",
        "  data['rumination_video'] = data['code_1_5'].apply(lambda x: 1 if x == 1.0 else 0)\n",
        "  data['resting_video'] = data['code_1_5'].apply(lambda x: 1 if x == 2.0 else 0)\n",
        "  data['drinking_video'] = data['code_1_5'].apply(lambda x: 1 if x ==5.0 else 0)\n",
        "  data['sleeping_video']=data['code_1_5'].apply(lambda x: 1 if x == 3.0 else 0)\n",
        "  data['eating_video']=data['code_1_5'].apply(lambda x: 1 if x == 4.0 else 0)\n",
        "  return data\n",
        "  "
      ],
      "execution_count": null,
      "outputs": []
    },
    {
      "cell_type": "code",
      "metadata": {
        "colab": {
          "base_uri": "https://localhost:8080/"
        },
        "id": "pPQj0pfg6JQm",
        "outputId": "3f0b4b39-58c3-49b2-c7bf-8788d209f8df"
      },
      "source": [
        "path_video = video_path\n",
        "all_files = glob.glob(path_video + \"*.csv\")\n",
        "li = []\n",
        "for filename in all_files:\n",
        "    print(\"Started processing: \" + filename)\n",
        "    df = pd.read_csv(filename, \n",
        "                    header=0, \n",
        "                    sep = \";\", \n",
        "                    decimal=\".\", \n",
        "                    nrows = 25000, \n",
        "                    skipinitialspace=True, \n",
        "                    dtype={'datetime':str, 'code_1_5':float,'code_6_or_12':float,'code_15':float,'other_1':float, 'other_2': float}, parse_dates=['datetime']\n",
        "                    )[['cow_number', 'datetime', 'code_1_5', 'code_6_or_12', 'code_15', 'other_1','other_2']].dropna()\n",
        "    df['datetime']=pd.to_datetime(df['datetime'], format=\"%Y-%m-%d %H:%M:%S\")\n",
        "    df.dtypes\n",
        "    count_file(df)\n",
        "    li.append(df)\n",
        "    print(\"Done processing: \" + filename)"
      ],
      "execution_count": null,
      "outputs": [
        {
          "output_type": "stream",
          "text": [
            "Started processing: /content/gdrive/Shared drives/Bovi-Analytics/Projects/JosjeScheurwater/ProjectPicoLog/data/in/traintest/videos/raw_data_video_k13_20190412_1108.csv\n",
            "Done processing: /content/gdrive/Shared drives/Bovi-Analytics/Projects/JosjeScheurwater/ProjectPicoLog/data/in/traintest/videos/raw_data_video_k13_20190412_1108.csv\n",
            "Started processing: /content/gdrive/Shared drives/Bovi-Analytics/Projects/JosjeScheurwater/ProjectPicoLog/data/in/traintest/videos/raw_data_video_k21_20190218_1108.csv\n",
            "Done processing: /content/gdrive/Shared drives/Bovi-Analytics/Projects/JosjeScheurwater/ProjectPicoLog/data/in/traintest/videos/raw_data_video_k21_20190218_1108.csv\n",
            "Started processing: /content/gdrive/Shared drives/Bovi-Analytics/Projects/JosjeScheurwater/ProjectPicoLog/data/in/traintest/videos/raw_data_video_k21_20190205_1108.csv\n",
            "Done processing: /content/gdrive/Shared drives/Bovi-Analytics/Projects/JosjeScheurwater/ProjectPicoLog/data/in/traintest/videos/raw_data_video_k21_20190205_1108.csv\n",
            "Started processing: /content/gdrive/Shared drives/Bovi-Analytics/Projects/JosjeScheurwater/ProjectPicoLog/data/in/traintest/videos/raw_data_video_k2_20190403_1108.csv\n",
            "Done processing: /content/gdrive/Shared drives/Bovi-Analytics/Projects/JosjeScheurwater/ProjectPicoLog/data/in/traintest/videos/raw_data_video_k2_20190403_1108.csv\n",
            "Started processing: /content/gdrive/Shared drives/Bovi-Analytics/Projects/JosjeScheurwater/ProjectPicoLog/data/in/traintest/videos/raw_data_video_k2_20190301_1108.csv\n",
            "Done processing: /content/gdrive/Shared drives/Bovi-Analytics/Projects/JosjeScheurwater/ProjectPicoLog/data/in/traintest/videos/raw_data_video_k2_20190301_1108.csv\n",
            "Started processing: /content/gdrive/Shared drives/Bovi-Analytics/Projects/JosjeScheurwater/ProjectPicoLog/data/in/traintest/videos/raw_data_video_k13_20190227_1108.csv\n",
            "Done processing: /content/gdrive/Shared drives/Bovi-Analytics/Projects/JosjeScheurwater/ProjectPicoLog/data/in/traintest/videos/raw_data_video_k13_20190227_1108.csv\n",
            "Started processing: /content/gdrive/Shared drives/Bovi-Analytics/Projects/JosjeScheurwater/ProjectPicoLog/data/in/traintest/videos/ruwe_data_video_k84_20190226v2_1108.csv\n",
            "Done processing: /content/gdrive/Shared drives/Bovi-Analytics/Projects/JosjeScheurwater/ProjectPicoLog/data/in/traintest/videos/ruwe_data_video_k84_20190226v2_1108.csv\n",
            "Started processing: /content/gdrive/Shared drives/Bovi-Analytics/Projects/JosjeScheurwater/ProjectPicoLog/data/in/traintest/videos/ruwe_data_video_k84_20190305_1108.csv\n",
            "Done processing: /content/gdrive/Shared drives/Bovi-Analytics/Projects/JosjeScheurwater/ProjectPicoLog/data/in/traintest/videos/ruwe_data_video_k84_20190305_1108.csv\n",
            "Started processing: /content/gdrive/Shared drives/Bovi-Analytics/Projects/JosjeScheurwater/ProjectPicoLog/data/in/traintest/videos/ruwe_data_video_k84_20190415_1108.csv\n",
            "Done processing: /content/gdrive/Shared drives/Bovi-Analytics/Projects/JosjeScheurwater/ProjectPicoLog/data/in/traintest/videos/ruwe_data_video_k84_20190415_1108.csv\n",
            "Started processing: /content/gdrive/Shared drives/Bovi-Analytics/Projects/JosjeScheurwater/ProjectPicoLog/data/in/traintest/videos/raw_data_video_k26_20190410_1108.csv\n",
            "Done processing: /content/gdrive/Shared drives/Bovi-Analytics/Projects/JosjeScheurwater/ProjectPicoLog/data/in/traintest/videos/raw_data_video_k26_20190410_1108.csv\n",
            "Started processing: /content/gdrive/Shared drives/Bovi-Analytics/Projects/JosjeScheurwater/ProjectPicoLog/data/in/traintest/videos/raw_data_video_k2_20190416_1108.csv\n",
            "Done processing: /content/gdrive/Shared drives/Bovi-Analytics/Projects/JosjeScheurwater/ProjectPicoLog/data/in/traintest/videos/raw_data_video_k2_20190416_1108.csv\n",
            "Started processing: /content/gdrive/Shared drives/Bovi-Analytics/Projects/JosjeScheurwater/ProjectPicoLog/data/in/traintest/videos/raw_data_video_k21_20190225v2_1108.csv\n",
            "Done processing: /content/gdrive/Shared drives/Bovi-Analytics/Projects/JosjeScheurwater/ProjectPicoLog/data/in/traintest/videos/raw_data_video_k21_20190225v2_1108.csv\n",
            "Started processing: /content/gdrive/Shared drives/Bovi-Analytics/Projects/JosjeScheurwater/ProjectPicoLog/data/in/traintest/videos/raw_data_video_k2_20190411_1108.csv\n",
            "Done processing: /content/gdrive/Shared drives/Bovi-Analytics/Projects/JosjeScheurwater/ProjectPicoLog/data/in/traintest/videos/raw_data_video_k2_20190411_1108.csv\n",
            "Started processing: /content/gdrive/Shared drives/Bovi-Analytics/Projects/JosjeScheurwater/ProjectPicoLog/data/in/traintest/videos/raw_data_video_k26_20190404_1108.csv\n",
            "Done processing: /content/gdrive/Shared drives/Bovi-Analytics/Projects/JosjeScheurwater/ProjectPicoLog/data/in/traintest/videos/raw_data_video_k26_20190404_1108.csv\n",
            "Started processing: /content/gdrive/Shared drives/Bovi-Analytics/Projects/JosjeScheurwater/ProjectPicoLog/data/in/traintest/videos/raw_data_video_k26_20190325_1108.csv\n",
            "Done processing: /content/gdrive/Shared drives/Bovi-Analytics/Projects/JosjeScheurwater/ProjectPicoLog/data/in/traintest/videos/raw_data_video_k26_20190325_1108.csv\n",
            "Started processing: /content/gdrive/Shared drives/Bovi-Analytics/Projects/JosjeScheurwater/ProjectPicoLog/data/in/traintest/videos/raw_data_video_k84_20190405__corr37sec_1108.csv\n",
            "Done processing: /content/gdrive/Shared drives/Bovi-Analytics/Projects/JosjeScheurwater/ProjectPicoLog/data/in/traintest/videos/raw_data_video_k84_20190405__corr37sec_1108.csv\n",
            "Started processing: /content/gdrive/Shared drives/Bovi-Analytics/Projects/JosjeScheurwater/ProjectPicoLog/data/in/traintest/videos/raw_data_video_k21_20190304_1012.csv\n",
            "Done processing: /content/gdrive/Shared drives/Bovi-Analytics/Projects/JosjeScheurwater/ProjectPicoLog/data/in/traintest/videos/raw_data_video_k21_20190304_1012.csv\n"
          ],
          "name": "stdout"
        }
      ]
    },
    {
      "cell_type": "code",
      "metadata": {
        "id": "QIEE_ZiM94ya"
      },
      "source": [
        "df_concat_video = pd.concat(li, axis=0, ignore_index=True)"
      ],
      "execution_count": null,
      "outputs": []
    },
    {
      "cell_type": "code",
      "metadata": {
        "id": "03Fs-bNgM6NC"
      },
      "source": [
        "#create one colum for behaviour\n",
        "data2=df_concat_video.copy()\n",
        "data2[\"eating_video\"].replace({1:2}, inplace= True)\n",
        "data2[\"drinking_video\"].replace({1:3}, inplace= True)\n",
        "data2[\"sleeping_video\"].replace({1:4}, inplace= True)\n",
        "data2[\"resting_video\"].replace({1:5}, inplace= True)\n",
        "data2['behaviour']=data2['rumination_video']+data2['eating_video']+data2['drinking_video']+data2['sleeping_video']+data2['resting_video']\n",
        "df_concat_video['behaviour']=data2['behaviour']"
      ],
      "execution_count": null,
      "outputs": []
    },
    {
      "cell_type": "markdown",
      "metadata": {
        "id": "c0bPYEvp2inT"
      },
      "source": [
        "## Counting data video"
      ]
    },
    {
      "cell_type": "code",
      "metadata": {
        "colab": {
          "base_uri": "https://localhost:8080/"
        },
        "id": "mMCEeoiL2iYl",
        "outputId": "24521c49-5090-4471-ce8c-e7af9e4d5ef5"
      },
      "source": [
        "df_concat_video.count()"
      ],
      "execution_count": null,
      "outputs": [
        {
          "output_type": "execute_result",
          "data": {
            "text/plain": [
              "cow_number          292634\n",
              "datetime            292634\n",
              "code_1_5            292634\n",
              "code_6_or_12        292634\n",
              "code_15             292634\n",
              "other_1             292634\n",
              "other_2             292634\n",
              "rumination_video    292634\n",
              "resting_video       292634\n",
              "drinking_video      292634\n",
              "sleeping_video      292634\n",
              "eating_video        292634\n",
              "behaviour           292634\n",
              "dtype: int64"
            ]
          },
          "metadata": {
            "tags": []
          },
          "execution_count": 40
        }
      ]
    },
    {
      "cell_type": "code",
      "metadata": {
        "colab": {
          "base_uri": "https://localhost:8080/"
        },
        "id": "CaOMG2-fUdgB",
        "outputId": "42a5faf4-9c33-4133-954d-87e522fd8f14"
      },
      "source": [
        "df_concat_processed.count()"
      ],
      "execution_count": null,
      "outputs": [
        {
          "output_type": "execute_result",
          "data": {
            "text/plain": [
              "datetime          424818\n",
              "raw_pressure      424818\n",
              "ret_pressure      424818\n",
              "pulse_flank       424818\n",
              "state             424818\n",
              "wave_type         424818\n",
              "low_time          424818\n",
              "baseline          424818\n",
              "highest_peak      424818\n",
              "peakvalue         424818\n",
              "high_pressure     424818\n",
              "rumination        424818\n",
              "file              424818\n",
              "rumination_alg    424818\n",
              "dtype: int64"
            ]
          },
          "metadata": {
            "tags": []
          },
          "execution_count": 41
        }
      ]
    },
    {
      "cell_type": "markdown",
      "metadata": {
        "id": "jnxtE4qLO2e_"
      },
      "source": [
        "# Merge processsed files and video files"
      ]
    },
    {
      "cell_type": "code",
      "metadata": {
        "colab": {
          "base_uri": "https://localhost:8080/"
        },
        "id": "WlxHuW7xJGHk",
        "outputId": "e6115483-2b5a-4324-bdf6-740e8b3d98bb"
      },
      "source": [
        "df_inner_merged = pd.merge(df_concat_processed, df_concat_video, on='datetime', how='inner')\n",
        "df_inner_merged.count()"
      ],
      "execution_count": null,
      "outputs": [
        {
          "output_type": "execute_result",
          "data": {
            "text/plain": [
              "datetime            414484\n",
              "raw_pressure        414484\n",
              "ret_pressure        414484\n",
              "pulse_flank         414484\n",
              "state               414484\n",
              "wave_type           414484\n",
              "low_time            414484\n",
              "baseline            414484\n",
              "highest_peak        414484\n",
              "peakvalue           414484\n",
              "high_pressure       414484\n",
              "rumination          414484\n",
              "file                414484\n",
              "rumination_alg      414484\n",
              "cow_number          414484\n",
              "code_1_5            414484\n",
              "code_6_or_12        414484\n",
              "code_15             414484\n",
              "other_1             414484\n",
              "other_2             414484\n",
              "rumination_video    414484\n",
              "resting_video       414484\n",
              "drinking_video      414484\n",
              "sleeping_video      414484\n",
              "eating_video        414484\n",
              "behaviour           414484\n",
              "dtype: int64"
            ]
          },
          "metadata": {
            "tags": []
          },
          "execution_count": 42
        }
      ]
    },
    {
      "cell_type": "code",
      "metadata": {
        "id": "iCx9UP140ecx"
      },
      "source": [
        "final_data=df_inner_merged"
      ],
      "execution_count": null,
      "outputs": []
    },
    {
      "cell_type": "code",
      "metadata": {
        "colab": {
          "base_uri": "https://localhost:8080/"
        },
        "id": "yPBhYGSvqCzk",
        "outputId": "c5fd73dc-e4e8-4162-a997-6e6779bca38e"
      },
      "source": [
        "np.unique(final_data['behaviour'], return_counts=True)"
      ],
      "execution_count": null,
      "outputs": [
        {
          "output_type": "execute_result",
          "data": {
            "text/plain": [
              "(array([1, 2, 3, 4, 5], dtype=int64),\n",
              " array([132828, 106915,   1570,  13294, 159877]))"
            ]
          },
          "metadata": {
            "tags": []
          },
          "execution_count": 45
        }
      ]
    },
    {
      "cell_type": "code",
      "metadata": {
        "id": "RX3GGdD42FUS"
      },
      "source": [
        "final_data_corrected = final_data[final_data.code_15 != 15]"
      ],
      "execution_count": null,
      "outputs": []
    },
    {
      "cell_type": "markdown",
      "metadata": {
        "id": "KfUcr61726oD"
      },
      "source": [
        "# Create subsets of dataset and counting"
      ]
    },
    {
      "cell_type": "code",
      "metadata": {
        "id": "FHg0fxq5lxiI"
      },
      "source": [
        "final_data_HK_EAT_REST = final_data_corrected[final_data_corrected.behaviour<3.0]"
      ],
      "execution_count": null,
      "outputs": []
    },
    {
      "cell_type": "code",
      "metadata": {
        "colab": {
          "base_uri": "https://localhost:8080/"
        },
        "id": "-_HvsdnUmdu-",
        "outputId": "aac9e6f0-2c1d-4d8b-fcc3-544dac9c3ccc"
      },
      "source": [
        "final_data_HK_EAT = final_data_HK_EAT_REST[final_data_corrected.behaviour>0.0]"
      ],
      "execution_count": null,
      "outputs": [
        {
          "output_type": "stream",
          "text": [
            "/usr/local/lib/python3.6/dist-packages/ipykernel_launcher.py:1: UserWarning: Boolean Series key will be reindexed to match DataFrame index.\n",
            "  \"\"\"Entry point for launching an IPython kernel.\n"
          ],
          "name": "stderr"
        }
      ]
    },
    {
      "cell_type": "code",
      "metadata": {
        "id": "xe9CbTu2ELUS",
        "colab": {
          "base_uri": "https://localhost:8080/",
          "height": 333
        },
        "outputId": "4dc5ff76-1952-4655-fb21-903f0e7c19a9"
      },
      "source": [
        "result_file='/content/gdrive/Shared drives/Bovi-Analytics/Projects/JosjeScheurwater/ProjectPicoLog/data/out/final_data.csv'\r\n",
        "final_data.to_csv(result_file)"
      ],
      "execution_count": null,
      "outputs": [
        {
          "output_type": "error",
          "ename": "KeyboardInterrupt",
          "evalue": "ignored",
          "traceback": [
            "\u001b[0;31m---------------------------------------------------------------------------\u001b[0m",
            "\u001b[0;31mKeyboardInterrupt\u001b[0m                         Traceback (most recent call last)",
            "\u001b[0;32m<ipython-input-24-75a097eedfb3>\u001b[0m in \u001b[0;36m<module>\u001b[0;34m()\u001b[0m\n\u001b[1;32m      1\u001b[0m \u001b[0mresult_file\u001b[0m\u001b[0;34m=\u001b[0m\u001b[0;34m'/content/gdrive/Shared drives/Bovi-Analytics/Projects/JosjeScheurwater/ProjectPicoLog/data/out/final_data.csv'\u001b[0m\u001b[0;34m\u001b[0m\u001b[0;34m\u001b[0m\u001b[0m\n\u001b[0;32m----> 2\u001b[0;31m \u001b[0mfinal_data\u001b[0m\u001b[0;34m.\u001b[0m\u001b[0mto_csv\u001b[0m\u001b[0;34m(\u001b[0m\u001b[0mresult_file\u001b[0m\u001b[0;34m)\u001b[0m\u001b[0;34m\u001b[0m\u001b[0;34m\u001b[0m\u001b[0m\n\u001b[0m",
            "\u001b[0;32m/usr/local/lib/python3.6/dist-packages/pandas/core/generic.py\u001b[0m in \u001b[0;36mto_csv\u001b[0;34m(self, path_or_buf, sep, na_rep, float_format, columns, header, index, index_label, mode, encoding, compression, quoting, quotechar, line_terminator, chunksize, date_format, doublequote, escapechar, decimal, errors)\u001b[0m\n\u001b[1;32m   3168\u001b[0m             \u001b[0mdecimal\u001b[0m\u001b[0;34m=\u001b[0m\u001b[0mdecimal\u001b[0m\u001b[0;34m,\u001b[0m\u001b[0;34m\u001b[0m\u001b[0;34m\u001b[0m\u001b[0m\n\u001b[1;32m   3169\u001b[0m         )\n\u001b[0;32m-> 3170\u001b[0;31m         \u001b[0mformatter\u001b[0m\u001b[0;34m.\u001b[0m\u001b[0msave\u001b[0m\u001b[0;34m(\u001b[0m\u001b[0;34m)\u001b[0m\u001b[0;34m\u001b[0m\u001b[0;34m\u001b[0m\u001b[0m\n\u001b[0m\u001b[1;32m   3171\u001b[0m \u001b[0;34m\u001b[0m\u001b[0m\n\u001b[1;32m   3172\u001b[0m         \u001b[0;32mif\u001b[0m \u001b[0mpath_or_buf\u001b[0m \u001b[0;32mis\u001b[0m \u001b[0;32mNone\u001b[0m\u001b[0;34m:\u001b[0m\u001b[0;34m\u001b[0m\u001b[0;34m\u001b[0m\u001b[0m\n",
            "\u001b[0;32m/usr/local/lib/python3.6/dist-packages/pandas/io/formats/csvs.py\u001b[0m in \u001b[0;36msave\u001b[0;34m(self)\u001b[0m\n\u001b[1;32m    204\u001b[0m             )\n\u001b[1;32m    205\u001b[0m \u001b[0;34m\u001b[0m\u001b[0m\n\u001b[0;32m--> 206\u001b[0;31m             \u001b[0mself\u001b[0m\u001b[0;34m.\u001b[0m\u001b[0m_save\u001b[0m\u001b[0;34m(\u001b[0m\u001b[0;34m)\u001b[0m\u001b[0;34m\u001b[0m\u001b[0;34m\u001b[0m\u001b[0m\n\u001b[0m\u001b[1;32m    207\u001b[0m \u001b[0;34m\u001b[0m\u001b[0m\n\u001b[1;32m    208\u001b[0m         \u001b[0;32mfinally\u001b[0m\u001b[0;34m:\u001b[0m\u001b[0;34m\u001b[0m\u001b[0;34m\u001b[0m\u001b[0m\n",
            "\u001b[0;32m/usr/local/lib/python3.6/dist-packages/pandas/io/formats/csvs.py\u001b[0m in \u001b[0;36m_save\u001b[0;34m(self)\u001b[0m\n\u001b[1;32m    326\u001b[0m                 \u001b[0;32mbreak\u001b[0m\u001b[0;34m\u001b[0m\u001b[0;34m\u001b[0m\u001b[0m\n\u001b[1;32m    327\u001b[0m \u001b[0;34m\u001b[0m\u001b[0m\n\u001b[0;32m--> 328\u001b[0;31m             \u001b[0mself\u001b[0m\u001b[0;34m.\u001b[0m\u001b[0m_save_chunk\u001b[0m\u001b[0;34m(\u001b[0m\u001b[0mstart_i\u001b[0m\u001b[0;34m,\u001b[0m \u001b[0mend_i\u001b[0m\u001b[0;34m)\u001b[0m\u001b[0;34m\u001b[0m\u001b[0;34m\u001b[0m\u001b[0m\n\u001b[0m\u001b[1;32m    329\u001b[0m \u001b[0;34m\u001b[0m\u001b[0m\n\u001b[1;32m    330\u001b[0m     \u001b[0;32mdef\u001b[0m \u001b[0m_save_chunk\u001b[0m\u001b[0;34m(\u001b[0m\u001b[0mself\u001b[0m\u001b[0;34m,\u001b[0m \u001b[0mstart_i\u001b[0m\u001b[0;34m:\u001b[0m \u001b[0mint\u001b[0m\u001b[0;34m,\u001b[0m \u001b[0mend_i\u001b[0m\u001b[0;34m:\u001b[0m \u001b[0mint\u001b[0m\u001b[0;34m)\u001b[0m \u001b[0;34m->\u001b[0m \u001b[0;32mNone\u001b[0m\u001b[0;34m:\u001b[0m\u001b[0;34m\u001b[0m\u001b[0;34m\u001b[0m\u001b[0m\n",
            "\u001b[0;32m/usr/local/lib/python3.6/dist-packages/pandas/io/formats/csvs.py\u001b[0m in \u001b[0;36m_save_chunk\u001b[0;34m(self, start_i, end_i)\u001b[0m\n\u001b[1;32m    360\u001b[0m         )\n\u001b[1;32m    361\u001b[0m \u001b[0;34m\u001b[0m\u001b[0m\n\u001b[0;32m--> 362\u001b[0;31m         \u001b[0mlibwriters\u001b[0m\u001b[0;34m.\u001b[0m\u001b[0mwrite_csv_rows\u001b[0m\u001b[0;34m(\u001b[0m\u001b[0mself\u001b[0m\u001b[0;34m.\u001b[0m\u001b[0mdata\u001b[0m\u001b[0;34m,\u001b[0m \u001b[0mix\u001b[0m\u001b[0;34m,\u001b[0m \u001b[0mself\u001b[0m\u001b[0;34m.\u001b[0m\u001b[0mnlevels\u001b[0m\u001b[0;34m,\u001b[0m \u001b[0mself\u001b[0m\u001b[0;34m.\u001b[0m\u001b[0mcols\u001b[0m\u001b[0;34m,\u001b[0m \u001b[0mself\u001b[0m\u001b[0;34m.\u001b[0m\u001b[0mwriter\u001b[0m\u001b[0;34m)\u001b[0m\u001b[0;34m\u001b[0m\u001b[0;34m\u001b[0m\u001b[0m\n\u001b[0m",
            "\u001b[0;32mpandas/_libs/writers.pyx\u001b[0m in \u001b[0;36mpandas._libs.writers.write_csv_rows\u001b[0;34m()\u001b[0m\n",
            "\u001b[0;31mKeyboardInterrupt\u001b[0m: "
          ]
        }
      ]
    },
    {
      "cell_type": "code",
      "metadata": {
        "id": "h5Qs49vTEoHh"
      },
      "source": [
        "result_file='/content/gdrive/Shared drives/Bovi-Analytics/Projects/JosjeScheurwater/ProjectPicoLog/data/out/final_data_HK_EAT.csv'\r\n",
        "final_data_HK_EAT.to_csv(result_file)"
      ],
      "execution_count": null,
      "outputs": []
    },
    {
      "cell_type": "code",
      "metadata": {
        "id": "PoNZ5sK7nvvE"
      },
      "source": [
        "import statsmodels.api as sm"
      ],
      "execution_count": null,
      "outputs": []
    },
    {
      "cell_type": "code",
      "metadata": {
        "id": "DJ8dLx4tnn67"
      },
      "source": [
        "model= sm.GLM(final_data_HK_EAT['low_time']~final_data_HK_EAT['behaviour']+final_data_HK_EAT['cow_number'], family=sm.families.Gaussian())\r\n",
        "model_results=model.fit()\r\n",
        "model_results.summary()\r\n"
      ],
      "execution_count": null,
      "outputs": []
    },
    {
      "cell_type": "code",
      "metadata": {
        "id": "ss81PFYQDZfc"
      },
      "source": [
        "pip install pymer4"
      ],
      "execution_count": null,
      "outputs": []
    },
    {
      "cell_type": "code",
      "metadata": {
        "id": "iX3ry3g8LDqT"
      },
      "source": [
        "pip install conda"
      ],
      "execution_count": null,
      "outputs": []
    },
    {
      "cell_type": "code",
      "metadata": {
        "id": "RMMGt40aHTeb"
      },
      "source": [
        "!conda install -c conda-forge r r-base r-lmertest r-emmeans rpy2"
      ],
      "execution_count": null,
      "outputs": []
    },
    {
      "cell_type": "markdown",
      "metadata": {
        "id": "mLsTttsXN7GM"
      },
      "source": [
        "# Install conda"
      ]
    },
    {
      "cell_type": "code",
      "metadata": {
        "id": "QzkeMLwCN522"
      },
      "source": [
        "!wget https://repo.anaconda.com/miniconda/Miniconda3-latest-Linux-x86_64.sh"
      ],
      "execution_count": null,
      "outputs": []
    },
    {
      "cell_type": "code",
      "metadata": {
        "id": "tnuGeOXvN5zk"
      },
      "source": [
        "!bash Miniconda3-latest-Linux-x86_64.sh"
      ],
      "execution_count": null,
      "outputs": []
    },
    {
      "cell_type": "code",
      "metadata": {
        "id": "9R9Z6EZ2N5xb"
      },
      "source": [
        ""
      ],
      "execution_count": null,
      "outputs": []
    },
    {
      "cell_type": "code",
      "metadata": {
        "id": "-IBXhYAjBdQi"
      },
      "source": [
        "import pymer4"
      ],
      "execution_count": null,
      "outputs": []
    },
    {
      "cell_type": "code",
      "metadata": {
        "id": "Ys6n_MkoFQ__"
      },
      "source": [
        " model= pymer4.Lmer('low_time ~ behaviour + (behaviour|cow_number)', data=final_data_HK_EAT)"
      ],
      "execution_count": null,
      "outputs": []
    },
    {
      "cell_type": "code",
      "metadata": {
        "id": "TZoiQUf_F01L"
      },
      "source": [
        "model.fit()"
      ],
      "execution_count": null,
      "outputs": []
    },
    {
      "cell_type": "code",
      "metadata": {
        "id": "XNWZAP1rGGQO"
      },
      "source": [
        "model.summary()"
      ],
      "execution_count": null,
      "outputs": []
    },
    {
      "cell_type": "code",
      "metadata": {
        "id": "LqUTiHAUVNE5"
      },
      "source": [
        "final_data_corr_cow_02 = final_data_corrected[final_data_corrected.cow_number==2.0]"
      ],
      "execution_count": null,
      "outputs": []
    },
    {
      "cell_type": "code",
      "metadata": {
        "id": "T_fAw7a1suml"
      },
      "source": [
        "final_data_corr_cow_13 = final_data_corrected[final_data_corrected.cow_number==13.0]"
      ],
      "execution_count": null,
      "outputs": []
    },
    {
      "cell_type": "code",
      "metadata": {
        "id": "87adL7RAsuct"
      },
      "source": [
        "final_data_corr_cow_21 = final_data_corrected[final_data_corrected.cow_number==21.0]"
      ],
      "execution_count": null,
      "outputs": []
    },
    {
      "cell_type": "code",
      "metadata": {
        "id": "vvC_mNk-suQl"
      },
      "source": [
        "final_data_corr_cow_84 = final_data_corrected[final_data_corrected.cow_number==84.0]"
      ],
      "execution_count": null,
      "outputs": []
    },
    {
      "cell_type": "code",
      "metadata": {
        "id": "fuS2BTuZVkJT"
      },
      "source": [
        "np.unique(final_data_rum_video_1['rumination_alg'], return_counts=True)"
      ],
      "execution_count": null,
      "outputs": []
    },
    {
      "cell_type": "code",
      "metadata": {
        "id": "DsKIxWu6WAsK"
      },
      "source": [
        "final_data_rum_video_0 = final_data_corrected[final_data_corrected.rumination_video== 0]"
      ],
      "execution_count": null,
      "outputs": []
    },
    {
      "cell_type": "code",
      "metadata": {
        "id": "IVOmOuSJ9t4n"
      },
      "source": [
        "np.unique(final_data_rum_video_0['rumination_alg'], return_counts=True)"
      ],
      "execution_count": null,
      "outputs": []
    },
    {
      "cell_type": "code",
      "metadata": {
        "id": "83sAy3RTWuD2"
      },
      "source": [
        "final_data_rum_alg_1_video_0 = final_data_rum_video_0[final_data_rum_video_0.rumination_alg== 1]"
      ],
      "execution_count": null,
      "outputs": []
    },
    {
      "cell_type": "code",
      "metadata": {
        "id": "gZRiQCGuWKRu"
      },
      "source": [
        "np.unique(final_data_rum_alg_1_video_0['behaviour'], return_counts=True)"
      ],
      "execution_count": null,
      "outputs": []
    },
    {
      "cell_type": "code",
      "metadata": {
        "id": "JjWxjTpwWbG0"
      },
      "source": [
        "np.unique(final_data_rum_alg_1_video_0['eating_video'], return_counts=True)"
      ],
      "execution_count": null,
      "outputs": []
    },
    {
      "cell_type": "code",
      "metadata": {
        "id": "geR2tfZEhbzF"
      },
      "source": [
        "final_data_corrected.count()"
      ],
      "execution_count": null,
      "outputs": []
    },
    {
      "cell_type": "code",
      "metadata": {
        "id": "8rwXJ_x2EXel"
      },
      "source": [
        "np.unique(final_data['cow_number'], return_counts=True)"
      ],
      "execution_count": null,
      "outputs": []
    },
    {
      "cell_type": "code",
      "metadata": {
        "id": "LSH0Qeh2EgEZ"
      },
      "source": [
        "np.unique(final_data['behaviour'], return_counts=True)"
      ],
      "execution_count": null,
      "outputs": []
    },
    {
      "cell_type": "code",
      "metadata": {
        "id": "0-brqlFnKtMU"
      },
      "source": [
        "final_data_eat= final_data[final_data.eating_video==1]\n",
        "final_data_rum= final_data[final_data.rumination_video==1]\n",
        "final_data_rest= final_data[final_data.resting_video==1]\n",
        "final_data_drink= final_data[final_data.drinking_video==1]\n",
        "final_data_sleep= final_data[final_data.sleeping_video==1]"
      ],
      "execution_count": null,
      "outputs": []
    },
    {
      "cell_type": "code",
      "metadata": {
        "id": "GLU6ARo2KDX0"
      },
      "source": [
        "final_data_02= final_data[final_data.cow_number==2.0]\n",
        "final_data_13= final_data[final_data.cow_number==13.0]\n",
        "final_data_21= final_data[final_data.cow_number==21.0]\n",
        "final_data_84= final_data[final_data.cow_number==84]\n"
      ],
      "execution_count": null,
      "outputs": []
    },
    {
      "cell_type": "code",
      "metadata": {
        "id": "hlFuIhzKpcgE"
      },
      "source": [
        "np.unique(final_data['behaviour'], return_counts=True)"
      ],
      "execution_count": null,
      "outputs": []
    },
    {
      "cell_type": "markdown",
      "metadata": {
        "id": "rwhIalEF3upw"
      },
      "source": [
        "# Create boxplots of time interval between waves"
      ]
    },
    {
      "cell_type": "code",
      "metadata": {
        "id": "DuLtGgqCrH-8",
        "colab": {
          "base_uri": "https://localhost:8080/",
          "height": 279
        },
        "outputId": "903a16a4-b6dc-4dd6-a027-aa74bb6f10f8"
      },
      "source": [
        "import pandas as pd\n",
        "import matplotlib.pyplot as plt\n",
        "import seaborn as sns\n",
        "\n",
        "sns.boxplot(x=\"behaviour\", y=\"low_time\",orient='v', data=final_data_corrected, showfliers=False)\n",
        "plt.xlabel('Behaviour')\n",
        "plt.ylabel('Time interval between contractions (s)')\n",
        "plt.show()"
      ],
      "execution_count": null,
      "outputs": [
        {
          "output_type": "display_data",
          "data": {
            "image/png": "[encoded data removed]",
            "text/plain": [
              "<Figure size 432x288 with 1 Axes>"
            ]
          },
          "metadata": {
            "tags": [],
            "needs_background": "light"
          }
        }
      ]
    },
    {
      "cell_type": "code",
      "metadata": {
        "id": "pRJv_1_DQFwB"
      },
      "source": [
        "final_data_rest.describe()"
      ],
      "execution_count": null,
      "outputs": []
    },
    {
      "cell_type": "markdown",
      "metadata": {
        "id": "2ceP3yMqPBln"
      },
      "source": [
        "# Confusion Matrix"
      ]
    },
    {
      "cell_type": "markdown",
      "metadata": {
        "id": "MLE50VBz3bu-"
      },
      "source": [
        "[Explanation for scores](https://www.geeksforgeeks.org/confusion-matrix-machine-learning/)"
      ]
    },
    {
      "cell_type": "code",
      "metadata": {
        "id": "oeImDZLP78jH"
      },
      "source": [
        "from sklearn.metrics import confusion_matrix\n",
        "from sklearn.metrics import accuracy_score \n",
        "from sklearn.metrics import classification_report \n",
        "from sklearn.model_selection import train_test_split\n",
        "from sklearn.preprocessing import StandardScaler\n",
        "from sklearn.ensemble import RandomForestClassifier\n",
        "from sklearn.externals import joblib"
      ],
      "execution_count": null,
      "outputs": []
    },
    {
      "cell_type": "code",
      "metadata": {
        "id": "qldChbMnoGl9"
      },
      "source": [
        "results = confusion_matrix(final_data_corrected['rumination_video'], final_data_corrected['rumination_alg'])\n",
        "\n",
        "print('Confusion Matrix Algoritm Rob with data Maurits:')\n",
        "print(results) \n",
        "print('Accuracy Score : ', accuracy_score(final_data_corrected['rumination_video'], final_data_corrected['rumination_alg']))\n",
        "print('Report : ')\n",
        "print(classification_report(final_data_corrected['rumination_video'], final_data_corrected['rumination_alg']))"
      ],
      "execution_count": null,
      "outputs": []
    },
    {
      "cell_type": "code",
      "metadata": {
        "id": "UoMlx0GY7_3_"
      },
      "source": [
        "results = confusion_matrix(final_data['rumination_video'], final_data['rumination_alg'])\n",
        "\n",
        "print('Confusion Matrix:')\n",
        "print(results) \n",
        "print('Accuracy Score : ', accuracy_score(final_data['rumination_video'], final_data['rumination_alg']))\n",
        "print('Report : ')\n",
        "print(classification_report(final_data['rumination_video'], final_data['rumination_alg']))"
      ],
      "execution_count": null,
      "outputs": []
    },
    {
      "cell_type": "code",
      "metadata": {
        "id": "df6wfbCuKEQG"
      },
      "source": [
        "results_corrected = confusion_matrix(final_data_corrected['rumination_video'], final_data_corrected['rumination_alg'])\n",
        "\n",
        "print('Confusion Matrix Corrected Data without measuring errors :')\n",
        "print(results) \n",
        "print('Accuracy Score : ', accuracy_score(final_data_corrected['rumination_video'], final_data_corrected['rumination_alg']))\n",
        "print('Report : ')\n",
        "print(classification_report(final_data_corrected['rumination_video'], final_data_corrected['rumination_alg']))"
      ],
      "execution_count": null,
      "outputs": []
    },
    {
      "cell_type": "code",
      "metadata": {
        "id": "GvLUvQniHn3U"
      },
      "source": [
        "results_selected = confusion_matrix(final_data_selected['rumination_video'], final_data_selected['rumination_alg'])\n",
        "\n",
        "print('Confusion Matrix :')\n",
        "print(results) \n",
        "print('Accuracy Score : ', accuracy_score(final_data_selected['rumination_video'], final_data_selected['rumination_alg']))\n",
        "print('Report : ')\n",
        "print(classification_report(final_data_selected['rumination_video'], final_data_selected['rumination_alg']))"
      ],
      "execution_count": null,
      "outputs": []
    },
    {
      "cell_type": "markdown",
      "metadata": {
        "id": "PniVLutKI6J3"
      },
      "source": [
        "# Cross tables"
      ]
    },
    {
      "cell_type": "code",
      "metadata": {
        "id": "FnHiViMgNui5"
      },
      "source": [
        "pd.crosstab(df_concat_video.code_1_5, columns=\"count\").apply(lambda r: r/len(df_concat_video), axis=1)"
      ],
      "execution_count": null,
      "outputs": []
    },
    {
      "cell_type": "code",
      "metadata": {
        "id": "wRjVQe9cItac"
      },
      "source": [
        "pd.crosstab(df_concat_processed.rumination_alg,columns=\"count\")"
      ],
      "execution_count": null,
      "outputs": []
    },
    {
      "cell_type": "code",
      "metadata": {
        "id": "Yrez9aeWKwPS"
      },
      "source": [
        "pd.crosstab(df_concat_video.rumination_video, columns=\"count\")"
      ],
      "execution_count": null,
      "outputs": []
    },
    {
      "cell_type": "code",
      "metadata": {
        "id": "mksFxopmT4_n"
      },
      "source": [
        "pd.crosstab(final_data_selected.code_1_5, final_data_selected.rumination_alg)"
      ],
      "execution_count": null,
      "outputs": []
    },
    {
      "cell_type": "markdown",
      "metadata": {
        "id": "eSqB6UaHZDSg"
      },
      "source": [
        "# Descriptive statistics data"
      ]
    },
    {
      "cell_type": "code",
      "metadata": {
        "id": "IMgsvGRddIhw"
      },
      "source": [
        "from scipy.stats import iqr\n"
      ],
      "execution_count": null,
      "outputs": []
    },
    {
      "cell_type": "code",
      "metadata": {
        "id": "2yutnU2cn2Yf"
      },
      "source": [
        "final_data_eat.count()"
      ],
      "execution_count": null,
      "outputs": []
    },
    {
      "cell_type": "code",
      "metadata": {
        "id": "VmTJ-Z0frWk3"
      },
      "source": [
        "final_data_rest.count()"
      ],
      "execution_count": null,
      "outputs": []
    },
    {
      "cell_type": "code",
      "metadata": {
        "id": "pKGuIoyfrML8"
      },
      "source": [
        "final_data_rum.count()"
      ],
      "execution_count": null,
      "outputs": []
    },
    {
      "cell_type": "code",
      "metadata": {
        "id": "xrjN0LixuVx6"
      },
      "source": [
        "final_data_sleep.count()"
      ],
      "execution_count": null,
      "outputs": []
    },
    {
      "cell_type": "code",
      "metadata": {
        "id": "NpibbezVuc2N"
      },
      "source": [
        "final_data_drink.count()"
      ],
      "execution_count": null,
      "outputs": []
    },
    {
      "cell_type": "code",
      "metadata": {
        "id": "V9hyOD4iKyd3"
      },
      "source": [
        "final_data_rest['low_time'].mean() "
      ],
      "execution_count": null,
      "outputs": []
    },
    {
      "cell_type": "code",
      "metadata": {
        "id": "q3B4123eK2aT"
      },
      "source": [
        "final_data_rest['low_time'].median() "
      ],
      "execution_count": null,
      "outputs": []
    },
    {
      "cell_type": "code",
      "metadata": {
        "id": "zMZlPJvBK2XV"
      },
      "source": [
        "final_data_rest['low_time'].std()"
      ],
      "execution_count": null,
      "outputs": []
    },
    {
      "cell_type": "code",
      "metadata": {
        "id": "A2vpe15JLERW"
      },
      "source": [
        "iqr(final_data_rest['low_time'])"
      ],
      "execution_count": null,
      "outputs": []
    },
    {
      "cell_type": "code",
      "metadata": {
        "id": "ePj8DCoa-ytN"
      },
      "source": [
        "final_data_eat['low_time'].mean() "
      ],
      "execution_count": null,
      "outputs": []
    },
    {
      "cell_type": "code",
      "metadata": {
        "id": "tWLiqXUGbknA"
      },
      "source": [
        "final_data_eat['low_time'].median() "
      ],
      "execution_count": null,
      "outputs": []
    },
    {
      "cell_type": "code",
      "metadata": {
        "id": "6WsP4LlItvu1"
      },
      "source": [
        "final_data_eat['low_time'].std()"
      ],
      "execution_count": null,
      "outputs": []
    },
    {
      "cell_type": "code",
      "metadata": {
        "id": "LDb9Do47hC0I"
      },
      "source": [
        "iqr(final_data_eat['low_time'])"
      ],
      "execution_count": null,
      "outputs": []
    },
    {
      "cell_type": "code",
      "metadata": {
        "id": "CcdciP7LbGkf"
      },
      "source": [
        "final_data_drink['low_time'].mean() "
      ],
      "execution_count": null,
      "outputs": []
    },
    {
      "cell_type": "code",
      "metadata": {
        "id": "XBomV44ev2Pd"
      },
      "source": [
        "final_data_drink['low_time'].std() "
      ],
      "execution_count": null,
      "outputs": []
    },
    {
      "cell_type": "code",
      "metadata": {
        "id": "fO4jNwk5v75Y"
      },
      "source": [
        "final_data_drink['low_time'].median() "
      ],
      "execution_count": null,
      "outputs": []
    },
    {
      "cell_type": "code",
      "metadata": {
        "id": "AEGiNC09v_h5"
      },
      "source": [
        "iqr(final_data_drink['low_time'])"
      ],
      "execution_count": null,
      "outputs": []
    },
    {
      "cell_type": "code",
      "metadata": {
        "id": "e9Pdx3fIbOEu"
      },
      "source": [
        "final_data_sleep['low_time'].mean() "
      ],
      "execution_count": null,
      "outputs": []
    },
    {
      "cell_type": "code",
      "metadata": {
        "id": "uRKmkKXVcyma"
      },
      "source": [
        "final_data_sleep['low_time'].median() "
      ],
      "execution_count": null,
      "outputs": []
    },
    {
      "cell_type": "code",
      "metadata": {
        "id": "eltgx3UiwUbY"
      },
      "source": [
        "iqr(final_data_sleep['low_time'])"
      ],
      "execution_count": null,
      "outputs": []
    },
    {
      "cell_type": "code",
      "metadata": {
        "id": "0hN2kMYZwUO5"
      },
      "source": [
        "final_data_sleep['low_time'].std() "
      ],
      "execution_count": null,
      "outputs": []
    },
    {
      "cell_type": "code",
      "metadata": {
        "id": "_3f3xNcac29R"
      },
      "source": [
        "iqr(final_data_rum['low_time'])"
      ],
      "execution_count": null,
      "outputs": []
    },
    {
      "cell_type": "code",
      "metadata": {
        "id": "VN-xAPLb-_o-"
      },
      "source": [
        "final_data_rum['low_time'].mean()"
      ],
      "execution_count": null,
      "outputs": []
    },
    {
      "cell_type": "code",
      "metadata": {
        "id": "MldTHkult4Ic"
      },
      "source": [
        "final_data_rum['low_time'].std()"
      ],
      "execution_count": null,
      "outputs": []
    },
    {
      "cell_type": "code",
      "metadata": {
        "id": "8DKW8jHatOYE"
      },
      "source": [
        "final_data_rum['low_time'].median()"
      ],
      "execution_count": null,
      "outputs": []
    },
    {
      "cell_type": "code",
      "metadata": {
        "id": "HtL1Y3FYsVIu"
      },
      "source": [
        "final_data_rest['low_time'].median()   "
      ],
      "execution_count": null,
      "outputs": []
    },
    {
      "cell_type": "code",
      "metadata": {
        "id": "26eMQwc2fLVe"
      },
      "source": [
        "iqr(final_data_rest['low_time'])"
      ],
      "execution_count": null,
      "outputs": []
    },
    {
      "cell_type": "code",
      "metadata": {
        "id": "eiJS6PVW_FfU"
      },
      "source": [
        "final_data_rest['low_time'].mean()  "
      ],
      "execution_count": null,
      "outputs": []
    },
    {
      "cell_type": "code",
      "metadata": {
        "id": "sp-JBJWSuLkU"
      },
      "source": [
        "final_data_rest['low_time'].std()"
      ],
      "execution_count": null,
      "outputs": []
    },
    {
      "cell_type": "code",
      "metadata": {
        "id": "7ZQqFSidtU7W"
      },
      "source": [
        "final_data_sleep['low_time'].median()"
      ],
      "execution_count": null,
      "outputs": []
    },
    {
      "cell_type": "code",
      "metadata": {
        "id": "HbAbeX_KskCi"
      },
      "source": [
        "final_data_sleep['low_time'].mean()\n"
      ],
      "execution_count": null,
      "outputs": []
    },
    {
      "cell_type": "code",
      "metadata": {
        "id": "g4EEh70lfvRf"
      },
      "source": [
        "final_data_sleep['low_time'].std()"
      ],
      "execution_count": null,
      "outputs": []
    },
    {
      "cell_type": "code",
      "metadata": {
        "id": "xWhLJ5tafvAu"
      },
      "source": [
        "iqr(final_data_sleep['low_time'])"
      ],
      "execution_count": null,
      "outputs": []
    },
    {
      "cell_type": "code",
      "metadata": {
        "id": "KqOd690FgBsq"
      },
      "source": [
        "final_data_drink['low_time'].mean()"
      ],
      "execution_count": null,
      "outputs": []
    },
    {
      "cell_type": "code",
      "metadata": {
        "id": "CMTc3GtNgBzH"
      },
      "source": [
        "final_data_drink['low_time'].std()"
      ],
      "execution_count": null,
      "outputs": []
    },
    {
      "cell_type": "code",
      "metadata": {
        "id": "qLpqXxK6gBv6"
      },
      "source": [
        "final_data_drink['low_time'].median()"
      ],
      "execution_count": null,
      "outputs": []
    },
    {
      "cell_type": "code",
      "metadata": {
        "id": "XHCBvAG6NkX0"
      },
      "source": [
        "iqr(final_data_drink['low_time'])"
      ],
      "execution_count": null,
      "outputs": []
    },
    {
      "cell_type": "code",
      "metadata": {
        "id": "zkQHbRSpiSTn"
      },
      "source": [
        "import matplotlib.pyplot as plt\n",
        "final_data_eat['low_time'].plot.box( xticks=[]);\n",
        "final_data_sleep['low_time'].plot.box( xticks=[]);\n",
        "plt.xlabel('Eating');\n",
        "\n",
        "plt.show(block=True);"
      ],
      "execution_count": null,
      "outputs": []
    },
    {
      "cell_type": "code",
      "metadata": {
        "id": "-Nai61qBgBjF"
      },
      "source": [
        "iqr(final_data_drink['low_time'])"
      ],
      "execution_count": null,
      "outputs": []
    }
  ]
}